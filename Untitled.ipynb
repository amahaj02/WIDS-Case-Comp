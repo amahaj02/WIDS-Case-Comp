{
 "cells": [
  {
   "cell_type": "code",
   "execution_count": 3,
   "id": "c87876cc-8940-4dca-8168-f552f6c399e1",
   "metadata": {},
   "outputs": [
    {
     "name": "stderr",
     "output_type": "stream",
     "text": [
      "Warning message in system(\"kaggle competitions download -c effects-of-policy-on-the-housing-market\"):\n",
      "“error in running command”\n",
      "Warning message in unzip(\"effects-of-policy-on-the-housing-market.zip\", exdir = \"data\"):\n",
      "“error 1 in extracting from zip file”\n"
     ]
    },
    {
     "data": {
      "text/html": [],
      "text/latex": [],
      "text/markdown": [],
      "text/plain": [
       "character(0)"
      ]
     },
     "metadata": {},
     "output_type": "display_data"
    },
    {
     "name": "stderr",
     "output_type": "stream",
     "text": [
      "Warning message in file(file, \"rt\"):\n",
      "“cannot open file 'data/housing_data.csv': No such file or directory”\n"
     ]
    },
    {
     "ename": "ERROR",
     "evalue": "Error in file(file, \"rt\"): cannot open the connection\n",
     "output_type": "error",
     "traceback": [
      "Error in file(file, \"rt\"): cannot open the connection\nTraceback:\n",
      "1. read.csv(\"data/housing_data.csv\")",
      "2. read.table(file = file, header = header, sep = sep, quote = quote, \n .     dec = dec, fill = fill, comment.char = comment.char, ...)",
      "3. file(file, \"rt\")"
     ]
    }
   ],
   "source": [
    "# Use the system command to download the dataset from the Kaggle competition\n",
    "system(\"kaggle competitions download -c effects-of-policy-on-the-housing-market\")\n",
    "\n",
    "# Unzip the downloaded file\n",
    "unzip(\"effects-of-policy-on-the-housing-market.zip\", exdir = \"data\")\n",
    "\n",
    "# List the files in the data directory to verify\n",
    "list.files(\"data\")\n",
    "\n",
    "# Read the dataset (assuming it's a CSV file)\n",
    "housing_data <- read.csv(\"data/housing_data.csv\")\n",
    "\n",
    "# View the first few rows of the data\n",
    "head(housing_data)"
   ]
  },
  {
   "cell_type": "code",
   "execution_count": null,
   "id": "3db8e2c9-d936-4d28-a371-d5d70b0483bf",
   "metadata": {},
   "outputs": [],
   "source": []
  }
 ],
 "metadata": {
  "kernelspec": {
   "display_name": "R",
   "language": "R",
   "name": "ir"
  },
  "language_info": {
   "codemirror_mode": "r",
   "file_extension": ".r",
   "mimetype": "text/x-r-source",
   "name": "R",
   "pygments_lexer": "r",
   "version": "4.3.3"
  }
 },
 "nbformat": 4,
 "nbformat_minor": 5
}
