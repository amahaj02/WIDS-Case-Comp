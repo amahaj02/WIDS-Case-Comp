{
 "cells": [
  {
   "cell_type": "code",
   "execution_count": 217,
   "id": "bf623b3f-4c91-4bf7-bff0-031881d30d29",
   "metadata": {},
   "outputs": [],
   "source": [
    "library(glmnet)\n",
    "library(dplyr)\n",
    "library(tidyverse)\n",
    "library(caret)"
   ]
  },
  {
   "cell_type": "markdown",
   "id": "c75b2bcb-9923-47f3-bf6b-0da0010f05ef",
   "metadata": {},
   "source": [
    "**<h3>Best so far</h3>**"
   ]
  },
  {
   "cell_type": "code",
   "execution_count": 220,
   "id": "08cdb847-d9e1-4163-8df3-136dee303ec6",
   "metadata": {},
   "outputs": [
    {
     "name": "stderr",
     "output_type": "stream",
     "text": [
      "Warning message:\n",
      "“\u001b[1m\u001b[22mThere was 1 warning in `mutate()`.\n",
      "\u001b[1m\u001b[22m\u001b[36mℹ\u001b[39m In argument: `price = as.numeric(price)`.\n",
      "Caused by warning:\n",
      "\u001b[33m!\u001b[39m NAs introduced by coercion”\n",
      "Warning message:\n",
      "“\u001b[1m\u001b[22mThere was 1 warning in `mutate()`.\n",
      "\u001b[1m\u001b[22m\u001b[36mℹ\u001b[39m In argument: `price = as.numeric(price)`.\n",
      "Caused by warning:\n",
      "\u001b[33m!\u001b[39m NAs introduced by coercion”\n"
     ]
    }
   ],
   "source": [
    "train_clean <- read.csv(\"train.csv\") %>%\n",
    "    mutate(price = substr(price, 2, nchar(price)),\n",
    "          host_response_rate = substr(host_response_rate, 1, nchar(host_response_rate) - 1),\n",
    "          host_acceptance_rate = substr(host_acceptance_rate, 1, nchar(host_acceptance_rate) - 1),\n",
    "          price = as.numeric(price),\n",
    "          host_response_rate = as.numeric(host_response_rate),\n",
    "          host_acceptance_rate = as.numeric(host_acceptance_rate)) %>%\n",
    "    select(-X, -id, -name, -neighborhood_overview, -host_id, -host_name, \n",
    "           -neighbourhood, -latitude, -longitude, -host_response_time, -host_response_rate, -host_acceptance_rate, \n",
    "           -host_is_superhost, -host_listings_count, -host_total_listings_count, -bathrooms, -bedrooms, -amenities,\n",
    "          -minimum_nights, -maximum_nights, -minimum_nights_avg_ntm, -maximum_nights_avg_ntm, \n",
    "          -review_scores_rating, -review_scores_accuracy, -review_scores_cleanliness, -review_scores_checkin, \n",
    "           -review_scores_communication, -review_scores_location, -review_scores_value, -number_of_reviews, \n",
    "           -number_of_reviews_ltm, -calculated_host_listings_count, -reviews_per_month, neighbourhood_cleansed,\n",
    "           property_type, room_type) %>%\n",
    "    mutate(property_type = if_else(property_type %in% c(\"Camper/RV\", \"Entire home\", \n",
    "                                                        \"Entire villa\", \"Private room in bungalow\", \"Private room in condo\",\n",
    "                                                        \"Room in hotel\"),\n",
    "                                  property_type,\n",
    "                                  \"Other\"),\n",
    "          neighbourhood_cleansed = if_else(neighbourhood_cleansed %in% c(\"Downtown Eastside\", \"Dunbar Southlands\",\n",
    "                                                                         \"Grandview-Woodland\", \"Killarney\", \"Kitsilano\", \n",
    "                                                                         \"Marpole\", \"Mount Pleasant\", \"Oakridge\", \n",
    "                                                                         \"West End\", \"West Point Grey\"),\n",
    "                                          neighbourhood_cleansed,\n",
    "                                          \"Other\"),\n",
    "          room_type = if_else(room_type %in% c(\"Private room\", \"Shared room\"),\n",
    "                             room_type,\n",
    "                             \"Other\"))\n",
    "dmy <- dummyVars(\" ~ .\", data = train_clean)\n",
    "train_clean <- data.frame(predict(dmy, newdata = train_clean))\n",
    "\n",
    "test_clean <- read.csv(\"test.csv\") %>%\n",
    "    mutate(price = substr(price, 2, nchar(price)),\n",
    "          host_response_rate = substr(host_response_rate, 1, nchar(host_response_rate) - 1),\n",
    "          host_acceptance_rate = substr(host_acceptance_rate, 1, nchar(host_acceptance_rate) - 1),\n",
    "          price = as.numeric(price),\n",
    "          host_response_rate = as.numeric(host_response_rate),\n",
    "          host_acceptance_rate = as.numeric(host_acceptance_rate)) %>%\n",
    "    select(-id, -name, -neighborhood_overview, -host_id, -host_name, \n",
    "           -neighbourhood, -latitude, -longitude, -host_response_time, -host_response_rate, -host_acceptance_rate, \n",
    "           -host_is_superhost, -host_listings_count, -host_total_listings_count, -bathrooms, -bedrooms, -amenities,\n",
    "          -minimum_nights, -maximum_nights, -minimum_nights_avg_ntm, -maximum_nights_avg_ntm, \n",
    "          -review_scores_rating, -review_scores_accuracy, -review_scores_cleanliness, -review_scores_checkin, \n",
    "           -review_scores_communication, -review_scores_location, -review_scores_value, -number_of_reviews, \n",
    "           -number_of_reviews_ltm, -calculated_host_listings_count, -reviews_per_month, neighbourhood_cleansed,\n",
    "           property_type, room_type) %>%\n",
    "    mutate(property_type = if_else(property_type %in% c(\"Camper/RV\", \"Entire home\", \n",
    "                                                        \"Entire villa\", \"Private room in bungalow\", \"Private room in condo\",\n",
    "                                                        \"Room in hotel\"),\n",
    "                                  property_type,\n",
    "                                  \"Other\"),\n",
    "          neighbourhood_cleansed = if_else(neighbourhood_cleansed %in% c(\"Downtown Eastside\", \"Dunbar Southlands\",\n",
    "                                                                         \"Grandview-Woodland\", \"Killarney\", \"Kitsilano\", \n",
    "                                                                         \"Marpole\", \"Mount Pleasant\", \"Oakridge\", \n",
    "                                                                         \"West End\", \"West Point Grey\"),\n",
    "                                          neighbourhood_cleansed,\n",
    "                                          \"Other\"),\n",
    "          room_type = if_else(room_type %in% c(\"Private room\", \"Shared room\"),\n",
    "                             room_type,\n",
    "                             \"Other\"))\n",
    "dmy <- dummyVars(\" ~ .\", data = test_clean)\n",
    "test_clean <- data.frame(predict(dmy, newdata = test_clean))"
   ]
  },
  {
   "cell_type": "code",
   "execution_count": 221,
   "id": "4627a21d-c4c6-4417-ad7c-9a4c91974a8f",
   "metadata": {},
   "outputs": [
    {
     "data": {
      "text/html": [
       "4.7962341874444"
      ],
      "text/latex": [
       "4.7962341874444"
      ],
      "text/markdown": [
       "4.7962341874444"
      ],
      "text/plain": [
       "[1] 4.796234"
      ]
     },
     "metadata": {},
     "output_type": "display_data"
    },
    {
     "data": {
      "text/plain": [
       "31 x 1 sparse Matrix of class \"dgCMatrix\"\n",
       "                                                    s0\n",
       "(Intercept)                               8.897241e+02\n",
       "neighbourhood_cleansedDowntown.Eastside   7.933144e+01\n",
       "neighbourhood_cleansedDunbar.Southlands  -1.402891e+02\n",
       "neighbourhood_cleansedGrandview.Woodland  1.540584e+02\n",
       "neighbourhood_cleansedKillarney           1.541169e+02\n",
       "neighbourhood_cleansedKitsilano           3.858718e+01\n",
       "neighbourhood_cleansedMarpole            -7.077877e+01\n",
       "neighbourhood_cleansedMount.Pleasant     -6.145375e+01\n",
       "neighbourhood_cleansedOakridge            1.271094e+02\n",
       "neighbourhood_cleansedOther               .           \n",
       "neighbourhood_cleansedWest.End           -3.928377e+01\n",
       "neighbourhood_cleansedWest.Point.Grey    -5.946276e+01\n",
       "property_typeCamper.RV                   -4.646034e+02\n",
       "property_typeEntire.home                  9.211234e+02\n",
       "property_typeEntire.villa                -5.629610e+02\n",
       "property_typeOther                       -4.069021e+01\n",
       "property_typePrivate.room.in.bungalow     4.685854e+02\n",
       "property_typePrivate.room.in.condo        3.096851e+02\n",
       "property_typeRoom.in.hotel               -9.945713e+02\n",
       "room_typeOther                            .           \n",
       "room_typePrivate.room                     6.106774e+01\n",
       "room_typeShared.room                     -1.849701e+02\n",
       "accommodates                              2.069474e+02\n",
       "beds                                      3.371386e+01\n",
       "price                                     .           \n",
       "availability_30                           .           \n",
       "availability_60                           .           \n",
       "availability_90                          -3.606775e-01\n",
       "availability_365                         -4.547506e-01\n",
       "instant_bookablef                         9.645528e+01\n",
       "instant_bookablet                        -8.865160e-11"
      ]
     },
     "metadata": {},
     "output_type": "display_data"
    },
    {
     "data": {
      "text/html": [
       "0.286512247430433"
      ],
      "text/latex": [
       "0.286512247430433"
      ],
      "text/markdown": [
       "0.286512247430433"
      ],
      "text/plain": [
       "[1] 0.2865122"
      ]
     },
     "metadata": {},
     "output_type": "display_data"
    },
    {
     "data": {
      "text/html": [
       "6799093664.06369"
      ],
      "text/latex": [
       "6799093664.06369"
      ],
      "text/markdown": [
       "6799093664.06369"
      ],
      "text/plain": [
       "[1] 6799093664"
      ]
     },
     "metadata": {},
     "output_type": "display_data"
    },
    {
     "data": {
      "image/png": "[encoded data removed]",
      "text/plain": [
       "plot without title"
      ]
     },
     "metadata": {
      "image/png": {
       "height": 420,
       "width": 420
      }
     },
     "output_type": "display_data"
    }
   ],
   "source": [
    "y_n0 <- train_clean$monthly_revenue\n",
    "x_n0 <- makeX(train_clean %>% select(-monthly_revenue),\n",
    "          na.impute = TRUE)\n",
    "\n",
    "cv_model_n0 <- cv.glmnet(x_n0, y_n0, alpha = 1)\n",
    "\n",
    "best_lambda_n0 <- cv_model_n0$lambda.min\n",
    "best_lambda_n0\n",
    "\n",
    "plot(cv_model_n0) \n",
    "\n",
    "best_model_n0 <- glmnet(x_n0, y_n0, alpha = 1, lambda = best_lambda_n0)\n",
    "coef(best_model_n0)\n",
    "\n",
    "pred_y_n0 <- predict(best_model_n0, s = best_lambda_n0, newx = x_n0)\n",
    "\n",
    "sst_n0 <- sum((y_n0 - mean(y_n0))^2)\n",
    "sse_n0 <- sum((pred_y_n0 - y_n0)^2)\n",
    "\n",
    "rsq_n0 <- 1 - sse_n0/sst_n0\n",
    "rsq_n0\n",
    "sse_n0 "
   ]
  },
  {
   "cell_type": "code",
   "execution_count": 223,
   "id": "b3129d3b-84fb-429c-8f52-f2accb014fa6",
   "metadata": {},
   "outputs": [],
   "source": [
    "x_clean <- makeX(test_clean,\n",
    "          na.impute = TRUE)\n",
    "\n",
    "test_pred_y_clean <- predict(best_model_n0, s = best_lambda_n0, newx = x_clean)"
   ]
  },
  {
   "cell_type": "code",
   "execution_count": 224,
   "id": "6a417ab8-bf06-4a1a-a437-24c256b01298",
   "metadata": {},
   "outputs": [
    {
     "data": {
      "text/html": [
       "<table class=\"dataframe\">\n",
       "<caption>A data.frame: 6 × 2</caption>\n",
       "<thead>\n",
       "\t<tr><th></th><th scope=col>id</th><th scope=col>predictions</th></tr>\n",
       "\t<tr><th></th><th scope=col>&lt;chr&gt;</th><th scope=col>&lt;dbl&gt;</th></tr>\n",
       "</thead>\n",
       "<tbody>\n",
       "\t<tr><th scope=row>1</th><td>4465400           </td><td>3731.432</td></tr>\n",
       "\t<tr><th scope=row>2</th><td>608629349064811166</td><td>1393.098</td></tr>\n",
       "\t<tr><th scope=row>3</th><td>981894508939312892</td><td>1735.251</td></tr>\n",
       "\t<tr><th scope=row>4</th><td>52014961          </td><td>1755.385</td></tr>\n",
       "\t<tr><th scope=row>5</th><td>836285112356489303</td><td>1073.438</td></tr>\n",
       "\t<tr><th scope=row>6</th><td>729730483477613494</td><td>1840.707</td></tr>\n",
       "</tbody>\n",
       "</table>\n"
      ],
      "text/latex": [
       "A data.frame: 6 × 2\n",
       "\\begin{tabular}{r|ll}\n",
       "  & id & predictions\\\\\n",
       "  & <chr> & <dbl>\\\\\n",
       "\\hline\n",
       "\t1 & 4465400            & 3731.432\\\\\n",
       "\t2 & 608629349064811166 & 1393.098\\\\\n",
       "\t3 & 981894508939312892 & 1735.251\\\\\n",
       "\t4 & 52014961           & 1755.385\\\\\n",
       "\t5 & 836285112356489303 & 1073.438\\\\\n",
       "\t6 & 729730483477613494 & 1840.707\\\\\n",
       "\\end{tabular}\n"
      ],
      "text/markdown": [
       "\n",
       "A data.frame: 6 × 2\n",
       "\n",
       "| <!--/--> | id &lt;chr&gt; | predictions &lt;dbl&gt; |\n",
       "|---|---|---|\n",
       "| 1 | 4465400            | 3731.432 |\n",
       "| 2 | 608629349064811166 | 1393.098 |\n",
       "| 3 | 981894508939312892 | 1735.251 |\n",
       "| 4 | 52014961           | 1755.385 |\n",
       "| 5 | 836285112356489303 | 1073.438 |\n",
       "| 6 | 729730483477613494 | 1840.707 |\n",
       "\n"
      ],
      "text/plain": [
       "  id                 predictions\n",
       "1 4465400            3731.432   \n",
       "2 608629349064811166 1393.098   \n",
       "3 981894508939312892 1735.251   \n",
       "4 52014961           1755.385   \n",
       "5 836285112356489303 1073.438   \n",
       "6 729730483477613494 1840.707   "
      ]
     },
     "metadata": {},
     "output_type": "display_data"
    }
   ],
   "source": [
    "latest <- data.frame(read.csv(\"test.csv\", colClasses = c(\"id\" = \"character\"))$id, test_pred_y_clean)\n",
    "colnames(latest) <- c(\"id\", \"predictions\")\n",
    "head(latest)\n",
    "write.csv(latest, \"latest_clean.csv\", row.names = FALSE)"
   ]
  },
  {
   "cell_type": "markdown",
   "id": "64dca241-b4bf-47c9-b358-bd7cb082afa1",
   "metadata": {},
   "source": [
    "**<h3>Second Best</h3>**"
   ]
  },
  {
   "cell_type": "code",
   "execution_count": 10,
   "id": "c87876cc-8940-4dca-8168-f552f6c399e1",
   "metadata": {},
   "outputs": [],
   "source": [
    "train_data <- read.csv(\"train.csv\")\n",
    "test_data <- read.csv(\"test.csv\", colClasses = c(\"id\" = \"character\"))"
   ]
  },
  {
   "cell_type": "code",
   "execution_count": 11,
   "id": "784da09b-15d4-47df-ad19-22d867edfa54",
   "metadata": {},
   "outputs": [
    {
     "name": "stderr",
     "output_type": "stream",
     "text": [
      "Warning message:\n",
      "“\u001b[1m\u001b[22mThere was 1 warning in `mutate()`.\n",
      "\u001b[1m\u001b[22m\u001b[36mℹ\u001b[39m In argument: `price = as.numeric(price)`.\n",
      "Caused by warning:\n",
      "\u001b[33m!\u001b[39m NAs introduced by coercion”\n"
     ]
    }
   ],
   "source": [
    "train_data <- train_data %>%\n",
    "    mutate(price = substr(price, 2, nchar(price)),\n",
    "          host_response_rate = substr(host_response_rate, 1, nchar(host_response_rate) - 1),\n",
    "          host_acceptance_rate = substr(host_acceptance_rate, 1, nchar(host_acceptance_rate) - 1)) %>%\n",
    "    mutate(price = as.numeric(price),\n",
    "           host_response_rate = as.numeric(host_response_rate),\n",
    "           host_acceptance_rate = as.numeric(host_acceptance_rate))"
   ]
  },
  {
   "cell_type": "code",
   "execution_count": 12,
   "id": "ba8a3139-0c8b-4b0f-b1ec-2429ffe893a7",
   "metadata": {},
   "outputs": [],
   "source": [
    "y <- train_data$monthly_revenue\n",
    "x <- makeX(train_data[ , c('accommodates','beds',\n",
    "                           'minimum_nights','maximum_nights',\n",
    "                           'maximum_nights_avg_ntm','availability_30','availability_60','availability_90',\n",
    "                           'availability_365','number_of_reviews','number_of_reviews_ltm',\n",
    "                           'review_scores_rating','review_scores_accuracy','review_scores_cleanliness',\n",
    "                           'review_scores_value','instant_bookable')],\n",
    "          na.impute = TRUE)"
   ]
  },
  {
   "cell_type": "code",
   "execution_count": 13,
   "id": "0cf1a30d-4299-4d61-9caa-5bd7a09de631",
   "metadata": {},
   "outputs": [
    {
     "data": {
      "text/html": [
       "6.34033933006228"
      ],
      "text/latex": [
       "6.34033933006228"
      ],
      "text/markdown": [
       "6.34033933006228"
      ],
      "text/plain": [
       "[1] 6.340339"
      ]
     },
     "metadata": {},
     "output_type": "display_data"
    },
    {
     "data": {
      "image/png": "[encoded data removed]",
      "text/plain": [
       "plot without title"
      ]
     },
     "metadata": {
      "image/png": {
       "height": 420,
       "width": 420
      }
     },
     "output_type": "display_data"
    }
   ],
   "source": [
    "cv_model <- cv.glmnet(x, y, alpha = 1)\n",
    "\n",
    "best_lambda <- cv_model$lambda.min\n",
    "best_lambda\n",
    "\n",
    "plot(cv_model) "
   ]
  },
  {
   "cell_type": "code",
   "execution_count": 14,
   "id": "dd91f003-d970-4464-bc07-4605586ffe47",
   "metadata": {},
   "outputs": [
    {
     "data": {
      "text/plain": [
       "18 x 1 sparse Matrix of class \"dgCMatrix\"\n",
       "                                     s0\n",
       "(Intercept)               -1.253769e+03\n",
       "accommodates               2.480781e+02\n",
       "beds                       7.964737e+01\n",
       "minimum_nights            -1.358631e+00\n",
       "maximum_nights             1.890918e-02\n",
       "maximum_nights_avg_ntm     4.194508e-02\n",
       "availability_30            .           \n",
       "availability_60            .           \n",
       "availability_90           -6.798770e-02\n",
       "availability_365          -5.321237e-01\n",
       "number_of_reviews         -8.130561e-02\n",
       "number_of_reviews_ltm     -4.161527e-01\n",
       "review_scores_rating       2.397033e+02\n",
       "review_scores_accuracy     .           \n",
       "review_scores_cleanliness  3.458855e+01\n",
       "review_scores_value        1.616754e+02\n",
       "instant_bookablef          9.033117e+01\n",
       "instant_bookablet         -3.309656e-11"
      ]
     },
     "metadata": {},
     "output_type": "display_data"
    }
   ],
   "source": [
    "best_model <- glmnet(x, y, alpha = 1, lambda = best_lambda)\n",
    "coef(best_model)"
   ]
  },
  {
   "cell_type": "code",
   "execution_count": 15,
   "id": "9a5fe731-fb1b-4289-8ef9-41e2b6d16b3d",
   "metadata": {},
   "outputs": [
    {
     "data": {
      "text/html": [
       "0.227245834783684"
      ],
      "text/latex": [
       "0.227245834783684"
      ],
      "text/markdown": [
       "0.227245834783684"
      ],
      "text/plain": [
       "[1] 0.2272458"
      ]
     },
     "metadata": {},
     "output_type": "display_data"
    },
    {
     "data": {
      "text/html": [
       "7363865644.05504"
      ],
      "text/latex": [
       "7363865644.05504"
      ],
      "text/markdown": [
       "7363865644.05504"
      ],
      "text/plain": [
       "[1] 7363865644"
      ]
     },
     "metadata": {},
     "output_type": "display_data"
    }
   ],
   "source": [
    "pred_y <- predict(best_model, s = best_lambda, newx = x)\n",
    "\n",
    "sst <- sum((y - mean(y))^2)\n",
    "sse <- sum((pred_y - y)^2)\n",
    "\n",
    "rsq <- 1 - sse/sst\n",
    "rsq\n",
    "sse "
   ]
  },
  {
   "cell_type": "code",
   "execution_count": 16,
   "id": "8b508803-351f-4a40-805f-4efdfacd36f2",
   "metadata": {},
   "outputs": [
    {
     "data": {
      "text/html": [
       "<table class=\"dataframe\">\n",
       "<caption>A matrix: 6 × 1 of type dbl</caption>\n",
       "<thead>\n",
       "\t<tr><th></th><th scope=col>s1</th></tr>\n",
       "</thead>\n",
       "<tbody>\n",
       "\t<tr><th scope=row>1</th><td>1488.204</td></tr>\n",
       "\t<tr><th scope=row>2</th><td>2269.475</td></tr>\n",
       "\t<tr><th scope=row>3</th><td>2618.305</td></tr>\n",
       "\t<tr><th scope=row>4</th><td>1485.060</td></tr>\n",
       "\t<tr><th scope=row>5</th><td>2093.809</td></tr>\n",
       "\t<tr><th scope=row>6</th><td>1299.889</td></tr>\n",
       "</tbody>\n",
       "</table>\n"
      ],
      "text/latex": [
       "A matrix: 6 × 1 of type dbl\n",
       "\\begin{tabular}{r|l}\n",
       "  & s1\\\\\n",
       "\\hline\n",
       "\t1 & 1488.204\\\\\n",
       "\t2 & 2269.475\\\\\n",
       "\t3 & 2618.305\\\\\n",
       "\t4 & 1485.060\\\\\n",
       "\t5 & 2093.809\\\\\n",
       "\t6 & 1299.889\\\\\n",
       "\\end{tabular}\n"
      ],
      "text/markdown": [
       "\n",
       "A matrix: 6 × 1 of type dbl\n",
       "\n",
       "| <!--/--> | s1 |\n",
       "|---|---|\n",
       "| 1 | 1488.204 |\n",
       "| 2 | 2269.475 |\n",
       "| 3 | 2618.305 |\n",
       "| 4 | 1485.060 |\n",
       "| 5 | 2093.809 |\n",
       "| 6 | 1299.889 |\n",
       "\n"
      ],
      "text/plain": [
       "  s1      \n",
       "1 1488.204\n",
       "2 2269.475\n",
       "3 2618.305\n",
       "4 1485.060\n",
       "5 2093.809\n",
       "6 1299.889"
      ]
     },
     "metadata": {},
     "output_type": "display_data"
    },
    {
     "data": {
      "text/html": [
       "<style>\n",
       ".list-inline {list-style: none; margin:0; padding: 0}\n",
       ".list-inline>li {display: inline-block}\n",
       ".list-inline>li:not(:last-child)::after {content: \"\\00b7\"; padding: 0 .5ex}\n",
       "</style>\n",
       "<ol class=list-inline><li>2108</li><li>2730</li><li>2254</li><li>3187</li><li>3479</li><li>0</li></ol>\n"
      ],
      "text/latex": [
       "\\begin{enumerate*}\n",
       "\\item 2108\n",
       "\\item 2730\n",
       "\\item 2254\n",
       "\\item 3187\n",
       "\\item 3479\n",
       "\\item 0\n",
       "\\end{enumerate*}\n"
      ],
      "text/markdown": [
       "1. 2108\n",
       "2. 2730\n",
       "3. 2254\n",
       "4. 3187\n",
       "5. 3479\n",
       "6. 0\n",
       "\n",
       "\n"
      ],
      "text/plain": [
       "[1] 2108 2730 2254 3187 3479    0"
      ]
     },
     "metadata": {},
     "output_type": "display_data"
    }
   ],
   "source": [
    "head(pred_y)\n",
    "head(y)"
   ]
  },
  {
   "cell_type": "code",
   "execution_count": 17,
   "id": "9c508963-4b84-4106-8160-912258d7adfc",
   "metadata": {},
   "outputs": [],
   "source": [
    "test_x <- makeX(test_data[ , c(\n",
    "                           'accommodates','beds',\n",
    "                           'minimum_nights','maximum_nights',\n",
    "                           'maximum_nights_avg_ntm','availability_30','availability_60','availability_90',\n",
    "                           'availability_365','number_of_reviews','number_of_reviews_ltm',\n",
    "                           'review_scores_rating','review_scores_accuracy','review_scores_cleanliness',\n",
    "                           'review_scores_value','instant_bookable')],\n",
    "          na.impute = TRUE)\n",
    "test_pred_y <- predict(best_model, s = best_lambda, newx = test_x)"
   ]
  },
  {
   "cell_type": "code",
   "execution_count": 18,
   "id": "78fc82fc-d7f2-47f6-9bfa-4ac176ad8b2b",
   "metadata": {},
   "outputs": [
    {
     "data": {
      "text/html": [
       "<table class=\"dataframe\">\n",
       "<caption>A data.frame: 6 × 2</caption>\n",
       "<thead>\n",
       "\t<tr><th></th><th scope=col>id</th><th scope=col>predictions</th></tr>\n",
       "\t<tr><th></th><th scope=col>&lt;chr&gt;</th><th scope=col>&lt;dbl&gt;</th></tr>\n",
       "</thead>\n",
       "<tbody>\n",
       "\t<tr><th scope=row>1</th><td>4465400           </td><td>3348.867</td></tr>\n",
       "\t<tr><th scope=row>2</th><td>608629349064811166</td><td>1483.334</td></tr>\n",
       "\t<tr><th scope=row>3</th><td>981894508939312892</td><td>2020.392</td></tr>\n",
       "\t<tr><th scope=row>4</th><td>52014961          </td><td>1959.779</td></tr>\n",
       "\t<tr><th scope=row>5</th><td>836285112356489303</td><td>1339.873</td></tr>\n",
       "\t<tr><th scope=row>6</th><td>729730483477613494</td><td>2100.476</td></tr>\n",
       "</tbody>\n",
       "</table>\n"
      ],
      "text/latex": [
       "A data.frame: 6 × 2\n",
       "\\begin{tabular}{r|ll}\n",
       "  & id & predictions\\\\\n",
       "  & <chr> & <dbl>\\\\\n",
       "\\hline\n",
       "\t1 & 4465400            & 3348.867\\\\\n",
       "\t2 & 608629349064811166 & 1483.334\\\\\n",
       "\t3 & 981894508939312892 & 2020.392\\\\\n",
       "\t4 & 52014961           & 1959.779\\\\\n",
       "\t5 & 836285112356489303 & 1339.873\\\\\n",
       "\t6 & 729730483477613494 & 2100.476\\\\\n",
       "\\end{tabular}\n"
      ],
      "text/markdown": [
       "\n",
       "A data.frame: 6 × 2\n",
       "\n",
       "| <!--/--> | id &lt;chr&gt; | predictions &lt;dbl&gt; |\n",
       "|---|---|---|\n",
       "| 1 | 4465400            | 3348.867 |\n",
       "| 2 | 608629349064811166 | 1483.334 |\n",
       "| 3 | 981894508939312892 | 2020.392 |\n",
       "| 4 | 52014961           | 1959.779 |\n",
       "| 5 | 836285112356489303 | 1339.873 |\n",
       "| 6 | 729730483477613494 | 2100.476 |\n",
       "\n"
      ],
      "text/plain": [
       "  id                 predictions\n",
       "1 4465400            3348.867   \n",
       "2 608629349064811166 1483.334   \n",
       "3 981894508939312892 2020.392   \n",
       "4 52014961           1959.779   \n",
       "5 836285112356489303 1339.873   \n",
       "6 729730483477613494 2100.476   "
      ]
     },
     "metadata": {},
     "output_type": "display_data"
    }
   ],
   "source": [
    "hello <- data.frame(test_data$id, test_pred_y)\n",
    "colnames(hello) <- c(\"id\", \"predictions\")\n",
    "head(hello)"
   ]
  },
  {
   "cell_type": "code",
   "execution_count": 19,
   "id": "a2a975b3-4918-4259-9ca1-5490a4d08893",
   "metadata": {},
   "outputs": [],
   "source": [
    "write.csv(hello, \"hello.csv\", row.names = FALSE)"
   ]
  },
  {
   "cell_type": "markdown",
   "id": "f202e700-4c0c-4b6a-adce-d7c6a37fa50b",
   "metadata": {},
   "source": [
    "**<h3>Separate regressions (not that good)</h3>**"
   ]
  },
  {
   "cell_type": "code",
   "execution_count": 44,
   "id": "a883f2fa-a260-4331-b520-3e72e5fe3a56",
   "metadata": {},
   "outputs": [
    {
     "name": "stderr",
     "output_type": "stream",
     "text": [
      "Warning message:\n",
      "“\u001b[1m\u001b[22mThere was 1 warning in `mutate()`.\n",
      "\u001b[1m\u001b[22m\u001b[36mℹ\u001b[39m In argument: `price = as.numeric(price)`.\n",
      "Caused by warning:\n",
      "\u001b[33m!\u001b[39m NAs introduced by coercion”\n"
     ]
    }
   ],
   "source": [
    "train <- read.csv(\"train.csv\") %>%\n",
    "    mutate(price = substr(price, 2, nchar(price)),\n",
    "          host_response_rate = substr(host_response_rate, 1, nchar(host_response_rate) - 1),\n",
    "          host_acceptance_rate = substr(host_acceptance_rate, 1, nchar(host_acceptance_rate) - 1)) %>%\n",
    "    mutate(price = as.numeric(price),\n",
    "           host_response_rate = as.numeric(host_response_rate),\n",
    "           host_acceptance_rate = as.numeric(host_acceptance_rate))\n",
    "\n",
    "test <- read.csv(\"test.csv\", colClasses = c(\"id\" = \"character\"))"
   ]
  },
  {
   "cell_type": "code",
   "execution_count": 45,
   "id": "26ee919b-6a57-4f05-a679-1d808fa304f7",
   "metadata": {},
   "outputs": [
    {
     "data": {
      "text/html": [
       "<style>\n",
       ".list-inline {list-style: none; margin:0; padding: 0}\n",
       ".list-inline>li {display: inline-block}\n",
       ".list-inline>li:not(:last-child)::after {content: \"\\00b7\"; padding: 0 .5ex}\n",
       "</style>\n",
       "<ol class=list-inline><li>'Entire home'</li><li>'Entire guest suite'</li><li>'Entire condo'</li><li>'Entire rental unit'</li><li>'Entire townhouse'</li><li>'Private room in guest suite'</li><li>'Private room in home'</li><li>'Private room in townhouse'</li><li>'Private room in condo'</li><li>'Private room in rental unit'</li><li>'Entire loft'</li><li>'Entire serviced apartment'</li><li>'Shared room in rental unit'</li><li>'Private room in guesthouse'</li><li>'Private room in villa'</li><li>'Room in boutique hotel'</li><li>'Entire guesthouse'</li><li>'Casa particular'</li><li>'Shared room in home'</li><li>'Private room in tiny home'</li><li>'Private room in loft'</li><li>'Tiny home'</li><li>'Entire timeshare'</li><li>'Entire vacation home'</li><li>'Camper/RV'</li><li>'Tower'</li><li>'Entire cabin'</li><li>'Room in aparthotel'</li><li>'Room in bed and breakfast'</li><li>'Private room in casa particular'</li><li>'Private room in bed and breakfast'</li><li>'Entire villa'</li><li>'Entire bungalow'</li><li>'Room in hotel'</li><li>'Entire place'</li><li>'Shared room in condo'</li><li>'Entire cottage'</li><li>'Private room in bungalow'</li><li>'Private room in boat'</li><li>'Private room in camper/rv'</li><li>'Boat'</li><li>'Shared room in villa'</li><li>'Private room in serviced apartment'</li><li>'Private room in castle'</li><li>'Cave'</li><li>'Shared room in loft'</li></ol>\n"
      ],
      "text/latex": [
       "\\begin{enumerate*}\n",
       "\\item 'Entire home'\n",
       "\\item 'Entire guest suite'\n",
       "\\item 'Entire condo'\n",
       "\\item 'Entire rental unit'\n",
       "\\item 'Entire townhouse'\n",
       "\\item 'Private room in guest suite'\n",
       "\\item 'Private room in home'\n",
       "\\item 'Private room in townhouse'\n",
       "\\item 'Private room in condo'\n",
       "\\item 'Private room in rental unit'\n",
       "\\item 'Entire loft'\n",
       "\\item 'Entire serviced apartment'\n",
       "\\item 'Shared room in rental unit'\n",
       "\\item 'Private room in guesthouse'\n",
       "\\item 'Private room in villa'\n",
       "\\item 'Room in boutique hotel'\n",
       "\\item 'Entire guesthouse'\n",
       "\\item 'Casa particular'\n",
       "\\item 'Shared room in home'\n",
       "\\item 'Private room in tiny home'\n",
       "\\item 'Private room in loft'\n",
       "\\item 'Tiny home'\n",
       "\\item 'Entire timeshare'\n",
       "\\item 'Entire vacation home'\n",
       "\\item 'Camper/RV'\n",
       "\\item 'Tower'\n",
       "\\item 'Entire cabin'\n",
       "\\item 'Room in aparthotel'\n",
       "\\item 'Room in bed and breakfast'\n",
       "\\item 'Private room in casa particular'\n",
       "\\item 'Private room in bed and breakfast'\n",
       "\\item 'Entire villa'\n",
       "\\item 'Entire bungalow'\n",
       "\\item 'Room in hotel'\n",
       "\\item 'Entire place'\n",
       "\\item 'Shared room in condo'\n",
       "\\item 'Entire cottage'\n",
       "\\item 'Private room in bungalow'\n",
       "\\item 'Private room in boat'\n",
       "\\item 'Private room in camper/rv'\n",
       "\\item 'Boat'\n",
       "\\item 'Shared room in villa'\n",
       "\\item 'Private room in serviced apartment'\n",
       "\\item 'Private room in castle'\n",
       "\\item 'Cave'\n",
       "\\item 'Shared room in loft'\n",
       "\\end{enumerate*}\n"
      ],
      "text/markdown": [
       "1. 'Entire home'\n",
       "2. 'Entire guest suite'\n",
       "3. 'Entire condo'\n",
       "4. 'Entire rental unit'\n",
       "5. 'Entire townhouse'\n",
       "6. 'Private room in guest suite'\n",
       "7. 'Private room in home'\n",
       "8. 'Private room in townhouse'\n",
       "9. 'Private room in condo'\n",
       "10. 'Private room in rental unit'\n",
       "11. 'Entire loft'\n",
       "12. 'Entire serviced apartment'\n",
       "13. 'Shared room in rental unit'\n",
       "14. 'Private room in guesthouse'\n",
       "15. 'Private room in villa'\n",
       "16. 'Room in boutique hotel'\n",
       "17. 'Entire guesthouse'\n",
       "18. 'Casa particular'\n",
       "19. 'Shared room in home'\n",
       "20. 'Private room in tiny home'\n",
       "21. 'Private room in loft'\n",
       "22. 'Tiny home'\n",
       "23. 'Entire timeshare'\n",
       "24. 'Entire vacation home'\n",
       "25. 'Camper/RV'\n",
       "26. 'Tower'\n",
       "27. 'Entire cabin'\n",
       "28. 'Room in aparthotel'\n",
       "29. 'Room in bed and breakfast'\n",
       "30. 'Private room in casa particular'\n",
       "31. 'Private room in bed and breakfast'\n",
       "32. 'Entire villa'\n",
       "33. 'Entire bungalow'\n",
       "34. 'Room in hotel'\n",
       "35. 'Entire place'\n",
       "36. 'Shared room in condo'\n",
       "37. 'Entire cottage'\n",
       "38. 'Private room in bungalow'\n",
       "39. 'Private room in boat'\n",
       "40. 'Private room in camper/rv'\n",
       "41. 'Boat'\n",
       "42. 'Shared room in villa'\n",
       "43. 'Private room in serviced apartment'\n",
       "44. 'Private room in castle'\n",
       "45. 'Cave'\n",
       "46. 'Shared room in loft'\n",
       "\n",
       "\n"
      ],
      "text/plain": [
       " [1] \"Entire home\"                        \"Entire guest suite\"                \n",
       " [3] \"Entire condo\"                       \"Entire rental unit\"                \n",
       " [5] \"Entire townhouse\"                   \"Private room in guest suite\"       \n",
       " [7] \"Private room in home\"               \"Private room in townhouse\"         \n",
       " [9] \"Private room in condo\"              \"Private room in rental unit\"       \n",
       "[11] \"Entire loft\"                        \"Entire serviced apartment\"         \n",
       "[13] \"Shared room in rental unit\"         \"Private room in guesthouse\"        \n",
       "[15] \"Private room in villa\"              \"Room in boutique hotel\"            \n",
       "[17] \"Entire guesthouse\"                  \"Casa particular\"                   \n",
       "[19] \"Shared room in home\"                \"Private room in tiny home\"         \n",
       "[21] \"Private room in loft\"               \"Tiny home\"                         \n",
       "[23] \"Entire timeshare\"                   \"Entire vacation home\"              \n",
       "[25] \"Camper/RV\"                          \"Tower\"                             \n",
       "[27] \"Entire cabin\"                       \"Room in aparthotel\"                \n",
       "[29] \"Room in bed and breakfast\"          \"Private room in casa particular\"   \n",
       "[31] \"Private room in bed and breakfast\"  \"Entire villa\"                      \n",
       "[33] \"Entire bungalow\"                    \"Room in hotel\"                     \n",
       "[35] \"Entire place\"                       \"Shared room in condo\"              \n",
       "[37] \"Entire cottage\"                     \"Private room in bungalow\"          \n",
       "[39] \"Private room in boat\"               \"Private room in camper/rv\"         \n",
       "[41] \"Boat\"                               \"Shared room in villa\"              \n",
       "[43] \"Private room in serviced apartment\" \"Private room in castle\"            \n",
       "[45] \"Cave\"                               \"Shared room in loft\"               "
      ]
     },
     "metadata": {},
     "output_type": "display_data"
    }
   ],
   "source": [
    "unique(train$property_type)"
   ]
  },
  {
   "cell_type": "markdown",
   "id": "f21ff425-2f41-420f-8849-42f7b36a6524",
   "metadata": {},
   "source": [
    "**ENTIRE**"
   ]
  },
  {
   "cell_type": "code",
   "execution_count": 36,
   "id": "06209cbe-18b3-4b9e-a170-68f80345e6fa",
   "metadata": {},
   "outputs": [],
   "source": [
    "train_e <- train %>%\n",
    "    filter(grepl(\"entire\", tolower(property_type), fixed = TRUE))"
   ]
  },
  {
   "cell_type": "code",
   "execution_count": 37,
   "id": "f8c859ca-e7a6-407d-8c6d-093b7c2825d6",
   "metadata": {},
   "outputs": [
    {
     "data": {
      "text/html": [
       "<style>\n",
       ".list-inline {list-style: none; margin:0; padding: 0}\n",
       ".list-inline>li {display: inline-block}\n",
       ".list-inline>li:not(:last-child)::after {content: \"\\00b7\"; padding: 0 .5ex}\n",
       "</style>\n",
       "<ol class=list-inline><li>'Entire home'</li><li>'Entire guest suite'</li><li>'Entire condo'</li><li>'Entire rental unit'</li><li>'Entire townhouse'</li><li>'Entire loft'</li><li>'Entire serviced apartment'</li><li>'Entire guesthouse'</li><li>'Entire timeshare'</li><li>'Entire vacation home'</li><li>'Entire cabin'</li><li>'Entire villa'</li><li>'Entire bungalow'</li><li>'Entire place'</li><li>'Entire cottage'</li></ol>\n"
      ],
      "text/latex": [
       "\\begin{enumerate*}\n",
       "\\item 'Entire home'\n",
       "\\item 'Entire guest suite'\n",
       "\\item 'Entire condo'\n",
       "\\item 'Entire rental unit'\n",
       "\\item 'Entire townhouse'\n",
       "\\item 'Entire loft'\n",
       "\\item 'Entire serviced apartment'\n",
       "\\item 'Entire guesthouse'\n",
       "\\item 'Entire timeshare'\n",
       "\\item 'Entire vacation home'\n",
       "\\item 'Entire cabin'\n",
       "\\item 'Entire villa'\n",
       "\\item 'Entire bungalow'\n",
       "\\item 'Entire place'\n",
       "\\item 'Entire cottage'\n",
       "\\end{enumerate*}\n"
      ],
      "text/markdown": [
       "1. 'Entire home'\n",
       "2. 'Entire guest suite'\n",
       "3. 'Entire condo'\n",
       "4. 'Entire rental unit'\n",
       "5. 'Entire townhouse'\n",
       "6. 'Entire loft'\n",
       "7. 'Entire serviced apartment'\n",
       "8. 'Entire guesthouse'\n",
       "9. 'Entire timeshare'\n",
       "10. 'Entire vacation home'\n",
       "11. 'Entire cabin'\n",
       "12. 'Entire villa'\n",
       "13. 'Entire bungalow'\n",
       "14. 'Entire place'\n",
       "15. 'Entire cottage'\n",
       "\n",
       "\n"
      ],
      "text/plain": [
       " [1] \"Entire home\"               \"Entire guest suite\"       \n",
       " [3] \"Entire condo\"              \"Entire rental unit\"       \n",
       " [5] \"Entire townhouse\"          \"Entire loft\"              \n",
       " [7] \"Entire serviced apartment\" \"Entire guesthouse\"        \n",
       " [9] \"Entire timeshare\"          \"Entire vacation home\"     \n",
       "[11] \"Entire cabin\"              \"Entire villa\"             \n",
       "[13] \"Entire bungalow\"           \"Entire place\"             \n",
       "[15] \"Entire cottage\"           "
      ]
     },
     "metadata": {},
     "output_type": "display_data"
    }
   ],
   "source": [
    "unique(train_e$property_type)"
   ]
  },
  {
   "cell_type": "markdown",
   "id": "902ae0bc-fc16-4a41-8b18-5e0c9e5402f9",
   "metadata": {},
   "source": [
    "**PRIVATE**"
   ]
  },
  {
   "cell_type": "code",
   "execution_count": 38,
   "id": "f3355b17-f68d-4875-8471-6b069ddff7bc",
   "metadata": {},
   "outputs": [],
   "source": [
    "train_p <- train %>%\n",
    "    filter(grepl(\"private\", tolower(property_type), fixed = TRUE))"
   ]
  },
  {
   "cell_type": "code",
   "execution_count": 39,
   "id": "a7724fd4-087f-430e-9ee9-c0754f1db3f3",
   "metadata": {},
   "outputs": [
    {
     "data": {
      "text/html": [
       "<style>\n",
       ".list-inline {list-style: none; margin:0; padding: 0}\n",
       ".list-inline>li {display: inline-block}\n",
       ".list-inline>li:not(:last-child)::after {content: \"\\00b7\"; padding: 0 .5ex}\n",
       "</style>\n",
       "<ol class=list-inline><li>'Private room in guest suite'</li><li>'Private room in home'</li><li>'Private room in townhouse'</li><li>'Private room in condo'</li><li>'Private room in rental unit'</li><li>'Private room in guesthouse'</li><li>'Private room in villa'</li><li>'Private room in tiny home'</li><li>'Private room in loft'</li><li>'Private room in casa particular'</li><li>'Private room in bed and breakfast'</li><li>'Private room in bungalow'</li><li>'Private room in boat'</li><li>'Private room in camper/rv'</li><li>'Private room in serviced apartment'</li><li>'Private room in castle'</li></ol>\n"
      ],
      "text/latex": [
       "\\begin{enumerate*}\n",
       "\\item 'Private room in guest suite'\n",
       "\\item 'Private room in home'\n",
       "\\item 'Private room in townhouse'\n",
       "\\item 'Private room in condo'\n",
       "\\item 'Private room in rental unit'\n",
       "\\item 'Private room in guesthouse'\n",
       "\\item 'Private room in villa'\n",
       "\\item 'Private room in tiny home'\n",
       "\\item 'Private room in loft'\n",
       "\\item 'Private room in casa particular'\n",
       "\\item 'Private room in bed and breakfast'\n",
       "\\item 'Private room in bungalow'\n",
       "\\item 'Private room in boat'\n",
       "\\item 'Private room in camper/rv'\n",
       "\\item 'Private room in serviced apartment'\n",
       "\\item 'Private room in castle'\n",
       "\\end{enumerate*}\n"
      ],
      "text/markdown": [
       "1. 'Private room in guest suite'\n",
       "2. 'Private room in home'\n",
       "3. 'Private room in townhouse'\n",
       "4. 'Private room in condo'\n",
       "5. 'Private room in rental unit'\n",
       "6. 'Private room in guesthouse'\n",
       "7. 'Private room in villa'\n",
       "8. 'Private room in tiny home'\n",
       "9. 'Private room in loft'\n",
       "10. 'Private room in casa particular'\n",
       "11. 'Private room in bed and breakfast'\n",
       "12. 'Private room in bungalow'\n",
       "13. 'Private room in boat'\n",
       "14. 'Private room in camper/rv'\n",
       "15. 'Private room in serviced apartment'\n",
       "16. 'Private room in castle'\n",
       "\n",
       "\n"
      ],
      "text/plain": [
       " [1] \"Private room in guest suite\"        \"Private room in home\"              \n",
       " [3] \"Private room in townhouse\"          \"Private room in condo\"             \n",
       " [5] \"Private room in rental unit\"        \"Private room in guesthouse\"        \n",
       " [7] \"Private room in villa\"              \"Private room in tiny home\"         \n",
       " [9] \"Private room in loft\"               \"Private room in casa particular\"   \n",
       "[11] \"Private room in bed and breakfast\"  \"Private room in bungalow\"          \n",
       "[13] \"Private room in boat\"               \"Private room in camper/rv\"         \n",
       "[15] \"Private room in serviced apartment\" \"Private room in castle\"            "
      ]
     },
     "metadata": {},
     "output_type": "display_data"
    }
   ],
   "source": [
    "unique(train_p$property_type)"
   ]
  },
  {
   "cell_type": "markdown",
   "id": "613171b5-0c2d-4de6-9ef0-73c7d8ce3792",
   "metadata": {},
   "source": [
    "**SHARED**"
   ]
  },
  {
   "cell_type": "code",
   "execution_count": 40,
   "id": "78a902e1-0f13-4182-8ccd-66eec8d3b149",
   "metadata": {},
   "outputs": [],
   "source": [
    "train_s <- train %>%\n",
    "    filter(grepl(\"shared\", tolower(property_type), fixed = TRUE))"
   ]
  },
  {
   "cell_type": "code",
   "execution_count": 41,
   "id": "8949b70a-e8ab-40d5-94aa-7a66023f49bc",
   "metadata": {},
   "outputs": [
    {
     "data": {
      "text/html": [
       "<style>\n",
       ".list-inline {list-style: none; margin:0; padding: 0}\n",
       ".list-inline>li {display: inline-block}\n",
       ".list-inline>li:not(:last-child)::after {content: \"\\00b7\"; padding: 0 .5ex}\n",
       "</style>\n",
       "<ol class=list-inline><li>'Shared room in rental unit'</li><li>'Shared room in home'</li><li>'Shared room in condo'</li><li>'Shared room in villa'</li><li>'Shared room in loft'</li></ol>\n"
      ],
      "text/latex": [
       "\\begin{enumerate*}\n",
       "\\item 'Shared room in rental unit'\n",
       "\\item 'Shared room in home'\n",
       "\\item 'Shared room in condo'\n",
       "\\item 'Shared room in villa'\n",
       "\\item 'Shared room in loft'\n",
       "\\end{enumerate*}\n"
      ],
      "text/markdown": [
       "1. 'Shared room in rental unit'\n",
       "2. 'Shared room in home'\n",
       "3. 'Shared room in condo'\n",
       "4. 'Shared room in villa'\n",
       "5. 'Shared room in loft'\n",
       "\n",
       "\n"
      ],
      "text/plain": [
       "[1] \"Shared room in rental unit\" \"Shared room in home\"       \n",
       "[3] \"Shared room in condo\"       \"Shared room in villa\"      \n",
       "[5] \"Shared room in loft\"       "
      ]
     },
     "metadata": {},
     "output_type": "display_data"
    }
   ],
   "source": [
    "unique(train_s$property_type)"
   ]
  },
  {
   "cell_type": "markdown",
   "id": "c720bbcc-3bc2-4730-ab9b-ed154b780440",
   "metadata": {},
   "source": [
    "**OTHER**"
   ]
  },
  {
   "cell_type": "code",
   "execution_count": 1,
   "id": "7faa3e30-2076-4eac-aaa1-0ce451a096db",
   "metadata": {},
   "outputs": [
    {
     "ename": "ERROR",
     "evalue": "Error in train %>% filter(!grepl(\"shared\", tolower(property_type), fixed = TRUE) & : could not find function \"%>%\"\n",
     "output_type": "error",
     "traceback": [
      "Error in train %>% filter(!grepl(\"shared\", tolower(property_type), fixed = TRUE) & : could not find function \"%>%\"\nTraceback:\n"
     ]
    }
   ],
   "source": [
    "train_o <- train %>%\n",
    "    filter(!grepl(\"shared\", tolower(property_type), fixed = TRUE) &\n",
    "           !grepl(\"private\", tolower(property_type), fixed = TRUE) &\n",
    "           !grepl(\"entire\", tolower(property_type), fixed = TRUE))\n",
    "unique(train_o$property_type)"
   ]
  }
 ],
 "metadata": {
  "kernelspec": {
   "display_name": "R",
   "language": "R",
   "name": "ir"
  },
  "language_info": {
   "codemirror_mode": "r",
   "file_extension": ".r",
   "mimetype": "text/x-r-source",
   "name": "R",
   "pygments_lexer": "r",
   "version": "4.3.3"
  }
 },
 "nbformat": 4,
 "nbformat_minor": 5
}
