{
 "cells": [
  {
   "cell_type": "code",
   "execution_count": 2,
   "id": "bf623b3f-4c91-4bf7-bff0-031881d30d29",
   "metadata": {},
   "outputs": [
    {
     "name": "stderr",
     "output_type": "stream",
     "text": [
      "Loading required package: Matrix\n",
      "\n",
      "Loaded glmnet 4.1-8\n",
      "\n",
      "\n",
      "Attaching package: ‘dplyr’\n",
      "\n",
      "\n",
      "The following objects are masked from ‘package:stats’:\n",
      "\n",
      "    filter, lag\n",
      "\n",
      "\n",
      "The following objects are masked from ‘package:base’:\n",
      "\n",
      "    intersect, setdiff, setequal, union\n",
      "\n",
      "\n",
      "── \u001b[1mAttaching core tidyverse packages\u001b[22m ──────────────────────── tidyverse 2.0.0 ──\n",
      "\u001b[32m✔\u001b[39m \u001b[34mforcats  \u001b[39m 1.0.0     \u001b[32m✔\u001b[39m \u001b[34mreadr    \u001b[39m 2.1.5\n",
      "\u001b[32m✔\u001b[39m \u001b[34mggplot2  \u001b[39m 3.5.1     \u001b[32m✔\u001b[39m \u001b[34mstringr  \u001b[39m 1.5.1\n",
      "\u001b[32m✔\u001b[39m \u001b[34mlubridate\u001b[39m 1.9.3     \u001b[32m✔\u001b[39m \u001b[34mtibble   \u001b[39m 3.2.1\n",
      "\u001b[32m✔\u001b[39m \u001b[34mpurrr    \u001b[39m 1.0.2     \u001b[32m✔\u001b[39m \u001b[34mtidyr    \u001b[39m 1.3.1\n",
      "── \u001b[1mConflicts\u001b[22m ────────────────────────────────────────── tidyverse_conflicts() ──\n",
      "\u001b[31m✖\u001b[39m \u001b[34mtidyr\u001b[39m::\u001b[32mexpand()\u001b[39m masks \u001b[34mMatrix\u001b[39m::expand()\n",
      "\u001b[31m✖\u001b[39m \u001b[34mdplyr\u001b[39m::\u001b[32mfilter()\u001b[39m masks \u001b[34mstats\u001b[39m::filter()\n",
      "\u001b[31m✖\u001b[39m \u001b[34mdplyr\u001b[39m::\u001b[32mlag()\u001b[39m    masks \u001b[34mstats\u001b[39m::lag()\n",
      "\u001b[31m✖\u001b[39m \u001b[34mtidyr\u001b[39m::\u001b[32mpack()\u001b[39m   masks \u001b[34mMatrix\u001b[39m::pack()\n",
      "\u001b[31m✖\u001b[39m \u001b[34mtidyr\u001b[39m::\u001b[32munpack()\u001b[39m masks \u001b[34mMatrix\u001b[39m::unpack()\n",
      "\u001b[36mℹ\u001b[39m Use the conflicted package (\u001b[3m\u001b[34m<http://conflicted.r-lib.org/>\u001b[39m\u001b[23m) to force all conflicts to become errors\n",
      "Loading required package: lattice\n",
      "\n",
      "\n",
      "Attaching package: ‘caret’\n",
      "\n",
      "\n",
      "The following object is masked from ‘package:purrr’:\n",
      "\n",
      "    lift\n",
      "\n",
      "\n"
     ]
    }
   ],
   "source": [
    "library(glmnet)\n",
    "library(dplyr)\n",
    "library(tidyverse)\n",
    "library(caret)"
   ]
  },
  {
   "cell_type": "markdown",
   "id": "c75b2bcb-9923-47f3-bf6b-0da0010f05ef",
   "metadata": {},
   "source": [
    "**<h3>Best so far</h3>**"
   ]
  },
  {
   "cell_type": "code",
   "execution_count": 75,
   "id": "08cdb847-d9e1-4163-8df3-136dee303ec6",
   "metadata": {},
   "outputs": [
    {
     "name": "stderr",
     "output_type": "stream",
     "text": [
      "Warning message:\n",
      "“\u001b[1m\u001b[22mThere was 1 warning in `mutate()`.\n",
      "\u001b[1m\u001b[22m\u001b[36mℹ\u001b[39m In argument: `price = as.numeric(price)`.\n",
      "Caused by warning:\n",
      "\u001b[33m!\u001b[39m NAs introduced by coercion”\n",
      "Warning message:\n",
      "“\u001b[1m\u001b[22mThere was 1 warning in `mutate()`.\n",
      "\u001b[1m\u001b[22m\u001b[36mℹ\u001b[39m In argument: `price = as.numeric(price)`.\n",
      "Caused by warning:\n",
      "\u001b[33m!\u001b[39m NAs introduced by coercion”\n"
     ]
    }
   ],
   "source": [
    "train_clean <- read.csv(\"train.csv\") %>%\n",
    "    mutate(price = substr(price, 2, nchar(price)),\n",
    "          host_response_rate = substr(host_response_rate, 1, nchar(host_response_rate) - 1),\n",
    "          host_acceptance_rate = substr(host_acceptance_rate, 1, nchar(host_acceptance_rate) - 1),\n",
    "          price = as.numeric(price),\n",
    "          host_response_rate = as.numeric(host_response_rate),\n",
    "          host_acceptance_rate = as.numeric(host_acceptance_rate)) %>%\n",
    "    select(-X, -id, -name, -neighborhood_overview, -host_id, -host_name, \n",
    "           -neighbourhood, -latitude, -longitude, host_response_time, host_response_rate, host_acceptance_rate, \n",
    "           host_is_superhost, host_listings_count, host_total_listings_count, -bathrooms, -bedrooms, -amenities,\n",
    "          minimum_nights, maximum_nights, minimum_nights_avg_ntm, maximum_nights_avg_ntm, \n",
    "          review_scores_rating, review_scores_accuracy, review_scores_cleanliness, review_scores_checkin, \n",
    "           review_scores_communication, review_scores_location, review_scores_value, number_of_reviews, \n",
    "           number_of_reviews_ltm, calculated_host_listings_count, reviews_per_month, neighbourhood_cleansed,\n",
    "           property_type, room_type) %>%\n",
    "    mutate(property_type = if_else(property_type %in% c(\"Camper/RV\", \"Entire home\", \n",
    "                                                        \"Entire villa\", \"Private room in bungalow\", \"Private room in condo\",\n",
    "                                                        \"Room in hotel\"),\n",
    "                                  property_type,\n",
    "                                  \"Other\"),\n",
    "          neighbourhood_cleansed = if_else(neighbourhood_cleansed %in% c(\"Downtown Eastside\", \"Dunbar Southlands\",\n",
    "                                                                         \"Grandview-Woodland\", \"Killarney\", \"Kitsilano\", \n",
    "                                                                         \"Marpole\", \"Mount Pleasant\", \"Oakridge\", \n",
    "                                                                         \"West End\", \"West Point Grey\"),\n",
    "                                          neighbourhood_cleansed,\n",
    "                                          \"Other\"),\n",
    "          room_type = if_else(room_type %in% c(\"Private room\", \"Shared room\"),\n",
    "                             room_type,\n",
    "                             \"Other\"))\n",
    "dmy <- dummyVars(\" ~ .\", data = train_clean)\n",
    "train_clean <- data.frame(predict(dmy, newdata = train_clean))\n",
    "\n",
    "test_clean <- read.csv(\"test.csv\") %>%\n",
    "    mutate(price = substr(price, 2, nchar(price)),\n",
    "          host_response_rate = substr(host_response_rate, 1, nchar(host_response_rate) - 1),\n",
    "          host_acceptance_rate = substr(host_acceptance_rate, 1, nchar(host_acceptance_rate) - 1),\n",
    "          price = as.numeric(price),\n",
    "          host_response_rate = as.numeric(host_response_rate),\n",
    "          host_acceptance_rate = as.numeric(host_acceptance_rate)) %>%\n",
    "    select(-id, -name, -neighborhood_overview, -host_id, -host_name, \n",
    "           -neighbourhood, -latitude, -longitude, host_response_time, host_response_rate, host_acceptance_rate, \n",
    "           host_is_superhost, host_listings_count, host_total_listings_count, -bathrooms, -bedrooms, -amenities,\n",
    "          minimum_nights, maximum_nights, minimum_nights_avg_ntm, maximum_nights_avg_ntm, \n",
    "          review_scores_rating, review_scores_accuracy, review_scores_cleanliness, review_scores_checkin, \n",
    "           review_scores_communication, review_scores_location, review_scores_value, number_of_reviews, \n",
    "           number_of_reviews_ltm, calculated_host_listings_count, reviews_per_month, neighbourhood_cleansed,\n",
    "           property_type, room_type) %>%\n",
    "    mutate(property_type = if_else(property_type %in% c(\"Camper/RV\", \"Entire home\", \n",
    "                                                        \"Entire villa\", \"Private room in bungalow\", \"Private room in condo\",\n",
    "                                                        \"Room in hotel\"),\n",
    "                                  property_type,\n",
    "                                  \"Other\"),\n",
    "          neighbourhood_cleansed = if_else(neighbourhood_cleansed %in% c(\"Downtown Eastside\", \"Dunbar Southlands\",\n",
    "                                                                         \"Grandview-Woodland\", \"Killarney\", \"Kitsilano\", \n",
    "                                                                         \"Marpole\", \"Mount Pleasant\", \"Oakridge\", \n",
    "                                                                         \"West End\", \"West Point Grey\"),\n",
    "                                          neighbourhood_cleansed,\n",
    "                                          \"Other\"),\n",
    "          room_type = if_else(room_type %in% c(\"Private room\", \"Shared room\"),\n",
    "                             room_type,\n",
    "                             \"Other\"))\n",
    "dmy <- dummyVars(\" ~ .\", data = test_clean)\n",
    "test_clean <- data.frame(predict(dmy, newdata = test_clean))"
   ]
  },
  {
   "cell_type": "code",
   "execution_count": 71,
   "id": "4627a21d-c4c6-4417-ad7c-9a4c91974a8f",
   "metadata": {},
   "outputs": [
    {
     "data": {
      "text/html": [
       "6.95851458755042"
      ],
      "text/latex": [
       "6.95851458755042"
      ],
      "text/markdown": [
       "6.95851458755042"
      ],
      "text/plain": [
       "[1] 6.958515"
      ]
     },
     "metadata": {},
     "output_type": "display_data"
    },
    {
     "data": {
      "text/plain": [
       "58 x 1 sparse Matrix of class \"dgCMatrix\"\n",
       "                                                    s0\n",
       "(Intercept)                              -1.227293e+03\n",
       "host_response_time                        1.704435e+01\n",
       "host_response_timea.few.days.or.more     -8.717488e+01\n",
       "host_response_timewithin.a.day            .           \n",
       "host_response_timewithin.a.few.hours      1.731441e+01\n",
       "host_response_timewithin.an.hour          .           \n",
       "host_response_rate                        2.955893e-01\n",
       "host_acceptance_rate                      2.049022e-01\n",
       "host_is_superhost                         .           \n",
       "host_is_superhostf                        .           \n",
       "host_is_superhostt                        .           \n",
       "host_listings_count                       .           \n",
       "host_total_listings_count                 1.444123e-02\n",
       "neighbourhood_cleansedDowntown.Eastside   5.760643e+01\n",
       "neighbourhood_cleansedDunbar.Southlands  -1.197280e+02\n",
       "neighbourhood_cleansedGrandview.Woodland  1.365409e+02\n",
       "neighbourhood_cleansedKillarney           1.191674e+02\n",
       "neighbourhood_cleansedKitsilano           1.072976e+01\n",
       "neighbourhood_cleansedMarpole            -6.050617e+01\n",
       "neighbourhood_cleansedMount.Pleasant     -5.508274e+01\n",
       "neighbourhood_cleansedOakridge            1.286844e+02\n",
       "neighbourhood_cleansedOther               .           \n",
       "neighbourhood_cleansedWest.End           -1.856251e+01\n",
       "neighbourhood_cleansedWest.Point.Grey    -4.270838e+01\n",
       "property_typeCamper.RV                   -4.417606e+02\n",
       "property_typeEntire.home                  9.144280e+02\n",
       "property_typeEntire.villa                -5.843496e+02\n",
       "property_typeOther                       -5.010154e+01\n",
       "property_typePrivate.room.in.bungalow     3.048048e+02\n",
       "property_typePrivate.room.in.condo        2.480851e+02\n",
       "property_typeRoom.in.hotel               -5.129301e+02\n",
       "room_typeOther                            .           \n",
       "room_typePrivate.room                     8.662015e+01\n",
       "room_typeShared.room                      .           \n",
       "accommodates                              2.052471e+02\n",
       "beds                                      3.067418e+01\n",
       "price                                     .           \n",
       "minimum_nights                           -5.875208e-01\n",
       "maximum_nights                            4.192579e-02\n",
       "minimum_nights_avg_ntm                    .           \n",
       "maximum_nights_avg_ntm                    4.887774e-02\n",
       "availability_30                           .           \n",
       "availability_60                           .           \n",
       "availability_90                           .           \n",
       "availability_365                         -4.267232e-01\n",
       "number_of_reviews                        -1.061798e-02\n",
       "number_of_reviews_ltm                     1.016282e+00\n",
       "review_scores_rating                      2.961430e+02\n",
       "review_scores_accuracy                   -3.046802e+01\n",
       "review_scores_cleanliness                 5.078006e+01\n",
       "review_scores_checkin                     .           \n",
       "review_scores_communication               .           \n",
       "review_scores_location                    .           \n",
       "review_scores_value                       1.178526e+02\n",
       "instant_bookablef                         6.511911e+01\n",
       "instant_bookablet                        -6.887933e-11\n",
       "calculated_host_listings_count            7.918700e-03\n",
       "reviews_per_month                        -1.752079e+01"
      ]
     },
     "metadata": {},
     "output_type": "display_data"
    },
    {
     "data": {
      "text/html": [
       "0.300782453548616"
      ],
      "text/latex": [
       "0.300782453548616"
      ],
      "text/markdown": [
       "0.300782453548616"
      ],
      "text/plain": [
       "[1] 0.3007825"
      ]
     },
     "metadata": {},
     "output_type": "display_data"
    },
    {
     "data": {
      "text/html": [
       "6663107492.39697"
      ],
      "text/latex": [
       "6663107492.39697"
      ],
      "text/markdown": [
       "6663107492.39697"
      ],
      "text/plain": [
       "[1] 6663107492"
      ]
     },
     "metadata": {},
     "output_type": "display_data"
    },
    {
     "data": {
      "image/png": "[encoded data removed]",
      "text/plain": [
       "plot without title"
      ]
     },
     "metadata": {
      "image/png": {
       "height": 420,
       "width": 420
      }
     },
     "output_type": "display_data"
    }
   ],
   "source": [
    "y_clean <- train_clean$monthly_revenue\n",
    "x_clean <- makeX(train_clean %>% select(-monthly_revenue),\n",
    "          na.impute = TRUE)\n",
    "\n",
    "cv_model_clean <- cv.glmnet(x_clean, y_clean, alpha = 1)\n",
    "\n",
    "best_lambda_clean <- cv_model_clean$lambda.min\n",
    "best_lambda_clean\n",
    "\n",
    "plot(cv_model_clean) \n",
    "\n",
    "best_model_clean <- glmnet(x_clean, y_clean, alpha = 1, lambda = best_lambda_clean)\n",
    "coef(best_model_clean)\n",
    "\n",
    "pred_y_clean <- predict(best_model_clean, s = best_lambda_clean, newx = x_clean)\n",
    "\n",
    "sst_clean <- sum((y_clean - mean(y_clean))^2)\n",
    "sse_clean <- sum((pred_y_clean - y_clean)^2)\n",
    "\n",
    "rsq_clean <- 1 - sse_clean/sst_clean\n",
    "rsq_clean\n",
    "sse_clean "
   ]
  },
  {
   "cell_type": "code",
   "execution_count": 65,
   "id": "b3129d3b-84fb-429c-8f52-f2accb014fa6",
   "metadata": {},
   "outputs": [],
   "source": [
    "x_test_clean <- makeX(test_clean,\n",
    "          na.impute = TRUE)\n",
    "\n",
    "t_test_clean <- predict(best_model_clean, s = best_lambda_clean, newx = x_test_clean)"
   ]
  },
  {
   "cell_type": "code",
   "execution_count": 23,
   "id": "6a417ab8-bf06-4a1a-a437-24c256b01298",
   "metadata": {},
   "outputs": [
    {
     "data": {
      "text/html": [
       "<table class=\"dataframe\">\n",
       "<caption>A data.frame: 6 × 2</caption>\n",
       "<thead>\n",
       "\t<tr><th></th><th scope=col>id</th><th scope=col>predictions</th></tr>\n",
       "\t<tr><th></th><th scope=col>&lt;chr&gt;</th><th scope=col>&lt;dbl&gt;</th></tr>\n",
       "</thead>\n",
       "<tbody>\n",
       "\t<tr><th scope=row>1</th><td>4465400           </td><td>3787.466</td></tr>\n",
       "\t<tr><th scope=row>2</th><td>608629349064811166</td><td>1370.057</td></tr>\n",
       "\t<tr><th scope=row>3</th><td>981894508939312892</td><td>1799.171</td></tr>\n",
       "\t<tr><th scope=row>4</th><td>52014961          </td><td>1719.834</td></tr>\n",
       "\t<tr><th scope=row>5</th><td>836285112356489303</td><td>1262.120</td></tr>\n",
       "\t<tr><th scope=row>6</th><td>729730483477613494</td><td>1846.086</td></tr>\n",
       "</tbody>\n",
       "</table>\n"
      ],
      "text/latex": [
       "A data.frame: 6 × 2\n",
       "\\begin{tabular}{r|ll}\n",
       "  & id & predictions\\\\\n",
       "  & <chr> & <dbl>\\\\\n",
       "\\hline\n",
       "\t1 & 4465400            & 3787.466\\\\\n",
       "\t2 & 608629349064811166 & 1370.057\\\\\n",
       "\t3 & 981894508939312892 & 1799.171\\\\\n",
       "\t4 & 52014961           & 1719.834\\\\\n",
       "\t5 & 836285112356489303 & 1262.120\\\\\n",
       "\t6 & 729730483477613494 & 1846.086\\\\\n",
       "\\end{tabular}\n"
      ],
      "text/markdown": [
       "\n",
       "A data.frame: 6 × 2\n",
       "\n",
       "| <!--/--> | id &lt;chr&gt; | predictions &lt;dbl&gt; |\n",
       "|---|---|---|\n",
       "| 1 | 4465400            | 3787.466 |\n",
       "| 2 | 608629349064811166 | 1370.057 |\n",
       "| 3 | 981894508939312892 | 1799.171 |\n",
       "| 4 | 52014961           | 1719.834 |\n",
       "| 5 | 836285112356489303 | 1262.120 |\n",
       "| 6 | 729730483477613494 | 1846.086 |\n",
       "\n"
      ],
      "text/plain": [
       "  id                 predictions\n",
       "1 4465400            3787.466   \n",
       "2 608629349064811166 1370.057   \n",
       "3 981894508939312892 1799.171   \n",
       "4 52014961           1719.834   \n",
       "5 836285112356489303 1262.120   \n",
       "6 729730483477613494 1846.086   "
      ]
     },
     "metadata": {},
     "output_type": "display_data"
    }
   ],
   "source": [
    "latest <- data.frame(read.csv(\"test.csv\", colClasses = c(\"id\" = \"character\"))$id, t_test_clean)\n",
    "colnames(latest) <- c(\"id\", \"predictions\")\n",
    "head(latest)\n",
    "\n",
    "write.csv(latest, \"latest_clean.csv\", row.names = FALSE)"
   ]
  },
  {
   "cell_type": "markdown",
   "id": "f9f83226-ea72-490e-bc4f-165a71713cf7",
   "metadata": {},
   "source": [
    "**<h3>Plots</h3>**"
   ]
  },
  {
   "cell_type": "code",
   "execution_count": 78,
   "id": "3f725bc4-7008-4bc7-98bc-14d3eddddb20",
   "metadata": {},
   "outputs": [
    {
     "name": "stderr",
     "output_type": "stream",
     "text": [
      "Warning message:\n",
      "“\u001b[1m\u001b[22mThere was 1 warning in `mutate()`.\n",
      "\u001b[1m\u001b[22m\u001b[36mℹ\u001b[39m In argument: `price = as.numeric(price)`.\n",
      "Caused by warning:\n",
      "\u001b[33m!\u001b[39m NAs introduced by coercion”\n"
     ]
    }
   ],
   "source": [
    "plot_data <- read.csv(\"train.csv\") %>%\n",
    "    mutate(price = substr(price, 2, nchar(price)),\n",
    "          host_response_rate = substr(host_response_rate, 1, nchar(host_response_rate) - 1),\n",
    "          host_acceptance_rate = substr(host_acceptance_rate, 1, nchar(host_acceptance_rate) - 1),\n",
    "          price = as.numeric(price),\n",
    "          host_response_rate = as.numeric(host_response_rate),\n",
    "          host_acceptance_rate = as.numeric(host_acceptance_rate)) %>%\n",
    "    select(-X, -id, -name, -neighborhood_overview, -host_id, -host_name, \n",
    "           -neighbourhood, -latitude, -longitude, host_response_time, host_response_rate, host_acceptance_rate, \n",
    "           host_is_superhost, host_listings_count, host_total_listings_count, -bathrooms, -bedrooms, -amenities,\n",
    "          minimum_nights, maximum_nights, minimum_nights_avg_ntm, maximum_nights_avg_ntm, \n",
    "          review_scores_rating, review_scores_accuracy, review_scores_cleanliness, review_scores_checkin, \n",
    "           review_scores_communication, review_scores_location, review_scores_value, number_of_reviews, \n",
    "           number_of_reviews_ltm, calculated_host_listings_count, reviews_per_month, neighbourhood_cleansed,\n",
    "           property_type, room_type) %>%\n",
    "    mutate(property_type = if_else(property_type %in% c(\"Camper/RV\", \"Entire home\", \n",
    "                                                        \"Entire villa\", \"Private room in bungalow\", \"Private room in condo\",\n",
    "                                                        \"Room in hotel\"),\n",
    "                                  property_type,\n",
    "                                  \"Other\"),\n",
    "          neighbourhood_cleansed = if_else(neighbourhood_cleansed %in% c(\"Downtown Eastside\", \"Dunbar Southlands\",\n",
    "                                                                         \"Grandview-Woodland\", \"Killarney\", \"Kitsilano\", \n",
    "                                                                         \"Marpole\", \"Mount Pleasant\", \"Oakridge\", \n",
    "                                                                         \"West End\", \"West Point Grey\"),\n",
    "                                          neighbourhood_cleansed,\n",
    "                                          \"Other\"),\n",
    "          room_type = if_else(room_type %in% c(\"Private room\", \"Shared room\"),\n",
    "                             room_type,\n",
    "                             \"Other\"))"
   ]
  },
  {
   "cell_type": "code",
   "execution_count": 80,
   "id": "1b12a62d-a861-4c97-ab0e-cf2a6c36dcf3",
   "metadata": {},
   "outputs": [
    {
     "data": {
      "image/png": "[encoded data removed]",
      "text/plain": [
       "plot without title"
      ]
     },
     "metadata": {
      "image/png": {
       "height": 420,
       "width": 420
      }
     },
     "output_type": "display_data"
    }
   ],
   "source": [
    "ggplot(data = plot_data, mapping = aes(x = neighbourhood_cleansed, y = monthly_revenue)) +\n",
    "    geom_point(alpha = 0.1)"
   ]
  },
  {
   "cell_type": "markdown",
   "id": "5c85a91d-112a-4b38-9a22-36c9913ac9ff",
   "metadata": {},
   "source": [
    "**<h3>Separate for each neighbourhood</h3>**"
   ]
  },
  {
   "cell_type": "code",
   "execution_count": 106,
   "id": "67716a1f-08b0-4f29-97fa-057611fd12fe",
   "metadata": {},
   "outputs": [
    {
     "name": "stderr",
     "output_type": "stream",
     "text": [
      "Warning message:\n",
      "“\u001b[1m\u001b[22mThere was 1 warning in `mutate()`.\n",
      "\u001b[1m\u001b[22m\u001b[36mℹ\u001b[39m In argument: `price = as.numeric(price)`.\n",
      "Caused by warning:\n",
      "\u001b[33m!\u001b[39m NAs introduced by coercion”\n",
      "Warning message:\n",
      "“\u001b[1m\u001b[22mThere was 1 warning in `mutate()`.\n",
      "\u001b[1m\u001b[22m\u001b[36mℹ\u001b[39m In argument: `price = as.numeric(price)`.\n",
      "Caused by warning:\n",
      "\u001b[33m!\u001b[39m NAs introduced by coercion”\n"
     ]
    },
    {
     "data": {
      "text/html": [
       "<style>\n",
       ".list-inline {list-style: none; margin:0; padding: 0}\n",
       ".list-inline>li {display: inline-block}\n",
       ".list-inline>li:not(:last-child)::after {content: \"\\00b7\"; padding: 0 .5ex}\n",
       "</style>\n",
       "<ol class=list-inline><li>'host_response_time'</li><li>'host_response_timea.few.days.or.more'</li><li>'host_response_timewithin.a.day'</li><li>'host_response_timewithin.a.few.hours'</li><li>'host_response_timewithin.an.hour'</li><li>'host_response_rate'</li><li>'host_acceptance_rate'</li><li>'host_listings_count'</li><li>'host_total_listings_count'</li><li>'neighbourhood_cleansedDowntown.Eastside'</li><li>'neighbourhood_cleansedDunbar.Southlands'</li><li>'neighbourhood_cleansedGrandview.Woodland'</li><li>'neighbourhood_cleansedKillarney'</li><li>'neighbourhood_cleansedKitsilano'</li><li>'neighbourhood_cleansedMarpole'</li><li>'neighbourhood_cleansedMount.Pleasant'</li><li>'neighbourhood_cleansedOakridge'</li><li>'neighbourhood_cleansedOther'</li><li>'neighbourhood_cleansedWest.End'</li><li>'neighbourhood_cleansedWest.Point.Grey'</li><li>'property_typeCamper.RV'</li><li>'property_typeEntire.home'</li><li>'property_typeEntire.villa'</li><li>'property_typeOther'</li><li>'property_typePrivate.room.in.bungalow'</li><li>'property_typePrivate.room.in.condo'</li><li>'property_typeRoom.in.hotel'</li><li>'room_typeOther'</li><li>'room_typePrivate.room'</li><li>'room_typeShared.room'</li><li>'accommodates'</li><li>'beds'</li><li>'price'</li><li>'minimum_nights'</li><li>'maximum_nights'</li><li>'minimum_nights_avg_ntm'</li><li>'maximum_nights_avg_ntm'</li><li>'availability_30'</li><li>'availability_60'</li><li>'availability_90'</li><li>'availability_365'</li><li>'number_of_reviews'</li><li>'number_of_reviews_ltm'</li><li>'review_scores_rating'</li><li>'review_scores_accuracy'</li><li>'review_scores_cleanliness'</li><li>'review_scores_checkin'</li><li>'review_scores_communication'</li><li>'review_scores_location'</li><li>'review_scores_value'</li><li>'calculated_host_listings_count'</li><li>'reviews_per_month'</li></ol>\n"
      ],
      "text/latex": [
       "\\begin{enumerate*}\n",
       "\\item 'host\\_response\\_time'\n",
       "\\item 'host\\_response\\_timea.few.days.or.more'\n",
       "\\item 'host\\_response\\_timewithin.a.day'\n",
       "\\item 'host\\_response\\_timewithin.a.few.hours'\n",
       "\\item 'host\\_response\\_timewithin.an.hour'\n",
       "\\item 'host\\_response\\_rate'\n",
       "\\item 'host\\_acceptance\\_rate'\n",
       "\\item 'host\\_listings\\_count'\n",
       "\\item 'host\\_total\\_listings\\_count'\n",
       "\\item 'neighbourhood\\_cleansedDowntown.Eastside'\n",
       "\\item 'neighbourhood\\_cleansedDunbar.Southlands'\n",
       "\\item 'neighbourhood\\_cleansedGrandview.Woodland'\n",
       "\\item 'neighbourhood\\_cleansedKillarney'\n",
       "\\item 'neighbourhood\\_cleansedKitsilano'\n",
       "\\item 'neighbourhood\\_cleansedMarpole'\n",
       "\\item 'neighbourhood\\_cleansedMount.Pleasant'\n",
       "\\item 'neighbourhood\\_cleansedOakridge'\n",
       "\\item 'neighbourhood\\_cleansedOther'\n",
       "\\item 'neighbourhood\\_cleansedWest.End'\n",
       "\\item 'neighbourhood\\_cleansedWest.Point.Grey'\n",
       "\\item 'property\\_typeCamper.RV'\n",
       "\\item 'property\\_typeEntire.home'\n",
       "\\item 'property\\_typeEntire.villa'\n",
       "\\item 'property\\_typeOther'\n",
       "\\item 'property\\_typePrivate.room.in.bungalow'\n",
       "\\item 'property\\_typePrivate.room.in.condo'\n",
       "\\item 'property\\_typeRoom.in.hotel'\n",
       "\\item 'room\\_typeOther'\n",
       "\\item 'room\\_typePrivate.room'\n",
       "\\item 'room\\_typeShared.room'\n",
       "\\item 'accommodates'\n",
       "\\item 'beds'\n",
       "\\item 'price'\n",
       "\\item 'minimum\\_nights'\n",
       "\\item 'maximum\\_nights'\n",
       "\\item 'minimum\\_nights\\_avg\\_ntm'\n",
       "\\item 'maximum\\_nights\\_avg\\_ntm'\n",
       "\\item 'availability\\_30'\n",
       "\\item 'availability\\_60'\n",
       "\\item 'availability\\_90'\n",
       "\\item 'availability\\_365'\n",
       "\\item 'number\\_of\\_reviews'\n",
       "\\item 'number\\_of\\_reviews\\_ltm'\n",
       "\\item 'review\\_scores\\_rating'\n",
       "\\item 'review\\_scores\\_accuracy'\n",
       "\\item 'review\\_scores\\_cleanliness'\n",
       "\\item 'review\\_scores\\_checkin'\n",
       "\\item 'review\\_scores\\_communication'\n",
       "\\item 'review\\_scores\\_location'\n",
       "\\item 'review\\_scores\\_value'\n",
       "\\item 'calculated\\_host\\_listings\\_count'\n",
       "\\item 'reviews\\_per\\_month'\n",
       "\\end{enumerate*}\n"
      ],
      "text/markdown": [
       "1. 'host_response_time'\n",
       "2. 'host_response_timea.few.days.or.more'\n",
       "3. 'host_response_timewithin.a.day'\n",
       "4. 'host_response_timewithin.a.few.hours'\n",
       "5. 'host_response_timewithin.an.hour'\n",
       "6. 'host_response_rate'\n",
       "7. 'host_acceptance_rate'\n",
       "8. 'host_listings_count'\n",
       "9. 'host_total_listings_count'\n",
       "10. 'neighbourhood_cleansedDowntown.Eastside'\n",
       "11. 'neighbourhood_cleansedDunbar.Southlands'\n",
       "12. 'neighbourhood_cleansedGrandview.Woodland'\n",
       "13. 'neighbourhood_cleansedKillarney'\n",
       "14. 'neighbourhood_cleansedKitsilano'\n",
       "15. 'neighbourhood_cleansedMarpole'\n",
       "16. 'neighbourhood_cleansedMount.Pleasant'\n",
       "17. 'neighbourhood_cleansedOakridge'\n",
       "18. 'neighbourhood_cleansedOther'\n",
       "19. 'neighbourhood_cleansedWest.End'\n",
       "20. 'neighbourhood_cleansedWest.Point.Grey'\n",
       "21. 'property_typeCamper.RV'\n",
       "22. 'property_typeEntire.home'\n",
       "23. 'property_typeEntire.villa'\n",
       "24. 'property_typeOther'\n",
       "25. 'property_typePrivate.room.in.bungalow'\n",
       "26. 'property_typePrivate.room.in.condo'\n",
       "27. 'property_typeRoom.in.hotel'\n",
       "28. 'room_typeOther'\n",
       "29. 'room_typePrivate.room'\n",
       "30. 'room_typeShared.room'\n",
       "31. 'accommodates'\n",
       "32. 'beds'\n",
       "33. 'price'\n",
       "34. 'minimum_nights'\n",
       "35. 'maximum_nights'\n",
       "36. 'minimum_nights_avg_ntm'\n",
       "37. 'maximum_nights_avg_ntm'\n",
       "38. 'availability_30'\n",
       "39. 'availability_60'\n",
       "40. 'availability_90'\n",
       "41. 'availability_365'\n",
       "42. 'number_of_reviews'\n",
       "43. 'number_of_reviews_ltm'\n",
       "44. 'review_scores_rating'\n",
       "45. 'review_scores_accuracy'\n",
       "46. 'review_scores_cleanliness'\n",
       "47. 'review_scores_checkin'\n",
       "48. 'review_scores_communication'\n",
       "49. 'review_scores_location'\n",
       "50. 'review_scores_value'\n",
       "51. 'calculated_host_listings_count'\n",
       "52. 'reviews_per_month'\n",
       "\n",
       "\n"
      ],
      "text/plain": [
       " [1] \"host_response_time\"                      \n",
       " [2] \"host_response_timea.few.days.or.more\"    \n",
       " [3] \"host_response_timewithin.a.day\"          \n",
       " [4] \"host_response_timewithin.a.few.hours\"    \n",
       " [5] \"host_response_timewithin.an.hour\"        \n",
       " [6] \"host_response_rate\"                      \n",
       " [7] \"host_acceptance_rate\"                    \n",
       " [8] \"host_listings_count\"                     \n",
       " [9] \"host_total_listings_count\"               \n",
       "[10] \"neighbourhood_cleansedDowntown.Eastside\" \n",
       "[11] \"neighbourhood_cleansedDunbar.Southlands\" \n",
       "[12] \"neighbourhood_cleansedGrandview.Woodland\"\n",
       "[13] \"neighbourhood_cleansedKillarney\"         \n",
       "[14] \"neighbourhood_cleansedKitsilano\"         \n",
       "[15] \"neighbourhood_cleansedMarpole\"           \n",
       "[16] \"neighbourhood_cleansedMount.Pleasant\"    \n",
       "[17] \"neighbourhood_cleansedOakridge\"          \n",
       "[18] \"neighbourhood_cleansedOther\"             \n",
       "[19] \"neighbourhood_cleansedWest.End\"          \n",
       "[20] \"neighbourhood_cleansedWest.Point.Grey\"   \n",
       "[21] \"property_typeCamper.RV\"                  \n",
       "[22] \"property_typeEntire.home\"                \n",
       "[23] \"property_typeEntire.villa\"               \n",
       "[24] \"property_typeOther\"                      \n",
       "[25] \"property_typePrivate.room.in.bungalow\"   \n",
       "[26] \"property_typePrivate.room.in.condo\"      \n",
       "[27] \"property_typeRoom.in.hotel\"              \n",
       "[28] \"room_typeOther\"                          \n",
       "[29] \"room_typePrivate.room\"                   \n",
       "[30] \"room_typeShared.room\"                    \n",
       "[31] \"accommodates\"                            \n",
       "[32] \"beds\"                                    \n",
       "[33] \"price\"                                   \n",
       "[34] \"minimum_nights\"                          \n",
       "[35] \"maximum_nights\"                          \n",
       "[36] \"minimum_nights_avg_ntm\"                  \n",
       "[37] \"maximum_nights_avg_ntm\"                  \n",
       "[38] \"availability_30\"                         \n",
       "[39] \"availability_60\"                         \n",
       "[40] \"availability_90\"                         \n",
       "[41] \"availability_365\"                        \n",
       "[42] \"number_of_reviews\"                       \n",
       "[43] \"number_of_reviews_ltm\"                   \n",
       "[44] \"review_scores_rating\"                    \n",
       "[45] \"review_scores_accuracy\"                  \n",
       "[46] \"review_scores_cleanliness\"               \n",
       "[47] \"review_scores_checkin\"                   \n",
       "[48] \"review_scores_communication\"             \n",
       "[49] \"review_scores_location\"                  \n",
       "[50] \"review_scores_value\"                     \n",
       "[51] \"calculated_host_listings_count\"          \n",
       "[52] \"reviews_per_month\"                       "
      ]
     },
     "metadata": {},
     "output_type": "display_data"
    }
   ],
   "source": [
    "master <- read.csv(\"train.csv\") %>%\n",
    "    mutate(price = substr(price, 2, nchar(price)),\n",
    "          host_response_rate = substr(host_response_rate, 1, nchar(host_response_rate) - 1),\n",
    "          host_acceptance_rate = substr(host_acceptance_rate, 1, nchar(host_acceptance_rate) - 1),\n",
    "          price = as.numeric(price),\n",
    "          host_response_rate = as.numeric(host_response_rate),\n",
    "          host_acceptance_rate = as.numeric(host_acceptance_rate)) %>%\n",
    "    select(-X, -id, -name, -neighborhood_overview, -host_id, -host_name, \n",
    "           -neighbourhood, -latitude, -longitude, host_response_time, host_response_rate, host_acceptance_rate, \n",
    "           -host_is_superhost, host_listings_count, host_total_listings_count, -bathrooms, -bedrooms, -amenities,\n",
    "           minimum_nights, maximum_nights, minimum_nights_avg_ntm, maximum_nights_avg_ntm, \n",
    "           review_scores_rating, review_scores_accuracy, review_scores_cleanliness, review_scores_checkin, \n",
    "           review_scores_communication, review_scores_location, review_scores_value, number_of_reviews, \n",
    "           number_of_reviews_ltm, calculated_host_listings_count, reviews_per_month, neighbourhood_cleansed,\n",
    "           property_type, room_type, -instant_bookable) %>%\n",
    "    mutate(property_type = if_else(property_type %in% c(\"Camper/RV\", \"Entire home\", \n",
    "                                                        \"Entire villa\", \"Private room in bungalow\", \"Private room in condo\",\n",
    "                                                        \"Room in hotel\"),\n",
    "                                  property_type,\n",
    "                                  \"Other\"),\n",
    "          neighbourhood_cleansed = if_else(neighbourhood_cleansed %in% c(\"Downtown Eastside\", \"Dunbar Southlands\",\n",
    "                                                                         \"Grandview-Woodland\", \"Killarney\", \"Kitsilano\", \n",
    "                                                                         \"Marpole\", \"Mount Pleasant\", \"Oakridge\", \n",
    "                                                                         \"West End\", \"West Point Grey\"),\n",
    "                                          neighbourhood_cleansed,\n",
    "                                          \"Other\"),\n",
    "          room_type = if_else(room_type %in% c(\"Private room\", \"Shared room\"),\n",
    "                             room_type,\n",
    "                             \"Other\"))\n",
    "\n",
    "dmy <- dummyVars(\" ~ .\", data = master)\n",
    "master <- data.frame(predict(dmy, newdata = master))\n",
    "\n",
    "master_test <- read.csv(\"test.csv\") %>%\n",
    "    mutate(price = substr(price, 2, nchar(price)),\n",
    "          host_response_rate = substr(host_response_rate, 1, nchar(host_response_rate) - 1),\n",
    "          host_acceptance_rate = substr(host_acceptance_rate, 1, nchar(host_acceptance_rate) - 1),\n",
    "          price = as.numeric(price),\n",
    "          host_response_rate = as.numeric(host_response_rate),\n",
    "          host_acceptance_rate = as.numeric(host_acceptance_rate)) %>%\n",
    "    select(-id, -name, -neighborhood_overview, -host_id, -host_name, \n",
    "           -neighbourhood, -latitude, -longitude, host_response_time, host_response_rate, host_acceptance_rate, \n",
    "           -host_is_superhost, host_listings_count, host_total_listings_count, -bathrooms, -bedrooms, -amenities,\n",
    "           minimum_nights, maximum_nights, minimum_nights_avg_ntm, maximum_nights_avg_ntm, \n",
    "           review_scores_rating, review_scores_accuracy, review_scores_cleanliness, review_scores_checkin, \n",
    "           review_scores_communication, review_scores_location, review_scores_value, number_of_reviews, \n",
    "           number_of_reviews_ltm, calculated_host_listings_count, reviews_per_month, neighbourhood_cleansed,\n",
    "           property_type, room_type, -instant_bookable) %>%\n",
    "    mutate(property_type = if_else(property_type %in% c(\"Camper/RV\", \"Entire home\", \n",
    "                                                        \"Entire villa\", \"Private room in bungalow\", \"Private room in condo\",\n",
    "                                                        \"Room in hotel\"),\n",
    "                                  property_type,\n",
    "                                  \"Other\"),\n",
    "          neighbourhood_cleansed = if_else(neighbourhood_cleansed %in% c(\"Downtown Eastside\", \"Dunbar Southlands\",\n",
    "                                                                         \"Grandview-Woodland\", \"Killarney\", \"Kitsilano\", \n",
    "                                                                         \"Marpole\", \"Mount Pleasant\", \"Oakridge\", \n",
    "                                                                         \"West End\", \"West Point Grey\"),\n",
    "                                          neighbourhood_cleansed,\n",
    "                                          \"Other\"),\n",
    "          room_type = if_else(room_type %in% c(\"Private room\", \"Shared room\"),\n",
    "                             room_type,\n",
    "                             \"Other\"))\n",
    "\n",
    "dmy <- dummyVars(\" ~ .\", data = master_test)\n",
    "master_test <- data.frame(predict(dmy, newdata = master_test))\n",
    "names(master_test)"
   ]
  },
  {
   "cell_type": "code",
   "execution_count": 107,
   "id": "24f36c4c-5334-48b3-826b-757df620a94c",
   "metadata": {},
   "outputs": [
    {
     "data": {
      "text/html": [
       "<table class=\"dataframe\">\n",
       "<caption>A data.frame: 1 × 1</caption>\n",
       "<thead>\n",
       "\t<tr><th></th><th scope=col>as.matrix.1339..2.</th></tr>\n",
       "\t<tr><th></th><th scope=col>&lt;dbl&gt;</th></tr>\n",
       "</thead>\n",
       "<tbody>\n",
       "\t<tr><th scope=row>1</th><td>1339</td></tr>\n",
       "</tbody>\n",
       "</table>\n"
      ],
      "text/latex": [
       "A data.frame: 1 × 1\n",
       "\\begin{tabular}{r|l}\n",
       "  & as.matrix.1339..2.\\\\\n",
       "  & <dbl>\\\\\n",
       "\\hline\n",
       "\t1 & 1339\\\\\n",
       "\\end{tabular}\n"
      ],
      "text/markdown": [
       "\n",
       "A data.frame: 1 × 1\n",
       "\n",
       "| <!--/--> | as.matrix.1339..2. &lt;dbl&gt; |\n",
       "|---|---|\n",
       "| 1 | 1339 |\n",
       "\n"
      ],
      "text/plain": [
       "  as.matrix.1339..2.\n",
       "1 1339              "
      ]
     },
     "metadata": {},
     "output_type": "display_data"
    },
    {
     "data": {
      "text/html": [
       "1339"
      ],
      "text/latex": [
       "1339"
      ],
      "text/markdown": [
       "1339"
      ],
      "text/plain": [
       "[1] 1339"
      ]
     },
     "metadata": {},
     "output_type": "display_data"
    }
   ],
   "source": [
    "neighs <- c('neighbourhood_cleansedDowntown.Eastside','neighbourhood_cleansedDunbar.Southlands',\n",
    "            'neighbourhood_cleansedGrandview.Woodland','neighbourhood_cleansedKillarney',\n",
    "            'neighbourhood_cleansedKitsilano','neighbourhood_cleansedMarpole',\n",
    "            'neighbourhood_cleansedMount.Pleasant','neighbourhood_cleansedOakridge',\n",
    "            'neighbourhood_cleansedOther','neighbourhood_cleansedWest.End',\n",
    "            'neighbourhood_cleansedWest.Point.Grey')\n",
    "props <- c('property_typeCamper.RV','property_typeEntire.home','property_typeEntire.villa',\n",
    "           'property_typeOther','property_typePrivate.room.in.bungalow','property_typePrivate.room.in.condo',\n",
    "           'property_typeRoom.in.hotel')\n",
    "rooms <- c('room_typeOther','room_typePrivate.room','room_typeShared.room')\n",
    "\n",
    "separate_preds <- data.frame()\n",
    "head(separate)\n",
    "for (i in 1:length(neighs)) {\n",
    "    temp <- master  %>%\n",
    "        filter(.data[[neighs[i]]] == 1) %>%\n",
    "        select(-neighs)\n",
    "\n",
    "    # cat(nrow(temp), nrow(temp_test), \"\\n\")\n",
    "\n",
    "    temp_y <- temp$monthly_revenue\n",
    "    temp_x <- makeX(temp %>% select(-monthly_revenue), na.impute = TRUE)\n",
    "\n",
    "    cv_model_temp <- cv.glmnet(temp_x, temp_y, alpha = 1)\n",
    "\n",
    "    best_lambda_temp <- cv_model_temp$lambda.min\n",
    "    best_lambda_temp\n",
    "\n",
    "    best_model_temp <- glmnet(temp_x, temp_y, alpha = 1, lambda = best_lambda_temp)\n",
    "\n",
    "    pred_y_temp <- predict(best_model_temp, s = best_lambda_temp, newx = temp_x)\n",
    "\n",
    "    sst_temp <- sum((temp_y - mean(temp_y))^2)\n",
    "    sse_temp <- sum((pred_y_temp - temp_y)^2)\n",
    "\n",
    "    rsq_temp <- 1 - sse_temp/sst_temp\n",
    "\n",
    "    temp_test <- master_test  %>%\n",
    "        filter(.data[[neighs[i]]] == 1) %>%\n",
    "        select(-neighs)\n",
    "\n",
    "    for (j in 1:length(props)) {\n",
    "        if (!(props[j] %in% names(temp_test))) {\n",
    "            temp_test[[props[j]]] <- c(rep(0, each = nrow(temp_test)))\n",
    "        }\n",
    "    }\n",
    "    for (j in 1:length(rooms)) {\n",
    "        if (!(rooms[j] %in% names(temp_test))) {\n",
    "            temp_test[[rooms[j]]] <- c(rep(0, each = nrow(temp_test)))\n",
    "        }\n",
    "    }\n",
    "\n",
    "    temp_test_clean <- makeX(temp_test, na.impute = TRUE)\n",
    "\n",
    "    y_test_temp <- predict(best_model_temp, s = best_lambda_temp, newx = temp_test_clean)    \n",
    "    separate_preds <- rbind(separate_preds, y_test_temp)\n",
    "    # assign(paste(substr(neighs[i], 1, 4), \"_model\", sep=\"\"), best_model_temp)\n",
    "    # assign(paste(substr(neighs[i], 1, 4), \"_lambda\", sep=\"\"), best_lambda_temp)\n",
    "}\n",
    "nrow(separate_preds)\n",
    "colnames(separate_preds) <- c(\"predictions\")"
   ]
  },
  {
   "cell_type": "code",
   "execution_count": 108,
   "id": "37577451-d364-4466-ac47-a86d98136534",
   "metadata": {},
   "outputs": [
    {
     "name": "stderr",
     "output_type": "stream",
     "text": [
      "Warning message:\n",
      "“\u001b[1m\u001b[22mThere was 1 warning in `mutate()`.\n",
      "\u001b[1m\u001b[22m\u001b[36mℹ\u001b[39m In argument: `price = as.numeric(price)`.\n",
      "Caused by warning:\n",
      "\u001b[33m!\u001b[39m NAs introduced by coercion”\n"
     ]
    }
   ],
   "source": [
    "master_test_for_ids <- read.csv(\"test.csv\", , colClasses = c(\"id\" = \"character\")) %>%\n",
    "    mutate(price = substr(price, 2, nchar(price)),\n",
    "          host_response_rate = substr(host_response_rate, 1, nchar(host_response_rate) - 1),\n",
    "          host_acceptance_rate = substr(host_acceptance_rate, 1, nchar(host_acceptance_rate) - 1),\n",
    "          price = as.numeric(price),\n",
    "          host_response_rate = as.numeric(host_response_rate),\n",
    "          host_acceptance_rate = as.numeric(host_acceptance_rate)) %>%\n",
    "    select(id, -name, -neighborhood_overview, -host_id, -host_name, \n",
    "           -neighbourhood, -latitude, -longitude, host_response_time, host_response_rate, host_acceptance_rate, \n",
    "           -host_is_superhost, host_listings_count, host_total_listings_count, -bathrooms, -bedrooms, -amenities,\n",
    "           minimum_nights, maximum_nights, minimum_nights_avg_ntm, maximum_nights_avg_ntm, \n",
    "           review_scores_rating, review_scores_accuracy, review_scores_cleanliness, review_scores_checkin, \n",
    "           review_scores_communication, review_scores_location, review_scores_value, number_of_reviews, \n",
    "           number_of_reviews_ltm, calculated_host_listings_count, reviews_per_month, neighbourhood_cleansed,\n",
    "           property_type, room_type, -instant_bookable) %>%\n",
    "    mutate(property_type = if_else(property_type %in% c(\"Camper/RV\", \"Entire home\", \n",
    "                                                        \"Entire villa\", \"Private room in bungalow\", \"Private room in condo\",\n",
    "                                                        \"Room in hotel\"),\n",
    "                                  property_type,\n",
    "                                  \"Other\"),\n",
    "          neighbourhood_cleansed = if_else(neighbourhood_cleansed %in% c(\"Downtown Eastside\", \"Dunbar Southlands\",\n",
    "                                                                         \"Grandview-Woodland\", \"Killarney\", \"Kitsilano\", \n",
    "                                                                         \"Marpole\", \"Mount Pleasant\", \"Oakridge\", \n",
    "                                                                         \"West End\", \"West Point Grey\"),\n",
    "                                          neighbourhood_cleansed,\n",
    "                                          \"Other\"),\n",
    "          room_type = if_else(room_type %in% c(\"Private room\", \"Shared room\"),\n",
    "                             room_type,\n",
    "                             \"Other\"))\n",
    "\n",
    "dmy <- dummyVars(\" ~ .\", data = master_test_for_ids[, 2:ncol(master_test_for_ids)])\n",
    "master_test_for_ids <- cbind(master_test_for_ids$id, data.frame(predict(dmy, newdata = master_test_for_ids)))"
   ]
  },
  {
   "cell_type": "code",
   "execution_count": 109,
   "id": "15e7a83a-eb8a-4bdc-8f57-c7a884596d22",
   "metadata": {},
   "outputs": [
    {
     "data": {
      "text/html": [
       "<table class=\"dataframe\">\n",
       "<caption>A data.frame: 1 × 1</caption>\n",
       "<thead>\n",
       "\t<tr><th></th><th scope=col>as.matrix.1339..2.</th></tr>\n",
       "\t<tr><th></th><th scope=col>&lt;dbl&gt;</th></tr>\n",
       "</thead>\n",
       "<tbody>\n",
       "\t<tr><th scope=row>1</th><td>1339</td></tr>\n",
       "</tbody>\n",
       "</table>\n"
      ],
      "text/latex": [
       "A data.frame: 1 × 1\n",
       "\\begin{tabular}{r|l}\n",
       "  & as.matrix.1339..2.\\\\\n",
       "  & <dbl>\\\\\n",
       "\\hline\n",
       "\t1 & 1339\\\\\n",
       "\\end{tabular}\n"
      ],
      "text/markdown": [
       "\n",
       "A data.frame: 1 × 1\n",
       "\n",
       "| <!--/--> | as.matrix.1339..2. &lt;dbl&gt; |\n",
       "|---|---|\n",
       "| 1 | 1339 |\n",
       "\n"
      ],
      "text/plain": [
       "  as.matrix.1339..2.\n",
       "1 1339              "
      ]
     },
     "metadata": {},
     "output_type": "display_data"
    },
    {
     "data": {
      "text/html": [
       "<table class=\"dataframe\">\n",
       "<caption>A data.frame: 6 × 1</caption>\n",
       "<thead>\n",
       "\t<tr><th></th><th scope=col>id</th></tr>\n",
       "\t<tr><th></th><th scope=col>&lt;chr&gt;</th></tr>\n",
       "</thead>\n",
       "<tbody>\n",
       "\t<tr><th scope=row>1</th><td>48258797           </td></tr>\n",
       "\t<tr><th scope=row>2</th><td>1016326008395573822</td></tr>\n",
       "\t<tr><th scope=row>3</th><td>54267773           </td></tr>\n",
       "\t<tr><th scope=row>4</th><td>811650296544480046 </td></tr>\n",
       "\t<tr><th scope=row>5</th><td>1030539740098574302</td></tr>\n",
       "\t<tr><th scope=row>6</th><td>11393844           </td></tr>\n",
       "</tbody>\n",
       "</table>\n"
      ],
      "text/latex": [
       "A data.frame: 6 × 1\n",
       "\\begin{tabular}{r|l}\n",
       "  & id\\\\\n",
       "  & <chr>\\\\\n",
       "\\hline\n",
       "\t1 & 48258797           \\\\\n",
       "\t2 & 1016326008395573822\\\\\n",
       "\t3 & 54267773           \\\\\n",
       "\t4 & 811650296544480046 \\\\\n",
       "\t5 & 1030539740098574302\\\\\n",
       "\t6 & 11393844           \\\\\n",
       "\\end{tabular}\n"
      ],
      "text/markdown": [
       "\n",
       "A data.frame: 6 × 1\n",
       "\n",
       "| <!--/--> | id &lt;chr&gt; |\n",
       "|---|---|\n",
       "| 1 | 48258797            |\n",
       "| 2 | 1016326008395573822 |\n",
       "| 3 | 54267773            |\n",
       "| 4 | 811650296544480046  |\n",
       "| 5 | 1030539740098574302 |\n",
       "| 6 | 11393844            |\n",
       "\n"
      ],
      "text/plain": [
       "  id                 \n",
       "1 48258797           \n",
       "2 1016326008395573822\n",
       "3 54267773           \n",
       "4 811650296544480046 \n",
       "5 1030539740098574302\n",
       "6 11393844           "
      ]
     },
     "metadata": {},
     "output_type": "display_data"
    }
   ],
   "source": [
    "id_df <- data.frame()\n",
    "\n",
    "neighs <- c('neighbourhood_cleansedDowntown.Eastside','neighbourhood_cleansedDunbar.Southlands',\n",
    "            'neighbourhood_cleansedGrandview.Woodland','neighbourhood_cleansedKillarney',\n",
    "            'neighbourhood_cleansedKitsilano','neighbourhood_cleansedMarpole',\n",
    "            'neighbourhood_cleansedMount.Pleasant','neighbourhood_cleansedOakridge',\n",
    "            'neighbourhood_cleansedOther','neighbourhood_cleansedWest.End',\n",
    "            'neighbourhood_cleansedWest.Point.Grey')\n",
    "props <- c('property_typeCamper.RV','property_typeEntire.home','property_typeEntire.villa',\n",
    "           'property_typeOther','property_typePrivate.room.in.bungalow','property_typePrivate.room.in.condo',\n",
    "           'property_typeRoom.in.hotel')\n",
    "rooms <- c('room_typeOther','room_typePrivate.room','room_typeShared.room')\n",
    "\n",
    "head(separate)\n",
    "for (i in 1:length(neighs)) {\n",
    "    temp <- master_test_for_ids  %>%\n",
    "        filter(.data[[neighs[i]]] == 1) %>%\n",
    "        select(-neighs)\n",
    "\n",
    "    temp_df <- data.frame(temp[, 1])\n",
    "    colnames(temp_df) <- c(\"id\")\n",
    "    id_df <- rbind(id_df, temp_df)\n",
    "}\n",
    "head(id_df)"
   ]
  },
  {
   "cell_type": "code",
   "execution_count": 110,
   "id": "013339ef-1ae6-4726-b1bf-62c7314ef752",
   "metadata": {},
   "outputs": [
    {
     "data": {
      "text/html": [
       "<table class=\"dataframe\">\n",
       "<caption>A data.frame: 6 × 2</caption>\n",
       "<thead>\n",
       "\t<tr><th></th><th scope=col>id</th><th scope=col>predictions</th></tr>\n",
       "\t<tr><th></th><th scope=col>&lt;chr&gt;</th><th scope=col>&lt;dbl&gt;</th></tr>\n",
       "</thead>\n",
       "<tbody>\n",
       "\t<tr><th scope=row>63</th><td>48258797           </td><td>2161.397</td></tr>\n",
       "\t<tr><th scope=row>64</th><td>1016326008395573822</td><td>1509.845</td></tr>\n",
       "\t<tr><th scope=row>65</th><td>54267773           </td><td>1672.733</td></tr>\n",
       "\t<tr><th scope=row>77</th><td>811650296544480046 </td><td>1672.733</td></tr>\n",
       "\t<tr><th scope=row>83</th><td>1030539740098574302</td><td>1835.621</td></tr>\n",
       "\t<tr><th scope=row>107</th><td>11393844           </td><td>2479.670</td></tr>\n",
       "</tbody>\n",
       "</table>\n"
      ],
      "text/latex": [
       "A data.frame: 6 × 2\n",
       "\\begin{tabular}{r|ll}\n",
       "  & id & predictions\\\\\n",
       "  & <chr> & <dbl>\\\\\n",
       "\\hline\n",
       "\t63 & 48258797            & 2161.397\\\\\n",
       "\t64 & 1016326008395573822 & 1509.845\\\\\n",
       "\t65 & 54267773            & 1672.733\\\\\n",
       "\t77 & 811650296544480046  & 1672.733\\\\\n",
       "\t83 & 1030539740098574302 & 1835.621\\\\\n",
       "\t107 & 11393844            & 2479.670\\\\\n",
       "\\end{tabular}\n"
      ],
      "text/markdown": [
       "\n",
       "A data.frame: 6 × 2\n",
       "\n",
       "| <!--/--> | id &lt;chr&gt; | predictions &lt;dbl&gt; |\n",
       "|---|---|---|\n",
       "| 63 | 48258797            | 2161.397 |\n",
       "| 64 | 1016326008395573822 | 1509.845 |\n",
       "| 65 | 54267773            | 1672.733 |\n",
       "| 77 | 811650296544480046  | 1672.733 |\n",
       "| 83 | 1030539740098574302 | 1835.621 |\n",
       "| 107 | 11393844            | 2479.670 |\n",
       "\n"
      ],
      "text/plain": [
       "    id                  predictions\n",
       "63  48258797            2161.397   \n",
       "64  1016326008395573822 1509.845   \n",
       "65  54267773            1672.733   \n",
       "77  811650296544480046  1672.733   \n",
       "83  1030539740098574302 1835.621   \n",
       "107 11393844            2479.670   "
      ]
     },
     "metadata": {},
     "output_type": "display_data"
    }
   ],
   "source": [
    "separate_preds <- cbind(id_df, separate_preds)\n",
    "head(separate_preds)"
   ]
  },
  {
   "cell_type": "code",
   "execution_count": 111,
   "id": "57c73c55-e1b6-4681-b5e5-ce622d682606",
   "metadata": {},
   "outputs": [],
   "source": [
    "write.csv(separate_preds, \"separate.csv\", row.names = FALSE)"
   ]
  },
  {
   "cell_type": "code",
   "execution_count": 75,
   "id": "899626ec-f423-4bc3-8820-ab8f0453cc8f",
   "metadata": {},
   "outputs": [
    {
     "data": {
      "text/html": [],
      "text/latex": [],
      "text/markdown": [],
      "text/plain": [
       "<0 x 0 matrix>"
      ]
     },
     "metadata": {},
     "output_type": "display_data"
    },
    {
     "data": {
      "text/html": [
       "<table class=\"dataframe\">\n",
       "<caption>A data.frame: 4 × 2</caption>\n",
       "<thead>\n",
       "\t<tr><th scope=col>a</th><th scope=col>b</th></tr>\n",
       "\t<tr><th scope=col>&lt;dbl&gt;</th><th scope=col>&lt;dbl&gt;</th></tr>\n",
       "</thead>\n",
       "<tbody>\n",
       "\t<tr><td>  1</td><td>  3</td></tr>\n",
       "\t<tr><td>  2</td><td>  4</td></tr>\n",
       "\t<tr><td>100</td><td>300</td></tr>\n",
       "\t<tr><td>200</td><td>400</td></tr>\n",
       "</tbody>\n",
       "</table>\n"
      ],
      "text/latex": [
       "A data.frame: 4 × 2\n",
       "\\begin{tabular}{ll}\n",
       " a & b\\\\\n",
       " <dbl> & <dbl>\\\\\n",
       "\\hline\n",
       "\t   1 &   3\\\\\n",
       "\t   2 &   4\\\\\n",
       "\t 100 & 300\\\\\n",
       "\t 200 & 400\\\\\n",
       "\\end{tabular}\n"
      ],
      "text/markdown": [
       "\n",
       "A data.frame: 4 × 2\n",
       "\n",
       "| a &lt;dbl&gt; | b &lt;dbl&gt; |\n",
       "|---|---|\n",
       "|   1 |   3 |\n",
       "|   2 |   4 |\n",
       "| 100 | 300 |\n",
       "| 200 | 400 |\n",
       "\n"
      ],
      "text/plain": [
       "  a   b  \n",
       "1   1   3\n",
       "2   2   4\n",
       "3 100 300\n",
       "4 200 400"
      ]
     },
     "metadata": {},
     "output_type": "display_data"
    }
   ],
   "source": [
    "d <- data.frame()\n",
    "d\n",
    "d1 <- data.frame(c(1,2), c(3,4))\n",
    "colnames(d1) <- c(\"a\", \"b\")\n",
    "d <- rbind(d, d1)\n",
    "d2 <- data.frame(c(100,200), c(300,400))\n",
    "colnames(d2) <- c(\"a\", \"b\")\n",
    "d <- rbind(d, d2)\n",
    "d"
   ]
  },
  {
   "cell_type": "code",
   "execution_count": 37,
   "id": "42765a8d-5507-4e0d-9048-f867af0e1cf5",
   "metadata": {},
   "outputs": [
    {
     "data": {
      "text/html": [
       "<style>\n",
       ".list-inline {list-style: none; margin:0; padding: 0}\n",
       ".list-inline>li {display: inline-block}\n",
       ".list-inline>li:not(:last-child)::after {content: \"\\00b7\"; padding: 0 .5ex}\n",
       "</style>\n",
       "<ol class=list-inline><li>0</li><li>0</li><li>0</li><li>0</li><li>0</li><li>0</li><li>0</li><li>0</li><li>0</li><li>0</li></ol>\n"
      ],
      "text/latex": [
       "\\begin{enumerate*}\n",
       "\\item 0\n",
       "\\item 0\n",
       "\\item 0\n",
       "\\item 0\n",
       "\\item 0\n",
       "\\item 0\n",
       "\\item 0\n",
       "\\item 0\n",
       "\\item 0\n",
       "\\item 0\n",
       "\\end{enumerate*}\n"
      ],
      "text/markdown": [
       "1. 0\n",
       "2. 0\n",
       "3. 0\n",
       "4. 0\n",
       "5. 0\n",
       "6. 0\n",
       "7. 0\n",
       "8. 0\n",
       "9. 0\n",
       "10. 0\n",
       "\n",
       "\n"
      ],
      "text/plain": [
       " [1] 0 0 0 0 0 0 0 0 0 0"
      ]
     },
     "metadata": {},
     "output_type": "display_data"
    }
   ],
   "source": [
    "rep(0, each = 10)"
   ]
  },
  {
   "cell_type": "code",
   "execution_count": 139,
   "id": "81c481ad-ece6-4ef5-a7aa-c8446de37fdb",
   "metadata": {},
   "outputs": [
    {
     "name": "stdout",
     "output_type": "stream",
     "text": [
      "[1] 0.1577014\n",
      "[1] 0.4132535\n",
      "[1] 0.362885\n",
      "[1] 0.3184556\n",
      "[1] 0.3327511\n",
      "[1] 0.2621656\n",
      "[1] 0.3189294\n",
      "[1] 0.5894547\n",
      "[1] 0.3255948\n",
      "[1] 0.3497053\n",
      "[1] 0.2984162\n"
     ]
    }
   ],
   "source": [
    "neighs <- c(\"Downtown Eastside\", \"Dunbar Southlands\", \"Grandview-Woodland\", \"Killarney\", \"Kitsilano\", \n",
    "            \"Marpole\", \"Mount Pleasant\", \"Oakridge\", \"West End\", \"West Point Grey\", \"Other\")\n",
    "for (i in 1:11) {\n",
    "    temp_data <- get(paste(substr(neighs[i], 1, 4), \"_data\", sep=\"\"))\n",
    "    temp_y <- temp_data$monthly_revenue\n",
    "    temp_x <- makeX(temp_data %>% select(-monthly_revenue),\n",
    "          na.impute = TRUE)\n",
    "\n",
    "    cv_model_temp <- cv.glmnet(temp_x, temp_y, alpha = 1)\n",
    "\n",
    "    best_lambda_temp <- cv_model_temp$lambda.min\n",
    "    best_lambda_temp\n",
    "\n",
    "    best_model_temp <- glmnet(temp_x, temp_y, alpha = 1, lambda = best_lambda_temp)\n",
    "    coef(best_model_temp)\n",
    "\n",
    "    pred_y_temp <- predict(best_model_temp, s = best_lambda_temp, newx = temp_x)\n",
    "\n",
    "    sst_temp <- sum((temp_y - mean(temp_y))^2)\n",
    "    sse_temp <- sum((pred_y_temp - temp_y)^2)\n",
    "\n",
    "    rsq_temp <- 1 - sse_temp/sst_temp\n",
    "    print(rsq_temp)\n",
    "    assign(paste(substr(neighs[i], 1, 4), \"_model\", sep=\"\"), best_model_temp)\n",
    "    assign(paste(substr(neighs[i], 1, 4), \"_lambda\", sep=\"\"), best_lambda_temp)\n",
    "}"
   ]
  },
  {
   "cell_type": "code",
   "execution_count": 143,
   "id": "26079bac-5310-4f97-8b8d-f76f07d41e61",
   "metadata": {},
   "outputs": [
    {
     "name": "stderr",
     "output_type": "stream",
     "text": [
      "Warning message:\n",
      "“\u001b[1m\u001b[22mThere was 1 warning in `mutate()`.\n",
      "\u001b[1m\u001b[22m\u001b[36mℹ\u001b[39m In argument: `price = as.numeric(price)`.\n",
      "Caused by warning:\n",
      "\u001b[33m!\u001b[39m NAs introduced by coercion”\n"
     ]
    }
   ],
   "source": [
    "master_test <- read.csv(\"test.csv\") %>%\n",
    "    mutate(price = substr(price, 2, nchar(price)),\n",
    "          host_response_rate = substr(host_response_rate, 1, nchar(host_response_rate) - 1),\n",
    "          host_acceptance_rate = substr(host_acceptance_rate, 1, nchar(host_acceptance_rate) - 1),\n",
    "          price = as.numeric(price),\n",
    "          host_response_rate = as.numeric(host_response_rate),\n",
    "          host_acceptance_rate = as.numeric(host_acceptance_rate)) %>%\n",
    "    select(id, -name, -neighborhood_overview, -host_id, -host_name, \n",
    "           -neighbourhood, -latitude, -longitude, host_response_time, host_response_rate, host_acceptance_rate, \n",
    "           host_is_superhost, host_listings_count, host_total_listings_count, -bathrooms, -bedrooms, -amenities,\n",
    "          minimum_nights, maximum_nights, minimum_nights_avg_ntm, maximum_nights_avg_ntm, \n",
    "          review_scores_rating, review_scores_accuracy, review_scores_cleanliness, review_scores_checkin, \n",
    "           review_scores_communication, review_scores_location, review_scores_value, number_of_reviews, \n",
    "           number_of_reviews_ltm, calculated_host_listings_count, reviews_per_month, neighbourhood_cleansed,\n",
    "           property_type, room_type) %>%\n",
    "    mutate(property_type = if_else(property_type %in% c(\"Camper/RV\", \"Entire home\", \n",
    "                                                        \"Entire villa\", \"Private room in bungalow\", \"Private room in condo\",\n",
    "                                                        \"Room in hotel\"),\n",
    "                                  property_type,\n",
    "                                  \"Other\"),\n",
    "          neighbourhood_cleansed = if_else(neighbourhood_cleansed %in% c(\"Downtown Eastside\", \"Dunbar Southlands\",\n",
    "                                                                         \"Grandview-Woodland\", \"Killarney\", \"Kitsilano\", \n",
    "                                                                         \"Marpole\", \"Mount Pleasant\", \"Oakridge\", \n",
    "                                                                         \"West End\", \"West Point Grey\"),\n",
    "                                          neighbourhood_cleansed,\n",
    "                                          \"Other\"),\n",
    "          room_type = if_else(room_type %in% c(\"Private room\", \"Shared room\"),\n",
    "                             room_type,\n",
    "                             \"Other\"))"
   ]
  },
  {
   "cell_type": "code",
   "execution_count": 145,
   "id": "625c4c2d-0c02-4f36-9b7d-cf7825fdbacc",
   "metadata": {},
   "outputs": [
    {
     "name": "stdout",
     "output_type": "stream",
     "text": [
      " [1] \"id\"                                  \n",
      " [2] \"host_response_time\"                  \n",
      " [3] \"host_response_timewithin.a.day\"      \n",
      " [4] \"host_response_timewithin.a.few.hours\"\n",
      " [5] \"host_response_timewithin.an.hour\"    \n",
      " [6] \"host_response_rate\"                  \n",
      " [7] \"host_acceptance_rate\"                \n",
      " [8] \"host_is_superhost\"                   \n",
      " [9] \"host_is_superhostf\"                  \n",
      "[10] \"host_is_superhostt\"                  \n",
      "[11] \"host_listings_count\"                 \n",
      "[12] \"host_total_listings_count\"           \n",
      "[13] \"minimum_nights\"                      \n",
      "[14] \"maximum_nights\"                      \n",
      "[15] \"minimum_nights_avg_ntm\"              \n",
      "[16] \"maximum_nights_avg_ntm\"              \n",
      "[17] \"review_scores_rating\"                \n",
      "[18] \"review_scores_accuracy\"              \n",
      "[19] \"review_scores_cleanliness\"           \n",
      "[20] \"review_scores_checkin\"               \n",
      "[21] \"review_scores_communication\"         \n",
      "[22] \"review_scores_location\"              \n",
      "[23] \"review_scores_value\"                 \n",
      "[24] \"number_of_reviews\"                   \n",
      "[25] \"number_of_reviews_ltm\"               \n",
      "[26] \"calculated_host_listings_count\"      \n",
      "[27] \"reviews_per_month\"                   \n",
      "[28] \"property_typeEntire.home\"            \n",
      "[29] \"property_typeOther\"                  \n",
      "[30] \"room_typeOther\"                      \n",
      "[31] \"room_typePrivate.room\"               \n",
      " [1] \"id\"                                  \n",
      " [2] \"host_response_time\"                  \n",
      " [3] \"host_response_timewithin.a.day\"      \n",
      " [4] \"host_response_timewithin.a.few.hours\"\n",
      " [5] \"host_response_timewithin.an.hour\"    \n",
      " [6] \"host_response_rate\"                  \n",
      " [7] \"host_acceptance_rate\"                \n",
      " [8] \"host_is_superhostf\"                  \n",
      " [9] \"host_is_superhostt\"                  \n",
      "[10] \"host_listings_count\"                 \n",
      "[11] \"host_total_listings_count\"           \n",
      "[12] \"minimum_nights\"                      \n",
      "[13] \"maximum_nights\"                      \n",
      "[14] \"minimum_nights_avg_ntm\"              \n",
      "[15] \"maximum_nights_avg_ntm\"              \n",
      "[16] \"review_scores_rating\"                \n",
      "[17] \"review_scores_accuracy\"              \n",
      "[18] \"review_scores_cleanliness\"           \n",
      "[19] \"review_scores_checkin\"               \n",
      "[20] \"review_scores_communication\"         \n",
      "[21] \"review_scores_location\"              \n",
      "[22] \"review_scores_value\"                 \n",
      "[23] \"number_of_reviews\"                   \n",
      "[24] \"number_of_reviews_ltm\"               \n",
      "[25] \"calculated_host_listings_count\"      \n",
      "[26] \"reviews_per_month\"                   \n",
      "[27] \"property_typeEntire.home\"            \n",
      "[28] \"property_typeOther\"                  \n",
      "[29] \"room_typeOther\"                      \n",
      "[30] \"room_typePrivate.room\"               \n",
      "[31] \"room_typeShared.room\"                \n",
      " [1] \"id\"                                  \n",
      " [2] \"host_response_time\"                  \n",
      " [3] \"host_response_timea.few.days.or.more\"\n",
      " [4] \"host_response_timewithin.a.day\"      \n",
      " [5] \"host_response_timewithin.a.few.hours\"\n",
      " [6] \"host_response_timewithin.an.hour\"    \n",
      " [7] \"host_response_rate\"                  \n",
      " [8] \"host_acceptance_rate\"                \n",
      " [9] \"host_is_superhostf\"                  \n",
      "[10] \"host_is_superhostt\"                  \n",
      "[11] \"host_listings_count\"                 \n",
      "[12] \"host_total_listings_count\"           \n",
      "[13] \"minimum_nights\"                      \n",
      "[14] \"maximum_nights\"                      \n",
      "[15] \"minimum_nights_avg_ntm\"              \n",
      "[16] \"maximum_nights_avg_ntm\"              \n",
      "[17] \"review_scores_rating\"                \n",
      "[18] \"review_scores_accuracy\"              \n",
      "[19] \"review_scores_cleanliness\"           \n",
      "[20] \"review_scores_checkin\"               \n",
      "[21] \"review_scores_communication\"         \n",
      "[22] \"review_scores_location\"              \n",
      "[23] \"review_scores_value\"                 \n",
      "[24] \"number_of_reviews\"                   \n",
      "[25] \"number_of_reviews_ltm\"               \n",
      "[26] \"calculated_host_listings_count\"      \n",
      "[27] \"reviews_per_month\"                   \n",
      "[28] \"property_typeEntire.home\"            \n",
      "[29] \"property_typeOther\"                  \n",
      "[30] \"property_typePrivate.room.in.condo\"  \n",
      "[31] \"room_typeOther\"                      \n",
      "[32] \"room_typePrivate.room\"               \n",
      " [1] \"id\"                                  \n",
      " [2] \"host_response_time\"                  \n",
      " [3] \"host_response_timewithin.a.day\"      \n",
      " [4] \"host_response_timewithin.a.few.hours\"\n",
      " [5] \"host_response_timewithin.an.hour\"    \n",
      " [6] \"host_response_rate\"                  \n",
      " [7] \"host_acceptance_rate\"                \n",
      " [8] \"host_is_superhostf\"                  \n",
      " [9] \"host_is_superhostt\"                  \n",
      "[10] \"host_listings_count\"                 \n",
      "[11] \"host_total_listings_count\"           \n",
      "[12] \"minimum_nights\"                      \n",
      "[13] \"maximum_nights\"                      \n",
      "[14] \"minimum_nights_avg_ntm\"              \n",
      "[15] \"maximum_nights_avg_ntm\"              \n",
      "[16] \"review_scores_rating\"                \n",
      "[17] \"review_scores_accuracy\"              \n",
      "[18] \"review_scores_cleanliness\"           \n",
      "[19] \"review_scores_checkin\"               \n",
      "[20] \"review_scores_communication\"         \n",
      "[21] \"review_scores_location\"              \n",
      "[22] \"review_scores_value\"                 \n",
      "[23] \"number_of_reviews\"                   \n",
      "[24] \"number_of_reviews_ltm\"               \n",
      "[25] \"calculated_host_listings_count\"      \n",
      "[26] \"reviews_per_month\"                   \n",
      "[27] \"property_typeEntire.home\"            \n",
      "[28] \"property_typeOther\"                  \n",
      "[29] \"room_typeOther\"                      \n",
      "[30] \"room_typePrivate.room\"               \n",
      " [1] \"id\"                                  \n",
      " [2] \"host_response_time\"                  \n",
      " [3] \"host_response_timea.few.days.or.more\"\n",
      " [4] \"host_response_timewithin.a.day\"      \n",
      " [5] \"host_response_timewithin.a.few.hours\"\n",
      " [6] \"host_response_timewithin.an.hour\"    \n",
      " [7] \"host_response_rate\"                  \n",
      " [8] \"host_acceptance_rate\"                \n",
      " [9] \"host_is_superhost\"                   \n",
      "[10] \"host_is_superhostf\"                  \n",
      "[11] \"host_is_superhostt\"                  \n",
      "[12] \"host_listings_count\"                 \n",
      "[13] \"host_total_listings_count\"           \n",
      "[14] \"minimum_nights\"                      \n",
      "[15] \"maximum_nights\"                      \n",
      "[16] \"minimum_nights_avg_ntm\"              \n",
      "[17] \"maximum_nights_avg_ntm\"              \n",
      "[18] \"review_scores_rating\"                \n",
      "[19] \"review_scores_accuracy\"              \n",
      "[20] \"review_scores_cleanliness\"           \n",
      "[21] \"review_scores_checkin\"               \n",
      "[22] \"review_scores_communication\"         \n",
      "[23] \"review_scores_location\"              \n",
      "[24] \"review_scores_value\"                 \n",
      "[25] \"number_of_reviews\"                   \n",
      "[26] \"number_of_reviews_ltm\"               \n",
      "[27] \"calculated_host_listings_count\"      \n",
      "[28] \"reviews_per_month\"                   \n",
      "[29] \"property_typeEntire.home\"            \n",
      "[30] \"property_typeEntire.villa\"           \n",
      "[31] \"property_typeOther\"                  \n",
      "[32] \"property_typePrivate.room.in.condo\"  \n",
      "[33] \"room_typeOther\"                      \n",
      "[34] \"room_typePrivate.room\"               \n",
      "[35] \"room_typeShared.room\"                \n",
      " [1] \"id\"                                  \n",
      " [2] \"host_response_time\"                  \n",
      " [3] \"host_response_timea.few.days.or.more\"\n",
      " [4] \"host_response_timewithin.a.day\"      \n",
      " [5] \"host_response_timewithin.a.few.hours\"\n",
      " [6] \"host_response_timewithin.an.hour\"    \n",
      " [7] \"host_response_rate\"                  \n",
      " [8] \"host_acceptance_rate\"                \n",
      " [9] \"host_is_superhost\"                   \n",
      "[10] \"host_is_superhostf\"                  \n",
      "[11] \"host_is_superhostt\"                  \n",
      "[12] \"host_listings_count\"                 \n",
      "[13] \"host_total_listings_count\"           \n",
      "[14] \"minimum_nights\"                      \n",
      "[15] \"maximum_nights\"                      \n",
      "[16] \"minimum_nights_avg_ntm\"              \n",
      "[17] \"maximum_nights_avg_ntm\"              \n",
      "[18] \"review_scores_rating\"                \n",
      "[19] \"review_scores_accuracy\"              \n",
      "[20] \"review_scores_cleanliness\"           \n",
      "[21] \"review_scores_checkin\"               \n",
      "[22] \"review_scores_communication\"         \n",
      "[23] \"review_scores_location\"              \n",
      "[24] \"review_scores_value\"                 \n",
      "[25] \"number_of_reviews\"                   \n",
      "[26] \"number_of_reviews_ltm\"               \n",
      "[27] \"calculated_host_listings_count\"      \n",
      "[28] \"reviews_per_month\"                   \n",
      "[29] \"property_typeEntire.home\"            \n",
      "[30] \"property_typeOther\"                  \n",
      "[31] \"room_typeOther\"                      \n",
      "[32] \"room_typePrivate.room\"               \n",
      " [1] \"id\"                                  \n",
      " [2] \"host_response_time\"                  \n",
      " [3] \"host_response_timewithin.a.day\"      \n",
      " [4] \"host_response_timewithin.a.few.hours\"\n",
      " [5] \"host_response_timewithin.an.hour\"    \n",
      " [6] \"host_response_rate\"                  \n",
      " [7] \"host_acceptance_rate\"                \n",
      " [8] \"host_is_superhostf\"                  \n",
      " [9] \"host_is_superhostt\"                  \n",
      "[10] \"host_listings_count\"                 \n",
      "[11] \"host_total_listings_count\"           \n",
      "[12] \"minimum_nights\"                      \n",
      "[13] \"maximum_nights\"                      \n",
      "[14] \"minimum_nights_avg_ntm\"              \n",
      "[15] \"maximum_nights_avg_ntm\"              \n",
      "[16] \"review_scores_rating\"                \n",
      "[17] \"review_scores_accuracy\"              \n",
      "[18] \"review_scores_cleanliness\"           \n",
      "[19] \"review_scores_checkin\"               \n",
      "[20] \"review_scores_communication\"         \n",
      "[21] \"review_scores_location\"              \n",
      "[22] \"review_scores_value\"                 \n",
      "[23] \"number_of_reviews\"                   \n",
      "[24] \"number_of_reviews_ltm\"               \n",
      "[25] \"calculated_host_listings_count\"      \n",
      "[26] \"reviews_per_month\"                   \n",
      "[27] \"property_typeEntire.home\"            \n",
      "[28] \"property_typeOther\"                  \n",
      "[29] \"property_typePrivate.room.in.condo\"  \n",
      "[30] \"room_typeOther\"                      \n",
      "[31] \"room_typePrivate.room\"               \n",
      " [1] \"id\"                                  \n",
      " [2] \"host_response_time\"                  \n",
      " [3] \"host_response_timewithin.a.few.hours\"\n",
      " [4] \"host_response_timewithin.an.hour\"    \n",
      " [5] \"host_response_rate\"                  \n",
      " [6] \"host_acceptance_rate\"                \n",
      " [7] \"host_is_superhostf\"                  \n",
      " [8] \"host_is_superhostt\"                  \n",
      " [9] \"host_listings_count\"                 \n",
      "[10] \"host_total_listings_count\"           \n",
      "[11] \"minimum_nights\"                      \n",
      "[12] \"maximum_nights\"                      \n",
      "[13] \"minimum_nights_avg_ntm\"              \n",
      "[14] \"maximum_nights_avg_ntm\"              \n",
      "[15] \"review_scores_rating\"                \n",
      "[16] \"review_scores_accuracy\"              \n",
      "[17] \"review_scores_cleanliness\"           \n",
      "[18] \"review_scores_checkin\"               \n",
      "[19] \"review_scores_communication\"         \n",
      "[20] \"review_scores_location\"              \n",
      "[21] \"review_scores_value\"                 \n",
      "[22] \"number_of_reviews\"                   \n",
      "[23] \"number_of_reviews_ltm\"               \n",
      "[24] \"calculated_host_listings_count\"      \n",
      "[25] \"reviews_per_month\"                   \n",
      "[26] \"property_typeEntire.home\"            \n",
      "[27] \"property_typeOther\"                  \n",
      "[28] \"room_typeOther\"                      \n",
      "[29] \"room_typePrivate.room\"               \n",
      " [1] \"id\"                                  \n",
      " [2] \"host_response_time\"                  \n",
      " [3] \"host_response_timea.few.days.or.more\"\n",
      " [4] \"host_response_timewithin.a.day\"      \n",
      " [5] \"host_response_timewithin.a.few.hours\"\n",
      " [6] \"host_response_timewithin.an.hour\"    \n",
      " [7] \"host_response_rate\"                  \n",
      " [8] \"host_acceptance_rate\"                \n",
      " [9] \"host_is_superhost\"                   \n",
      "[10] \"host_is_superhostf\"                  \n",
      "[11] \"host_is_superhostt\"                  \n",
      "[12] \"host_listings_count\"                 \n",
      "[13] \"host_total_listings_count\"           \n",
      "[14] \"minimum_nights\"                      \n",
      "[15] \"maximum_nights\"                      \n",
      "[16] \"minimum_nights_avg_ntm\"              \n",
      "[17] \"maximum_nights_avg_ntm\"              \n",
      "[18] \"review_scores_rating\"                \n",
      "[19] \"review_scores_accuracy\"              \n",
      "[20] \"review_scores_cleanliness\"           \n",
      "[21] \"review_scores_checkin\"               \n",
      "[22] \"review_scores_communication\"         \n",
      "[23] \"review_scores_location\"              \n",
      "[24] \"review_scores_value\"                 \n",
      "[25] \"number_of_reviews\"                   \n",
      "[26] \"number_of_reviews_ltm\"               \n",
      "[27] \"calculated_host_listings_count\"      \n",
      "[28] \"reviews_per_month\"                   \n",
      "[29] \"property_typeEntire.home\"            \n",
      "[30] \"property_typeOther\"                  \n",
      "[31] \"property_typePrivate.room.in.condo\"  \n",
      "[32] \"property_typeRoom.in.hotel\"          \n",
      "[33] \"room_typeOther\"                      \n",
      "[34] \"room_typePrivate.room\"               \n",
      " [1] \"id\"                                  \n",
      " [2] \"host_response_time\"                  \n",
      " [3] \"host_response_timewithin.a.day\"      \n",
      " [4] \"host_response_timewithin.a.few.hours\"\n",
      " [5] \"host_response_timewithin.an.hour\"    \n",
      " [6] \"host_response_rate\"                  \n",
      " [7] \"host_acceptance_rate\"                \n",
      " [8] \"host_is_superhostf\"                  \n",
      " [9] \"host_is_superhostt\"                  \n",
      "[10] \"host_listings_count\"                 \n",
      "[11] \"host_total_listings_count\"           \n",
      "[12] \"minimum_nights\"                      \n",
      "[13] \"maximum_nights\"                      \n",
      "[14] \"minimum_nights_avg_ntm\"              \n",
      "[15] \"maximum_nights_avg_ntm\"              \n",
      "[16] \"review_scores_rating\"                \n",
      "[17] \"review_scores_accuracy\"              \n",
      "[18] \"review_scores_cleanliness\"           \n",
      "[19] \"review_scores_checkin\"               \n",
      "[20] \"review_scores_communication\"         \n",
      "[21] \"review_scores_location\"              \n",
      "[22] \"review_scores_value\"                 \n",
      "[23] \"number_of_reviews\"                   \n",
      "[24] \"number_of_reviews_ltm\"               \n",
      "[25] \"calculated_host_listings_count\"      \n",
      "[26] \"reviews_per_month\"                   \n",
      "[27] \"property_typeEntire.home\"            \n",
      "[28] \"property_typeOther\"                  \n",
      "[29] \"room_typeOther\"                      \n",
      "[30] \"room_typePrivate.room\"               \n",
      "[31] \"room_typeShared.room\"                \n",
      " [1] \"id\"                                   \n",
      " [2] \"host_response_time\"                   \n",
      " [3] \"host_response_timea.few.days.or.more\" \n",
      " [4] \"host_response_timewithin.a.day\"       \n",
      " [5] \"host_response_timewithin.a.few.hours\" \n",
      " [6] \"host_response_timewithin.an.hour\"     \n",
      " [7] \"host_response_rate\"                   \n",
      " [8] \"host_acceptance_rate\"                 \n",
      " [9] \"host_is_superhost\"                    \n",
      "[10] \"host_is_superhostf\"                   \n",
      "[11] \"host_is_superhostt\"                   \n",
      "[12] \"host_listings_count\"                  \n",
      "[13] \"host_total_listings_count\"            \n",
      "[14] \"minimum_nights\"                       \n",
      "[15] \"maximum_nights\"                       \n",
      "[16] \"minimum_nights_avg_ntm\"               \n",
      "[17] \"maximum_nights_avg_ntm\"               \n",
      "[18] \"review_scores_rating\"                 \n",
      "[19] \"review_scores_accuracy\"               \n",
      "[20] \"review_scores_cleanliness\"            \n",
      "[21] \"review_scores_checkin\"                \n",
      "[22] \"review_scores_communication\"          \n",
      "[23] \"review_scores_location\"               \n",
      "[24] \"review_scores_value\"                  \n",
      "[25] \"number_of_reviews\"                    \n",
      "[26] \"number_of_reviews_ltm\"                \n",
      "[27] \"calculated_host_listings_count\"       \n",
      "[28] \"reviews_per_month\"                    \n",
      "[29] \"property_typeCamper.RV\"               \n",
      "[30] \"property_typeEntire.home\"             \n",
      "[31] \"property_typeEntire.villa\"            \n",
      "[32] \"property_typeOther\"                   \n",
      "[33] \"property_typePrivate.room.in.bungalow\"\n",
      "[34] \"property_typePrivate.room.in.condo\"   \n",
      "[35] \"property_typeRoom.in.hotel\"           \n",
      "[36] \"room_typeOther\"                       \n",
      "[37] \"room_typePrivate.room\"                \n",
      "[38] \"room_typeShared.room\"                 \n"
     ]
    }
   ],
   "source": [
    "neighs <- c(\"Downtown Eastside\", \"Dunbar Southlands\", \"Grandview-Woodland\", \"Killarney\", \"Kitsilano\", \n",
    "            \"Marpole\", \"Mount Pleasant\", \"Oakridge\", \"West End\", \"West Point Grey\", \"Other\")\n",
    "for (i in 1:11) {\n",
    "    temp <- master_test  %>%\n",
    "        filter(neighbourhood_cleansed == neighs[i]) %>%\n",
    "        select(-neighbourhood_cleansed)\n",
    "\n",
    "    dmy <- dummyVars(\" ~ .\", data = temp)\n",
    "    temp <- data.frame(predict(dmy, newdata = temp))\n",
    "\n",
    "    print(names(temp))\n",
    "\n",
    "    # temp_test_clean <- makeX(temp, na.impute = TRUE)\n",
    "\n",
    "    # temp_preds <- predict(get(paste(substr(neighs[i], 1, 4), \"_model\", sep=\"\")), \n",
    "    #                       s = get(paste(substr(neighs[i], 1, 4), \"_lambda\", sep=\"\")), \n",
    "    #                       newx = temp_test_clean)\n",
    "    \n",
    "    # assign(paste(substr(neighs[i], 1, 4), \"_preds\", sep=\"\"), temp)\n",
    "}"
   ]
  },
  {
   "cell_type": "code",
   "execution_count": 102,
   "id": "a8720982-7a3f-4a55-bd60-2345a6807997",
   "metadata": {},
   "outputs": [
    {
     "data": {
      "text/html": [
       "65.1477135860711"
      ],
      "text/latex": [
       "65.1477135860711"
      ],
      "text/markdown": [
       "65.1477135860711"
      ],
      "text/plain": [
       "[1] 65.14771"
      ]
     },
     "metadata": {},
     "output_type": "display_data"
    },
    {
     "data": {
      "text/plain": [
       "45 x 1 sparse Matrix of class \"dgCMatrix\"\n",
       "                                                s0\n",
       "(Intercept)                          -1.385256e+03\n",
       "host_response_time                    .           \n",
       "host_response_timea.few.days.or.more  .           \n",
       "host_response_timewithin.a.day        .           \n",
       "host_response_timewithin.a.few.hours  .           \n",
       "host_response_timewithin.an.hour      .           \n",
       "host_response_rate                    .           \n",
       "host_acceptance_rate                  .           \n",
       "host_is_superhost                     .           \n",
       "host_is_superhostf                   -6.575894e+01\n",
       "host_is_superhostt                    .           \n",
       "host_listings_count                   .           \n",
       "host_total_listings_count             .           \n",
       "property_typeCamper.RV                .           \n",
       "property_typeEntire.home              .           \n",
       "property_typeOther                    .           \n",
       "property_typePrivate.room.in.condo    .           \n",
       "property_typeRoom.in.hotel            .           \n",
       "room_typeOther                        .           \n",
       "room_typePrivate.room                 .           \n",
       "room_typeShared.room                  .           \n",
       "accommodates                          8.830562e+01\n",
       "beds                                  8.443621e+01\n",
       "price                                 3.992915e-01\n",
       "minimum_nights                        .           \n",
       "maximum_nights                        .           \n",
       "minimum_nights_avg_ntm                .           \n",
       "maximum_nights_avg_ntm                5.622494e-02\n",
       "availability_30                       .           \n",
       "availability_60                       .           \n",
       "availability_90                       .           \n",
       "availability_365                      .           \n",
       "number_of_reviews                     1.808743e-01\n",
       "number_of_reviews_ltm                 .           \n",
       "review_scores_rating                  .           \n",
       "review_scores_accuracy                .           \n",
       "review_scores_cleanliness             .           \n",
       "review_scores_checkin                 .           \n",
       "review_scores_communication           .           \n",
       "review_scores_location                2.208334e+02\n",
       "review_scores_value                   2.873180e+02\n",
       "instant_bookablef                     .           \n",
       "instant_bookablet                     .           \n",
       "calculated_host_listings_count        .           \n",
       "reviews_per_month                     .           "
      ]
     },
     "metadata": {},
     "output_type": "display_data"
    },
    {
     "data": {
      "text/html": [
       "0.107140914302181"
      ],
      "text/latex": [
       "0.107140914302181"
      ],
      "text/markdown": [
       "0.107140914302181"
      ],
      "text/plain": [
       "[1] 0.1071409"
      ]
     },
     "metadata": {},
     "output_type": "display_data"
    },
    {
     "data": {
      "text/html": [
       "465553158.927044"
      ],
      "text/latex": [
       "465553158.927044"
      ],
      "text/markdown": [
       "465553158.927044"
      ],
      "text/plain": [
       "[1] 465553159"
      ]
     },
     "metadata": {},
     "output_type": "display_data"
    },
    {
     "data": {
      "image/png": "[encoded data removed]",
      "text/plain": [
       "plot without title"
      ]
     },
     "metadata": {
      "image/png": {
       "height": 420,
       "width": 420
      }
     },
     "output_type": "display_data"
    }
   ],
   "source": [
    "y_downtown <- downtown_data$monthly_revenue\n",
    "x_downtown <- makeX(downtown_data %>% select(-monthly_revenue),\n",
    "          na.impute = TRUE)\n",
    "\n",
    "cv_model_downtown <- cv.glmnet(x_downtown, y_downtown, alpha = 1)\n",
    "\n",
    "best_lambda_downtown <- cv_model_downtown$lambda.min\n",
    "best_lambda_downtown\n",
    "\n",
    "plot(cv_model_downtown) \n",
    "\n",
    "best_model_downtown <- glmnet(x_downtown, y_downtown, alpha = 1, lambda = best_lambda_downtown)\n",
    "coef(best_model_downtown)\n",
    "\n",
    "pred_y_downtown <- predict(best_model_downtown, s = best_lambda_downtown, newx = x_downtown)\n",
    "\n",
    "sst_downtown <- sum((y_downtown - mean(y_downtown))^2)\n",
    "sse_downtown <- sum((pred_y_downtown - y_downtown)^2)\n",
    "\n",
    "rsq_downtown <- 1 - sse_downtown/sst_downtown\n",
    "rsq_downtown\n",
    "sse_downtown "
   ]
  },
  {
   "cell_type": "code",
   "execution_count": null,
   "id": "de7959d7-65ac-4a9d-9d56-94488faa83da",
   "metadata": {},
   "outputs": [],
   "source": []
  },
  {
   "cell_type": "markdown",
   "id": "96a83929-5792-4db9-90ff-74186a68e9ca",
   "metadata": {},
   "source": [
    "**<h3>Separate for each accomodates</h3>**"
   ]
  },
  {
   "cell_type": "code",
   "execution_count": 236,
   "id": "7f97cf31-8ca0-4d7e-9aee-2c5075f787aa",
   "metadata": {},
   "outputs": [
    {
     "name": "stderr",
     "output_type": "stream",
     "text": [
      "Warning message:\n",
      "“\u001b[1m\u001b[22mThere was 1 warning in `mutate()`.\n",
      "\u001b[1m\u001b[22m\u001b[36mℹ\u001b[39m In argument: `price = as.numeric(price)`.\n",
      "Caused by warning:\n",
      "\u001b[33m!\u001b[39m NAs introduced by coercion”\n",
      "Warning message:\n",
      "“\u001b[1m\u001b[22mThere was 1 warning in `mutate()`.\n",
      "\u001b[1m\u001b[22m\u001b[36mℹ\u001b[39m In argument: `price = as.numeric(price)`.\n",
      "Caused by warning:\n",
      "\u001b[33m!\u001b[39m NAs introduced by coercion”\n"
     ]
    }
   ],
   "source": [
    "train_clean_30 <- read.csv(\"train.csv\") %>%\n",
    "    mutate(price = substr(price, 2, nchar(price)),\n",
    "          host_response_rate = substr(host_response_rate, 1, nchar(host_response_rate) - 1),\n",
    "          host_acceptance_rate = substr(host_acceptance_rate, 1, nchar(host_acceptance_rate) - 1),\n",
    "          price = as.numeric(price),\n",
    "          host_response_rate = as.numeric(host_response_rate),\n",
    "          host_acceptance_rate = as.numeric(host_acceptance_rate)) %>%\n",
    "    select(-X, -id, -name, -neighborhood_overview, -host_id, -host_name, \n",
    "           -neighbourhood, -latitude, -longitude, -host_response_time, -host_response_rate, -host_acceptance_rate, \n",
    "           -host_is_superhost, -host_listings_count, -host_total_listings_count, -bathrooms, -bedrooms, -amenities,\n",
    "          -minimum_nights, -maximum_nights, -minimum_nights_avg_ntm, -maximum_nights_avg_ntm, \n",
    "          -review_scores_rating, -review_scores_accuracy, -review_scores_cleanliness, -review_scores_checkin, \n",
    "           -review_scores_communication, -review_scores_location, -review_scores_value, -number_of_reviews, \n",
    "           -number_of_reviews_ltm, -calculated_host_listings_count, -reviews_per_month, availability_30, -availability_60,\n",
    "           -availability_90, -availability_365, neighbourhood_cleansed, property_type, room_type) %>%\n",
    "    mutate(property_type = if_else(property_type %in% c(\"Camper/RV\", \"Entire home\", \n",
    "                                                        \"Entire villa\", \"Private room in bungalow\", \"Private room in condo\",\n",
    "                                                        \"Room in hotel\"),\n",
    "                                  property_type,\n",
    "                                  \"Other\"),\n",
    "          neighbourhood_cleansed = if_else(neighbourhood_cleansed %in% c(\"Downtown Eastside\", \"Dunbar Southlands\",\n",
    "                                                                         \"Grandview-Woodland\", \"Killarney\", \"Kitsilano\", \n",
    "                                                                         \"Marpole\", \"Mount Pleasant\", \"Oakridge\", \n",
    "                                                                         \"West End\", \"West Point Grey\"),\n",
    "                                          neighbourhood_cleansed,\n",
    "                                          \"Other\"),\n",
    "          room_type = if_else(room_type %in% c(\"Private room\", \"Shared room\"),\n",
    "                             room_type,\n",
    "                             \"Other\"))\n",
    "dmy <- dummyVars(\" ~ .\", data = train_clean_30)\n",
    "train_clean_30 <- data.frame(predict(dmy, newdata = train_clean_30))\n",
    "\n",
    "test_clean_30 <- read.csv(\"test.csv\") %>%\n",
    "    mutate(price = substr(price, 2, nchar(price)),\n",
    "          host_response_rate = substr(host_response_rate, 1, nchar(host_response_rate) - 1),\n",
    "          host_acceptance_rate = substr(host_acceptance_rate, 1, nchar(host_acceptance_rate) - 1),\n",
    "          price = as.numeric(price),\n",
    "          host_response_rate = as.numeric(host_response_rate),\n",
    "          host_acceptance_rate = as.numeric(host_acceptance_rate)) %>%\n",
    "    select(-id, -name, -neighborhood_overview, -host_id, -host_name, \n",
    "           -neighbourhood, -latitude, -longitude, -host_response_time, -host_response_rate, -host_acceptance_rate, \n",
    "           -host_is_superhost, -host_listings_count, -host_total_listings_count, -bathrooms, -bedrooms, -amenities,\n",
    "          -minimum_nights, -maximum_nights, -minimum_nights_avg_ntm, -maximum_nights_avg_ntm, \n",
    "          -review_scores_rating, -review_scores_accuracy, -review_scores_cleanliness, -review_scores_checkin, \n",
    "           -review_scores_communication, -review_scores_location, -review_scores_value, -number_of_reviews, \n",
    "           -number_of_reviews_ltm, -calculated_host_listings_count, -reviews_per_month, availability_30, -availability_60,\n",
    "           -availability_90, -availability_365, neighbourhood_cleansed, property_type, room_type) %>%\n",
    "    mutate(property_type = if_else(property_type %in% c(\"Camper/RV\", \"Entire home\", \n",
    "                                                        \"Entire villa\", \"Private room in bungalow\", \"Private room in condo\",\n",
    "                                                        \"Room in hotel\"),\n",
    "                                  property_type,\n",
    "                                  \"Other\"),\n",
    "          neighbourhood_cleansed = if_else(neighbourhood_cleansed %in% c(\"Downtown Eastside\", \"Dunbar Southlands\",\n",
    "                                                                         \"Grandview-Woodland\", \"Killarney\", \"Kitsilano\", \n",
    "                                                                         \"Marpole\", \"Mount Pleasant\", \"Oakridge\", \n",
    "                                                                         \"West End\", \"West Point Grey\"),\n",
    "                                          neighbourhood_cleansed,\n",
    "                                          \"Other\"),\n",
    "          room_type = if_else(room_type %in% c(\"Private room\", \"Shared room\"),\n",
    "                             room_type,\n",
    "                             \"Other\"))\n",
    "dmy <- dummyVars(\" ~ .\", data = test_clean_30)\n",
    "test_clean_30 <- data.frame(predict(dmy, newdata = test_clean_30))"
   ]
  },
  {
   "cell_type": "code",
   "execution_count": 238,
   "id": "4c91dd1f-d0f3-46d5-a22f-6b7507cf5220",
   "metadata": {},
   "outputs": [
    {
     "data": {
      "text/html": [
       "2.27859981175357"
      ],
      "text/latex": [
       "2.27859981175357"
      ],
      "text/markdown": [
       "2.27859981175357"
      ],
      "text/plain": [
       "[1] 2.2786"
      ]
     },
     "metadata": {},
     "output_type": "display_data"
    },
    {
     "data": {
      "text/plain": [
       "28 x 1 sparse Matrix of class \"dgCMatrix\"\n",
       "                                                    s0\n",
       "(Intercept)                               8.969415e+02\n",
       "neighbourhood_cleansedDowntown.Eastside   1.016843e+02\n",
       "neighbourhood_cleansedDunbar.Southlands  -1.597054e+02\n",
       "neighbourhood_cleansedGrandview.Woodland  1.726413e+02\n",
       "neighbourhood_cleansedKillarney           1.755403e+02\n",
       "neighbourhood_cleansedKitsilano           4.231332e+01\n",
       "neighbourhood_cleansedMarpole            -9.330613e+01\n",
       "neighbourhood_cleansedMount.Pleasant     -7.618385e+01\n",
       "neighbourhood_cleansedOakridge            1.498656e+02\n",
       "neighbourhood_cleansedOther               .           \n",
       "neighbourhood_cleansedWest.End           -4.471580e+01\n",
       "neighbourhood_cleansedWest.Point.Grey    -7.630503e+01\n",
       "property_typeCamper.RV                   -5.802772e+02\n",
       "property_typeEntire.home                  9.422012e+02\n",
       "property_typeEntire.villa                -6.074966e+02\n",
       "property_typeOther                       -2.746363e+01\n",
       "property_typePrivate.room.in.bungalow     5.893688e+02\n",
       "property_typePrivate.room.in.condo        3.516423e+02\n",
       "property_typeRoom.in.hotel               -1.075322e+03\n",
       "room_typeOther                           -7.086924e+01\n",
       "room_typePrivate.room                     9.106501e-01\n",
       "room_typeShared.room                     -3.131741e+02\n",
       "accommodates                              2.072693e+02\n",
       "beds                                      3.518806e+01\n",
       "price                                    -3.205410e-03\n",
       "availability_30                          -3.682558e+00\n",
       "instant_bookablef                         1.067795e+02\n",
       "instant_bookablet                        -3.381473e-11"
      ]
     },
     "metadata": {},
     "output_type": "display_data"
    },
    {
     "data": {
      "text/html": [
       "0.285033443754652"
      ],
      "text/latex": [
       "0.285033443754652"
      ],
      "text/markdown": [
       "0.285033443754652"
      ],
      "text/plain": [
       "[1] 0.2850334"
      ]
     },
     "metadata": {},
     "output_type": "display_data"
    },
    {
     "data": {
      "text/html": [
       "6813185741.56073"
      ],
      "text/latex": [
       "6813185741.56073"
      ],
      "text/markdown": [
       "6813185741.56073"
      ],
      "text/plain": [
       "[1] 6813185742"
      ]
     },
     "metadata": {},
     "output_type": "display_data"
    },
    {
     "data": {
      "image/png": "[encoded data removed]",
      "text/plain": [
       "plot without title"
      ]
     },
     "metadata": {
      "image/png": {
       "height": 420,
       "width": 420
      }
     },
     "output_type": "display_data"
    }
   ],
   "source": [
    "y_30 <- train_clean_30$monthly_revenue\n",
    "x_30 <- makeX(train_clean_30 %>% select(-monthly_revenue),\n",
    "          na.impute = TRUE)\n",
    "\n",
    "cv_model_30 <- cv.glmnet(x_30, y_30, alpha = 1)\n",
    "\n",
    "best_lambda_30 <- cv_model_30$lambda.min\n",
    "best_lambda_30\n",
    "\n",
    "plot(cv_model_30) \n",
    "\n",
    "best_model_30 <- glmnet(x_30, y_30, alpha = 1, lambda = best_lambda_30)\n",
    "coef(best_model_30)\n",
    "\n",
    "pred_y_30 <- predict(best_model_30, s = best_lambda_30, newx = x_30)\n",
    "\n",
    "sst_30 <- sum((y_30 - mean(y_30))^2)\n",
    "sse_30 <- sum((pred_y_30 - y_30)^2)\n",
    "\n",
    "rsq_30 <- 1 - sse_30/sst_30\n",
    "rsq_30\n",
    "sse_30 "
   ]
  },
  {
   "cell_type": "code",
   "execution_count": 245,
   "id": "4e28c68d-9550-46be-85fc-565d96856988",
   "metadata": {},
   "outputs": [
    {
     "name": "stderr",
     "output_type": "stream",
     "text": [
      "Warning message:\n",
      "“\u001b[1m\u001b[22mThere was 1 warning in `mutate()`.\n",
      "\u001b[1m\u001b[22m\u001b[36mℹ\u001b[39m In argument: `price = as.numeric(price)`.\n",
      "Caused by warning:\n",
      "\u001b[33m!\u001b[39m NAs introduced by coercion”\n",
      "Warning message:\n",
      "“\u001b[1m\u001b[22mThere was 1 warning in `mutate()`.\n",
      "\u001b[1m\u001b[22m\u001b[36mℹ\u001b[39m In argument: `price = as.numeric(price)`.\n",
      "Caused by warning:\n",
      "\u001b[33m!\u001b[39m NAs introduced by coercion”\n"
     ]
    }
   ],
   "source": [
    "train_clean_60 <- read.csv(\"train.csv\") %>%\n",
    "    mutate(price = substr(price, 2, nchar(price)),\n",
    "          host_response_rate = substr(host_response_rate, 1, nchar(host_response_rate) - 1),\n",
    "          host_acceptance_rate = substr(host_acceptance_rate, 1, nchar(host_acceptance_rate) - 1),\n",
    "          price = as.numeric(price),\n",
    "          host_response_rate = as.numeric(host_response_rate),\n",
    "          host_acceptance_rate = as.numeric(host_acceptance_rate)) %>%\n",
    "    select(-X, -id, -name, -neighborhood_overview, -host_id, -host_name, \n",
    "           -neighbourhood, -latitude, -longitude, -host_response_time, -host_response_rate, -host_acceptance_rate, \n",
    "           -host_is_superhost, -host_listings_count, -host_total_listings_count, -bathrooms, -bedrooms, -amenities,\n",
    "          -minimum_nights, -maximum_nights, -minimum_nights_avg_ntm, -maximum_nights_avg_ntm, \n",
    "          -review_scores_rating, -review_scores_accuracy, -review_scores_cleanliness, -review_scores_checkin, \n",
    "           -review_scores_communication, -review_scores_location, -review_scores_value, -number_of_reviews, \n",
    "           -number_of_reviews_ltm, -calculated_host_listings_count, -reviews_per_month, -availability_30, availability_60,\n",
    "           -availability_90, -availability_365, neighbourhood_cleansed, property_type, room_type) %>%\n",
    "    mutate(property_type = if_else(property_type %in% c(\"Camper/RV\", \"Entire home\", \n",
    "                                                        \"Entire villa\", \"Private room in bungalow\", \"Private room in condo\",\n",
    "                                                        \"Room in hotel\"),\n",
    "                                  property_type,\n",
    "                                  \"Other\"),\n",
    "          neighbourhood_cleansed = if_else(neighbourhood_cleansed %in% c(\"Downtown Eastside\", \"Dunbar Southlands\",\n",
    "                                                                         \"Grandview-Woodland\", \"Killarney\", \"Kitsilano\", \n",
    "                                                                         \"Marpole\", \"Mount Pleasant\", \"Oakridge\", \n",
    "                                                                         \"West End\", \"West Point Grey\"),\n",
    "                                          neighbourhood_cleansed,\n",
    "                                          \"Other\"),\n",
    "          room_type = if_else(room_type %in% c(\"Private room\", \"Shared room\"),\n",
    "                             room_type,\n",
    "                             \"Other\"))\n",
    "dmy <- dummyVars(\" ~ .\", data = train_clean_60)\n",
    "train_clean_60 <- data.frame(predict(dmy, newdata = train_clean_60))\n",
    "\n",
    "test_clean_60 <- read.csv(\"test.csv\") %>%\n",
    "    mutate(price = substr(price, 2, nchar(price)),\n",
    "          host_response_rate = substr(host_response_rate, 1, nchar(host_response_rate) - 1),\n",
    "          host_acceptance_rate = substr(host_acceptance_rate, 1, nchar(host_acceptance_rate) - 1),\n",
    "          price = as.numeric(price),\n",
    "          host_response_rate = as.numeric(host_response_rate),\n",
    "          host_acceptance_rate = as.numeric(host_acceptance_rate)) %>%\n",
    "    select(-id, -name, -neighborhood_overview, -host_id, -host_name, \n",
    "           -neighbourhood, -latitude, -longitude, -host_response_time, -host_response_rate, -host_acceptance_rate, \n",
    "           -host_is_superhost, -host_listings_count, -host_total_listings_count, -bathrooms, -bedrooms, -amenities,\n",
    "          -minimum_nights, -maximum_nights, -minimum_nights_avg_ntm, -maximum_nights_avg_ntm, \n",
    "          -review_scores_rating, -review_scores_accuracy, -review_scores_cleanliness, -review_scores_checkin, \n",
    "           -review_scores_communication, -review_scores_location, -review_scores_value, -number_of_reviews, \n",
    "           -number_of_reviews_ltm, -calculated_host_listings_count, -reviews_per_month, -availability_30, availability_60,\n",
    "           -availability_90, -availability_365, neighbourhood_cleansed, property_type, room_type) %>%\n",
    "    mutate(property_type = if_else(property_type %in% c(\"Camper/RV\", \"Entire home\", \n",
    "                                                        \"Entire villa\", \"Private room in bungalow\", \"Private room in condo\",\n",
    "                                                        \"Room in hotel\"),\n",
    "                                  property_type,\n",
    "                                  \"Other\"),\n",
    "          neighbourhood_cleansed = if_else(neighbourhood_cleansed %in% c(\"Downtown Eastside\", \"Dunbar Southlands\",\n",
    "                                                                         \"Grandview-Woodland\", \"Killarney\", \"Kitsilano\", \n",
    "                                                                         \"Marpole\", \"Mount Pleasant\", \"Oakridge\", \n",
    "                                                                         \"West End\", \"West Point Grey\"),\n",
    "                                          neighbourhood_cleansed,\n",
    "                                          \"Other\"),\n",
    "          room_type = if_else(room_type %in% c(\"Private room\", \"Shared room\"),\n",
    "                             room_type,\n",
    "                             \"Other\"))\n",
    "dmy <- dummyVars(\" ~ .\", data = test_clean_60)\n",
    "test_clean_60 <- data.frame(predict(dmy, newdata = test_clean_60))"
   ]
  },
  {
   "cell_type": "code",
   "execution_count": 246,
   "id": "d56329e0-d9f8-413b-9b8a-f32d43bdde43",
   "metadata": {},
   "outputs": [
    {
     "data": {
      "text/html": [
       "0.986351464020199"
      ],
      "text/latex": [
       "0.986351464020199"
      ],
      "text/markdown": [
       "0.986351464020199"
      ],
      "text/plain": [
       "[1] 0.9863515"
      ]
     },
     "metadata": {},
     "output_type": "display_data"
    },
    {
     "data": {
      "text/plain": [
       "28 x 1 sparse Matrix of class \"dgCMatrix\"\n",
       "                                                    s0\n",
       "(Intercept)                               9.071684e+02\n",
       "neighbourhood_cleansedDowntown.Eastside   1.098902e+02\n",
       "neighbourhood_cleansedDunbar.Southlands  -1.695280e+02\n",
       "neighbourhood_cleansedGrandview.Woodland  1.734340e+02\n",
       "neighbourhood_cleansedKillarney           1.838420e+02\n",
       "neighbourhood_cleansedKitsilano           4.616896e+01\n",
       "neighbourhood_cleansedMarpole            -9.962467e+01\n",
       "neighbourhood_cleansedMount.Pleasant     -8.116421e+01\n",
       "neighbourhood_cleansedOakridge            1.547894e+02\n",
       "neighbourhood_cleansedOther               .           \n",
       "neighbourhood_cleansedWest.End           -4.770595e+01\n",
       "neighbourhood_cleansedWest.Point.Grey    -8.704300e+01\n",
       "property_typeCamper.RV                   -6.098507e+02\n",
       "property_typeEntire.home                  9.460226e+02\n",
       "property_typeEntire.villa                -6.265349e+02\n",
       "property_typeOther                       -2.564487e+01\n",
       "property_typePrivate.room.in.bungalow     6.311669e+02\n",
       "property_typePrivate.room.in.condo        3.610725e+02\n",
       "property_typeRoom.in.hotel               -1.128933e+03\n",
       "room_typeOther                           -7.488752e+01\n",
       "room_typePrivate.room                     5.143197e+00\n",
       "room_typeShared.room                     -3.283960e+02\n",
       "accommodates                              2.099188e+02\n",
       "beds                                      3.469367e+01\n",
       "price                                    -2.861697e-02\n",
       "availability_60                          -2.159295e+00\n",
       "instant_bookablef                         1.091647e+02\n",
       "instant_bookablet                        -3.400187e-11"
      ]
     },
     "metadata": {},
     "output_type": "display_data"
    },
    {
     "data": {
      "text/html": [
       "0.285480504134819"
      ],
      "text/latex": [
       "0.285480504134819"
      ],
      "text/markdown": [
       "0.285480504134819"
      ],
      "text/plain": [
       "[1] 0.2854805"
      ]
     },
     "metadata": {},
     "output_type": "display_data"
    },
    {
     "data": {
      "text/html": [
       "6808925534.72844"
      ],
      "text/latex": [
       "6808925534.72844"
      ],
      "text/markdown": [
       "6808925534.72844"
      ],
      "text/plain": [
       "[1] 6808925535"
      ]
     },
     "metadata": {},
     "output_type": "display_data"
    },
    {
     "data": {
      "image/png": "[encoded data removed]",
      "text/plain": [
       "plot without title"
      ]
     },
     "metadata": {
      "image/png": {
       "height": 420,
       "width": 420
      }
     },
     "output_type": "display_data"
    }
   ],
   "source": [
    "y_60 <- train_clean_60$monthly_revenue\n",
    "x_60 <- makeX(train_clean_60 %>% select(-monthly_revenue),\n",
    "          na.impute = TRUE)\n",
    "\n",
    "cv_model_60 <- cv.glmnet(x_60, y_60, alpha = 1)\n",
    "\n",
    "best_lambda_60 <- cv_model_60$lambda.min\n",
    "best_lambda_60\n",
    "\n",
    "plot(cv_model_60) \n",
    "\n",
    "best_model_60 <- glmnet(x_60, y_60, alpha = 1, lambda = best_lambda_60)\n",
    "coef(best_model_60)\n",
    "\n",
    "pred_y_60 <- predict(best_model_60, s = best_lambda_60, newx = x_60)\n",
    "\n",
    "sst_60 <- sum((y_60 - mean(y_60))^2)\n",
    "sse_60 <- sum((pred_y_60 - y_60)^2)\n",
    "\n",
    "rsq_60 <- 1 - sse_60/sst_60\n",
    "rsq_60\n",
    "sse_60 "
   ]
  },
  {
   "cell_type": "code",
   "execution_count": 247,
   "id": "ca73e97c-ac69-45e5-96a1-068f74153cdb",
   "metadata": {},
   "outputs": [
    {
     "name": "stderr",
     "output_type": "stream",
     "text": [
      "Warning message:\n",
      "“\u001b[1m\u001b[22mThere was 1 warning in `mutate()`.\n",
      "\u001b[1m\u001b[22m\u001b[36mℹ\u001b[39m In argument: `price = as.numeric(price)`.\n",
      "Caused by warning:\n",
      "\u001b[33m!\u001b[39m NAs introduced by coercion”\n",
      "Warning message:\n",
      "“\u001b[1m\u001b[22mThere was 1 warning in `mutate()`.\n",
      "\u001b[1m\u001b[22m\u001b[36mℹ\u001b[39m In argument: `price = as.numeric(price)`.\n",
      "Caused by warning:\n",
      "\u001b[33m!\u001b[39m NAs introduced by coercion”\n"
     ]
    }
   ],
   "source": [
    "train_clean_90 <- read.csv(\"train.csv\") %>%\n",
    "    mutate(price = substr(price, 2, nchar(price)),\n",
    "          host_response_rate = substr(host_response_rate, 1, nchar(host_response_rate) - 1),\n",
    "          host_acceptance_rate = substr(host_acceptance_rate, 1, nchar(host_acceptance_rate) - 1),\n",
    "          price = as.numeric(price),\n",
    "          host_response_rate = as.numeric(host_response_rate),\n",
    "          host_acceptance_rate = as.numeric(host_acceptance_rate)) %>%\n",
    "    select(-X, -id, -name, -neighborhood_overview, -host_id, -host_name, \n",
    "           -neighbourhood, -latitude, -longitude, -host_response_time, -host_response_rate, -host_acceptance_rate, \n",
    "           -host_is_superhost, -host_listings_count, -host_total_listings_count, -bathrooms, -bedrooms, -amenities,\n",
    "          -minimum_nights, -maximum_nights, -minimum_nights_avg_ntm, -maximum_nights_avg_ntm, \n",
    "          -review_scores_rating, -review_scores_accuracy, -review_scores_cleanliness, -review_scores_checkin, \n",
    "           -review_scores_communication, -review_scores_location, -review_scores_value, -number_of_reviews, \n",
    "           -number_of_reviews_ltm, -calculated_host_listings_count, -reviews_per_month, -availability_30, -availability_60,\n",
    "           availability_90, -availability_365, neighbourhood_cleansed, property_type, room_type) %>%\n",
    "    mutate(property_type = if_else(property_type %in% c(\"Camper/RV\", \"Entire home\", \n",
    "                                                        \"Entire villa\", \"Private room in bungalow\", \"Private room in condo\",\n",
    "                                                        \"Room in hotel\"),\n",
    "                                  property_type,\n",
    "                                  \"Other\"),\n",
    "          neighbourhood_cleansed = if_else(neighbourhood_cleansed %in% c(\"Downtown Eastside\", \"Dunbar Southlands\",\n",
    "                                                                         \"Grandview-Woodland\", \"Killarney\", \"Kitsilano\", \n",
    "                                                                         \"Marpole\", \"Mount Pleasant\", \"Oakridge\", \n",
    "                                                                         \"West End\", \"West Point Grey\"),\n",
    "                                          neighbourhood_cleansed,\n",
    "                                          \"Other\"),\n",
    "          room_type = if_else(room_type %in% c(\"Private room\", \"Shared room\"),\n",
    "                             room_type,\n",
    "                             \"Other\"))\n",
    "dmy <- dummyVars(\" ~ .\", data = train_clean_90)\n",
    "train_clean_90 <- data.frame(predict(dmy, newdata = train_clean_90))\n",
    "\n",
    "test_clean_90 <- read.csv(\"test.csv\") %>%\n",
    "    mutate(price = substr(price, 2, nchar(price)),\n",
    "          host_response_rate = substr(host_response_rate, 1, nchar(host_response_rate) - 1),\n",
    "          host_acceptance_rate = substr(host_acceptance_rate, 1, nchar(host_acceptance_rate) - 1),\n",
    "          price = as.numeric(price),\n",
    "          host_response_rate = as.numeric(host_response_rate),\n",
    "          host_acceptance_rate = as.numeric(host_acceptance_rate)) %>%\n",
    "    select(-id, -name, -neighborhood_overview, -host_id, -host_name, \n",
    "           -neighbourhood, -latitude, -longitude, -host_response_time, -host_response_rate, -host_acceptance_rate, \n",
    "           -host_is_superhost, -host_listings_count, -host_total_listings_count, -bathrooms, -bedrooms, -amenities,\n",
    "          -minimum_nights, -maximum_nights, -minimum_nights_avg_ntm, -maximum_nights_avg_ntm, \n",
    "          -review_scores_rating, -review_scores_accuracy, -review_scores_cleanliness, -review_scores_checkin, \n",
    "           -review_scores_communication, -review_scores_location, -review_scores_value, -number_of_reviews, \n",
    "           -number_of_reviews_ltm, -calculated_host_listings_count, -reviews_per_month, -availability_30, -availability_60,\n",
    "           availability_90, -availability_365, neighbourhood_cleansed, property_type, room_type) %>%\n",
    "    mutate(property_type = if_else(property_type %in% c(\"Camper/RV\", \"Entire home\", \n",
    "                                                        \"Entire villa\", \"Private room in bungalow\", \"Private room in condo\",\n",
    "                                                        \"Room in hotel\"),\n",
    "                                  property_type,\n",
    "                                  \"Other\"),\n",
    "          neighbourhood_cleansed = if_else(neighbourhood_cleansed %in% c(\"Downtown Eastside\", \"Dunbar Southlands\",\n",
    "                                                                         \"Grandview-Woodland\", \"Killarney\", \"Kitsilano\", \n",
    "                                                                         \"Marpole\", \"Mount Pleasant\", \"Oakridge\", \n",
    "                                                                         \"West End\", \"West Point Grey\"),\n",
    "                                          neighbourhood_cleansed,\n",
    "                                          \"Other\"),\n",
    "          room_type = if_else(room_type %in% c(\"Private room\", \"Shared room\"),\n",
    "                             room_type,\n",
    "                             \"Other\"))\n",
    "dmy <- dummyVars(\" ~ .\", data = test_clean_90)\n",
    "test_clean_90 <- data.frame(predict(dmy, newdata = test_clean_90))"
   ]
  },
  {
   "cell_type": "code",
   "execution_count": 248,
   "id": "a031b15f-c289-4c54-9d5a-67e54ac640e8",
   "metadata": {},
   "outputs": [
    {
     "data": {
      "text/html": [
       "5.26386109973582"
      ],
      "text/latex": [
       "5.26386109973582"
      ],
      "text/markdown": [
       "5.26386109973582"
      ],
      "text/plain": [
       "[1] 5.263861"
      ]
     },
     "metadata": {},
     "output_type": "display_data"
    },
    {
     "data": {
      "text/plain": [
       "28 x 1 sparse Matrix of class \"dgCMatrix\"\n",
       "                                                    s0\n",
       "(Intercept)                               8.764256e+02\n",
       "neighbourhood_cleansedDowntown.Eastside   8.438346e+01\n",
       "neighbourhood_cleansedDunbar.Southlands  -1.404226e+02\n",
       "neighbourhood_cleansedGrandview.Woodland  1.553261e+02\n",
       "neighbourhood_cleansedKillarney           1.476372e+02\n",
       "neighbourhood_cleansedKitsilano           2.815613e+01\n",
       "neighbourhood_cleansedMarpole            -6.671860e+01\n",
       "neighbourhood_cleansedMount.Pleasant     -6.717133e+01\n",
       "neighbourhood_cleansedOakridge            1.308042e+02\n",
       "neighbourhood_cleansedOther               .           \n",
       "neighbourhood_cleansedWest.End           -3.678777e+01\n",
       "neighbourhood_cleansedWest.Point.Grey    -5.387655e+01\n",
       "property_typeCamper.RV                   -4.995756e+02\n",
       "property_typeEntire.home                  9.235937e+02\n",
       "property_typeEntire.villa                -5.551556e+02\n",
       "property_typeOther                       -4.151844e+01\n",
       "property_typePrivate.room.in.bungalow     4.637771e+02\n",
       "property_typePrivate.room.in.condo        3.089260e+02\n",
       "property_typeRoom.in.hotel               -9.795966e+02\n",
       "room_typeOther                            .           \n",
       "room_typePrivate.room                     5.914673e+01\n",
       "room_typeShared.room                     -1.940165e+02\n",
       "accommodates                              2.060481e+02\n",
       "beds                                      3.357737e+01\n",
       "price                                     .           \n",
       "availability_90                          -1.438014e+00\n",
       "instant_bookablef                         9.769921e+01\n",
       "instant_bookablet                        -8.535870e-11"
      ]
     },
     "metadata": {},
     "output_type": "display_data"
    },
    {
     "data": {
      "text/html": [
       "0.285401527503578"
      ],
      "text/latex": [
       "0.285401527503578"
      ],
      "text/markdown": [
       "0.285401527503578"
      ],
      "text/plain": [
       "[1] 0.2854015"
      ]
     },
     "metadata": {},
     "output_type": "display_data"
    },
    {
     "data": {
      "text/html": [
       "6809678132.80899"
      ],
      "text/latex": [
       "6809678132.80899"
      ],
      "text/markdown": [
       "6809678132.80899"
      ],
      "text/plain": [
       "[1] 6809678133"
      ]
     },
     "metadata": {},
     "output_type": "display_data"
    },
    {
     "data": {
      "image/png": "[encoded data removed]",
      "text/plain": [
       "plot without title"
      ]
     },
     "metadata": {
      "image/png": {
       "height": 420,
       "width": 420
      }
     },
     "output_type": "display_data"
    }
   ],
   "source": [
    "y_90 <- train_clean_90$monthly_revenue\n",
    "x_90 <- makeX(train_clean_90 %>% select(-monthly_revenue),\n",
    "          na.impute = TRUE)\n",
    "\n",
    "cv_model_90 <- cv.glmnet(x_90, y_90, alpha = 1)\n",
    "\n",
    "best_lambda_90 <- cv_model_90$lambda.min\n",
    "best_lambda_90\n",
    "\n",
    "plot(cv_model_90) \n",
    "\n",
    "best_model_90 <- glmnet(x_90, y_90, alpha = 1, lambda = best_lambda_90)\n",
    "coef(best_model_90)\n",
    "\n",
    "pred_y_90 <- predict(best_model_90, s = best_lambda_90, newx = x_90)\n",
    "\n",
    "sst_90 <- sum((y_90 - mean(y_90))^2)\n",
    "sse_90 <- sum((pred_y_90 - y_90)^2)\n",
    "\n",
    "rsq_90 <- 1 - sse_90/sst_90\n",
    "rsq_90\n",
    "sse_90 "
   ]
  },
  {
   "cell_type": "code",
   "execution_count": 249,
   "id": "9b913f9f-11c9-40ca-8a4c-7b092aa81c41",
   "metadata": {},
   "outputs": [
    {
     "name": "stderr",
     "output_type": "stream",
     "text": [
      "Warning message:\n",
      "“\u001b[1m\u001b[22mThere was 1 warning in `mutate()`.\n",
      "\u001b[1m\u001b[22m\u001b[36mℹ\u001b[39m In argument: `price = as.numeric(price)`.\n",
      "Caused by warning:\n",
      "\u001b[33m!\u001b[39m NAs introduced by coercion”\n",
      "Warning message:\n",
      "“\u001b[1m\u001b[22mThere was 1 warning in `mutate()`.\n",
      "\u001b[1m\u001b[22m\u001b[36mℹ\u001b[39m In argument: `price = as.numeric(price)`.\n",
      "Caused by warning:\n",
      "\u001b[33m!\u001b[39m NAs introduced by coercion”\n"
     ]
    }
   ],
   "source": [
    "train_clean_365 <- read.csv(\"train.csv\") %>%\n",
    "    mutate(price = substr(price, 2, nchar(price)),\n",
    "          host_response_rate = substr(host_response_rate, 1, nchar(host_response_rate) - 1),\n",
    "          host_acceptance_rate = substr(host_acceptance_rate, 1, nchar(host_acceptance_rate) - 1),\n",
    "          price = as.numeric(price),\n",
    "          host_response_rate = as.numeric(host_response_rate),\n",
    "          host_acceptance_rate = as.numeric(host_acceptance_rate)) %>%\n",
    "    select(-X, -id, -name, -neighborhood_overview, -host_id, -host_name, \n",
    "           -neighbourhood, -latitude, -longitude, -host_response_time, -host_response_rate, -host_acceptance_rate, \n",
    "           -host_is_superhost, -host_listings_count, -host_total_listings_count, -bathrooms, -bedrooms, -amenities,\n",
    "          -minimum_nights, -maximum_nights, -minimum_nights_avg_ntm, -maximum_nights_avg_ntm, \n",
    "          -review_scores_rating, -review_scores_accuracy, -review_scores_cleanliness, -review_scores_checkin, \n",
    "           -review_scores_communication, -review_scores_location, -review_scores_value, -number_of_reviews, \n",
    "           -number_of_reviews_ltm, -calculated_host_listings_count, -reviews_per_month, -availability_30, -availability_60,\n",
    "           -availability_90, availability_365, neighbourhood_cleansed, property_type, room_type) %>%\n",
    "    mutate(property_type = if_else(property_type %in% c(\"Camper/RV\", \"Entire home\", \n",
    "                                                        \"Entire villa\", \"Private room in bungalow\", \"Private room in condo\",\n",
    "                                                        \"Room in hotel\"),\n",
    "                                  property_type,\n",
    "                                  \"Other\"),\n",
    "          neighbourhood_cleansed = if_else(neighbourhood_cleansed %in% c(\"Downtown Eastside\", \"Dunbar Southlands\",\n",
    "                                                                         \"Grandview-Woodland\", \"Killarney\", \"Kitsilano\", \n",
    "                                                                         \"Marpole\", \"Mount Pleasant\", \"Oakridge\", \n",
    "                                                                         \"West End\", \"West Point Grey\"),\n",
    "                                          neighbourhood_cleansed,\n",
    "                                          \"Other\"),\n",
    "          room_type = if_else(room_type %in% c(\"Private room\", \"Shared room\"),\n",
    "                             room_type,\n",
    "                             \"Other\"))\n",
    "dmy <- dummyVars(\" ~ .\", data = train_clean_365)\n",
    "train_clean_365 <- data.frame(predict(dmy, newdata = train_clean_365))\n",
    "\n",
    "test_clean_365 <- read.csv(\"test.csv\") %>%\n",
    "    mutate(price = substr(price, 2, nchar(price)),\n",
    "          host_response_rate = substr(host_response_rate, 1, nchar(host_response_rate) - 1),\n",
    "          host_acceptance_rate = substr(host_acceptance_rate, 1, nchar(host_acceptance_rate) - 1),\n",
    "          price = as.numeric(price),\n",
    "          host_response_rate = as.numeric(host_response_rate),\n",
    "          host_acceptance_rate = as.numeric(host_acceptance_rate)) %>%\n",
    "    select(-id, -name, -neighborhood_overview, -host_id, -host_name, \n",
    "           -neighbourhood, -latitude, -longitude, -host_response_time, -host_response_rate, -host_acceptance_rate, \n",
    "           -host_is_superhost, -host_listings_count, -host_total_listings_count, -bathrooms, -bedrooms, -amenities,\n",
    "          -minimum_nights, -maximum_nights, -minimum_nights_avg_ntm, -maximum_nights_avg_ntm, \n",
    "          -review_scores_rating, -review_scores_accuracy, -review_scores_cleanliness, -review_scores_checkin, \n",
    "           -review_scores_communication, -review_scores_location, -review_scores_value, -number_of_reviews, \n",
    "           -number_of_reviews_ltm, -calculated_host_listings_count, -reviews_per_month, -availability_30, -availability_60,\n",
    "           -availability_90, availability_365, neighbourhood_cleansed, property_type, room_type) %>%\n",
    "    mutate(property_type = if_else(property_type %in% c(\"Camper/RV\", \"Entire home\", \n",
    "                                                        \"Entire villa\", \"Private room in bungalow\", \"Private room in condo\",\n",
    "                                                        \"Room in hotel\"),\n",
    "                                  property_type,\n",
    "                                  \"Other\"),\n",
    "          neighbourhood_cleansed = if_else(neighbourhood_cleansed %in% c(\"Downtown Eastside\", \"Dunbar Southlands\",\n",
    "                                                                         \"Grandview-Woodland\", \"Killarney\", \"Kitsilano\", \n",
    "                                                                         \"Marpole\", \"Mount Pleasant\", \"Oakridge\", \n",
    "                                                                         \"West End\", \"West Point Grey\"),\n",
    "                                          neighbourhood_cleansed,\n",
    "                                          \"Other\"),\n",
    "          room_type = if_else(room_type %in% c(\"Private room\", \"Shared room\"),\n",
    "                             room_type,\n",
    "                             \"Other\"))\n",
    "dmy <- dummyVars(\" ~ .\", data = test_clean_365)\n",
    "test_clean_365 <- data.frame(predict(dmy, newdata = test_clean_365))"
   ]
  },
  {
   "cell_type": "code",
   "execution_count": 264,
   "id": "8a65e478-921f-4ca1-b4f8-2a5b77caa590",
   "metadata": {},
   "outputs": [
    {
     "data": {
      "text/html": [
       "4.7962341874444"
      ],
      "text/latex": [
       "4.7962341874444"
      ],
      "text/markdown": [
       "4.7962341874444"
      ],
      "text/plain": [
       "[1] 4.796234"
      ]
     },
     "metadata": {},
     "output_type": "display_data"
    },
    {
     "data": {
      "text/plain": [
       "28 x 1 sparse Matrix of class \"dgCMatrix\"\n",
       "                                                    s0\n",
       "(Intercept)                               8.835434e+02\n",
       "neighbourhood_cleansedDowntown.Eastside   7.804532e+01\n",
       "neighbourhood_cleansedDunbar.Southlands  -1.393147e+02\n",
       "neighbourhood_cleansedGrandview.Woodland  1.556802e+02\n",
       "neighbourhood_cleansedKillarney           1.547378e+02\n",
       "neighbourhood_cleansedKitsilano           4.107885e+01\n",
       "neighbourhood_cleansedMarpole            -7.092866e+01\n",
       "neighbourhood_cleansedMount.Pleasant     -6.004597e+01\n",
       "neighbourhood_cleansedOakridge            1.249772e+02\n",
       "neighbourhood_cleansedOther               .           \n",
       "neighbourhood_cleansedWest.End           -4.001370e+01\n",
       "neighbourhood_cleansedWest.Point.Grey    -6.069935e+01\n",
       "property_typeCamper.RV                   -4.669270e+02\n",
       "property_typeEntire.home                  9.209534e+02\n",
       "property_typeEntire.villa                -5.651859e+02\n",
       "property_typeOther                       -4.033385e+01\n",
       "property_typePrivate.room.in.bungalow     4.685414e+02\n",
       "property_typePrivate.room.in.condo        3.100035e+02\n",
       "property_typeRoom.in.hotel               -9.958263e+02\n",
       "room_typeOther                            .           \n",
       "room_typePrivate.room                     5.886761e+01\n",
       "room_typeShared.room                     -1.879368e+02\n",
       "accommodates                              2.066939e+02\n",
       "beds                                      3.420598e+01\n",
       "price                                     .           \n",
       "availability_365                         -5.224531e-01\n",
       "instant_bookablef                         9.669195e+01\n",
       "instant_bookablet                        -8.846108e-11"
      ]
     },
     "metadata": {},
     "output_type": "display_data"
    },
    {
     "data": {
      "text/html": [
       "0.286439440305804"
      ],
      "text/latex": [
       "0.286439440305804"
      ],
      "text/markdown": [
       "0.286439440305804"
      ],
      "text/plain": [
       "[1] 0.2864394"
      ]
     },
     "metadata": {},
     "output_type": "display_data"
    },
    {
     "data": {
      "text/html": [
       "6799787470.59082"
      ],
      "text/latex": [
       "6799787470.59082"
      ],
      "text/markdown": [
       "6799787470.59082"
      ],
      "text/plain": [
       "[1] 6799787471"
      ]
     },
     "metadata": {},
     "output_type": "display_data"
    },
    {
     "data": {
      "image/png": "[encoded data removed]",
      "text/plain": [
       "plot without title"
      ]
     },
     "metadata": {
      "image/png": {
       "height": 420,
       "width": 420
      }
     },
     "output_type": "display_data"
    }
   ],
   "source": [
    "y_365 <- train_clean_365$monthly_revenue\n",
    "x_365 <- makeX(train_clean_365 %>% select(-monthly_revenue),\n",
    "          na.impute = TRUE)\n",
    "\n",
    "cv_model_365 <- cv.glmnet(x_365, y_365, alpha = 1)\n",
    "\n",
    "best_lambda_365 <- cv_model_365$lambda.min\n",
    "best_lambda_365\n",
    "\n",
    "plot(cv_model_365) \n",
    "\n",
    "best_model_365 <- glmnet(x_365, y_365, alpha = 1, lambda = best_lambda_365)\n",
    "coef(best_model_365)\n",
    "\n",
    "pred_y_365 <- predict(best_model_365, s = best_lambda_365, newx = x_365)\n",
    "\n",
    "sst_365 <- sum((y_365 - mean(y_365))^2)\n",
    "sse_365 <- sum((pred_y_365 - y_365)^2)\n",
    "\n",
    "rsq_365 <- 1 - sse_365/sst_365\n",
    "rsq_365\n",
    "sse_365 "
   ]
  },
  {
   "cell_type": "code",
   "execution_count": 255,
   "id": "befe9ba0-b555-4117-8d1b-2ff9a47df956",
   "metadata": {},
   "outputs": [],
   "source": [
    "x_test_clean_30 <- makeX(test_clean %>%\n",
    "                             select(-availability_60, -availability_90, -availability_365),\n",
    "          na.impute = TRUE)\n",
    "\n",
    "t_test_clean_30 <- predict(best_model_30, s = best_lambda_30, newx = x_test_clean_30)\n"
   ]
  },
  {
   "cell_type": "code",
   "execution_count": null,
   "id": "1e34e3b0-4a21-4489-9246-de4b97ca7b62",
   "metadata": {},
   "outputs": [],
   "source": [
    "x_test_clean_60 <- makeX(test_clean %>%\n",
    "                             select(-availability_30, -availability_90, -availability_365),\n",
    "          na.impute = TRUE)\n",
    "\n",
    "t_test_clean_60 <- predict(best_model_60, s = best_lambda_60, newx = x_test_clean_60)\n"
   ]
  },
  {
   "cell_type": "code",
   "execution_count": 256,
   "id": "281d28ea-1069-4580-9aa0-61d98cc0e4d7",
   "metadata": {},
   "outputs": [],
   "source": [
    "x_test_clean_90 <- makeX(test_clean %>%\n",
    "                             select(-availability_30, -availability_60, -availability_365),\n",
    "          na.impute = TRUE)\n",
    "\n",
    "t_test_clean_90 <- predict(best_model_90, s = best_lambda_90, newx = x_test_clean_90)\n"
   ]
  },
  {
   "cell_type": "code",
   "execution_count": 257,
   "id": "50ef801b-21a2-4e70-90a9-b51ce4a3666a",
   "metadata": {},
   "outputs": [],
   "source": [
    "x_test_clean_365 <- makeX(test_clean %>%\n",
    "                             select(-availability_30, -availability_60, -availability_90),\n",
    "          na.impute = TRUE)\n",
    "\n",
    "t_test_clean_365 <- predict(best_model_365, s = best_lambda_365, newx = x_test_clean_365)\n"
   ]
  },
  {
   "cell_type": "code",
   "execution_count": 261,
   "id": "a51f85d7-46dc-498e-a2cd-812c63fb2563",
   "metadata": {},
   "outputs": [
    {
     "data": {
      "text/html": [
       "<table class=\"dataframe\">\n",
       "<caption>A matrix: 1339 × 1 of type dbl</caption>\n",
       "<thead>\n",
       "\t<tr><th></th><th scope=col>s1</th></tr>\n",
       "</thead>\n",
       "<tbody>\n",
       "\t<tr><th scope=row>1</th><td>3692.437</td></tr>\n",
       "\t<tr><th scope=row>2</th><td>1354.556</td></tr>\n",
       "\t<tr><th scope=row>3</th><td>1691.874</td></tr>\n",
       "\t<tr><th scope=row>4</th><td>1760.340</td></tr>\n",
       "\t<tr><th scope=row>5</th><td>1171.716</td></tr>\n",
       "\t<tr><th scope=row>6</th><td>1804.399</td></tr>\n",
       "\t<tr><th scope=row>7</th><td>1305.170</td></tr>\n",
       "\t<tr><th scope=row>8</th><td>1277.003</td></tr>\n",
       "\t<tr><th scope=row>9</th><td>3420.806</td></tr>\n",
       "\t<tr><th scope=row>10</th><td>2089.192</td></tr>\n",
       "\t<tr><th scope=row>11</th><td>1694.048</td></tr>\n",
       "\t<tr><th scope=row>12</th><td>1354.556</td></tr>\n",
       "\t<tr><th scope=row>13</th><td>1247.936</td></tr>\n",
       "\t<tr><th scope=row>14</th><td>2165.838</td></tr>\n",
       "\t<tr><th scope=row>15</th><td>1532.386</td></tr>\n",
       "\t<tr><th scope=row>16</th><td>1586.787</td></tr>\n",
       "\t<tr><th scope=row>17</th><td>3258.862</td></tr>\n",
       "\t<tr><th scope=row>18</th><td>2025.607</td></tr>\n",
       "\t<tr><th scope=row>19</th><td>1351.032</td></tr>\n",
       "\t<tr><th scope=row>20</th><td>1262.503</td></tr>\n",
       "\t<tr><th scope=row>21</th><td>2166.201</td></tr>\n",
       "\t<tr><th scope=row>22</th><td>1288.460</td></tr>\n",
       "\t<tr><th scope=row>23</th><td>1451.635</td></tr>\n",
       "\t<tr><th scope=row>24</th><td>1354.721</td></tr>\n",
       "\t<tr><th scope=row>25</th><td>1244.305</td></tr>\n",
       "\t<tr><th scope=row>26</th><td>1460.948</td></tr>\n",
       "\t<tr><th scope=row>27</th><td>1116.257</td></tr>\n",
       "\t<tr><th scope=row>28</th><td>2031.878</td></tr>\n",
       "\t<tr><th scope=row>29</th><td>2667.346</td></tr>\n",
       "\t<tr><th scope=row>30</th><td>1306.899</td></tr>\n",
       "\t<tr><th scope=row>⋮</th><td>⋮</td></tr>\n",
       "\t<tr><th scope=row>1310</th><td>1266.397</td></tr>\n",
       "\t<tr><th scope=row>1311</th><td>1280.532</td></tr>\n",
       "\t<tr><th scope=row>1312</th><td>1561.825</td></tr>\n",
       "\t<tr><th scope=row>1313</th><td>1354.826</td></tr>\n",
       "\t<tr><th scope=row>1314</th><td>1708.536</td></tr>\n",
       "\t<tr><th scope=row>1315</th><td>2115.743</td></tr>\n",
       "\t<tr><th scope=row>1316</th><td>1719.768</td></tr>\n",
       "\t<tr><th scope=row>1317</th><td>1273.179</td></tr>\n",
       "\t<tr><th scope=row>1318</th><td>1697.761</td></tr>\n",
       "\t<tr><th scope=row>1319</th><td>3024.634</td></tr>\n",
       "\t<tr><th scope=row>1320</th><td>1385.816</td></tr>\n",
       "\t<tr><th scope=row>1321</th><td>1839.470</td></tr>\n",
       "\t<tr><th scope=row>1322</th><td>1809.996</td></tr>\n",
       "\t<tr><th scope=row>1323</th><td>1310.082</td></tr>\n",
       "\t<tr><th scope=row>1324</th><td>1410.424</td></tr>\n",
       "\t<tr><th scope=row>1325</th><td>1319.497</td></tr>\n",
       "\t<tr><th scope=row>1326</th><td>1352.994</td></tr>\n",
       "\t<tr><th scope=row>1327</th><td>3336.363</td></tr>\n",
       "\t<tr><th scope=row>1328</th><td>1485.641</td></tr>\n",
       "\t<tr><th scope=row>1329</th><td>3257.892</td></tr>\n",
       "\t<tr><th scope=row>1330</th><td>1560.181</td></tr>\n",
       "\t<tr><th scope=row>1331</th><td>2628.282</td></tr>\n",
       "\t<tr><th scope=row>1332</th><td>1244.079</td></tr>\n",
       "\t<tr><th scope=row>1333</th><td>1108.911</td></tr>\n",
       "\t<tr><th scope=row>1334</th><td>3525.355</td></tr>\n",
       "\t<tr><th scope=row>1335</th><td>1230.005</td></tr>\n",
       "\t<tr><th scope=row>1336</th><td>4261.391</td></tr>\n",
       "\t<tr><th scope=row>1337</th><td>1268.332</td></tr>\n",
       "\t<tr><th scope=row>1338</th><td>1313.560</td></tr>\n",
       "\t<tr><th scope=row>1339</th><td>1804.282</td></tr>\n",
       "</tbody>\n",
       "</table>\n"
      ],
      "text/latex": [
       "A matrix: 1339 × 1 of type dbl\n",
       "\\begin{tabular}{r|l}\n",
       "  & s1\\\\\n",
       "\\hline\n",
       "\t1 & 3692.437\\\\\n",
       "\t2 & 1354.556\\\\\n",
       "\t3 & 1691.874\\\\\n",
       "\t4 & 1760.340\\\\\n",
       "\t5 & 1171.716\\\\\n",
       "\t6 & 1804.399\\\\\n",
       "\t7 & 1305.170\\\\\n",
       "\t8 & 1277.003\\\\\n",
       "\t9 & 3420.806\\\\\n",
       "\t10 & 2089.192\\\\\n",
       "\t11 & 1694.048\\\\\n",
       "\t12 & 1354.556\\\\\n",
       "\t13 & 1247.936\\\\\n",
       "\t14 & 2165.838\\\\\n",
       "\t15 & 1532.386\\\\\n",
       "\t16 & 1586.787\\\\\n",
       "\t17 & 3258.862\\\\\n",
       "\t18 & 2025.607\\\\\n",
       "\t19 & 1351.032\\\\\n",
       "\t20 & 1262.503\\\\\n",
       "\t21 & 2166.201\\\\\n",
       "\t22 & 1288.460\\\\\n",
       "\t23 & 1451.635\\\\\n",
       "\t24 & 1354.721\\\\\n",
       "\t25 & 1244.305\\\\\n",
       "\t26 & 1460.948\\\\\n",
       "\t27 & 1116.257\\\\\n",
       "\t28 & 2031.878\\\\\n",
       "\t29 & 2667.346\\\\\n",
       "\t30 & 1306.899\\\\\n",
       "\t⋮ & ⋮\\\\\n",
       "\t1310 & 1266.397\\\\\n",
       "\t1311 & 1280.532\\\\\n",
       "\t1312 & 1561.825\\\\\n",
       "\t1313 & 1354.826\\\\\n",
       "\t1314 & 1708.536\\\\\n",
       "\t1315 & 2115.743\\\\\n",
       "\t1316 & 1719.768\\\\\n",
       "\t1317 & 1273.179\\\\\n",
       "\t1318 & 1697.761\\\\\n",
       "\t1319 & 3024.634\\\\\n",
       "\t1320 & 1385.816\\\\\n",
       "\t1321 & 1839.470\\\\\n",
       "\t1322 & 1809.996\\\\\n",
       "\t1323 & 1310.082\\\\\n",
       "\t1324 & 1410.424\\\\\n",
       "\t1325 & 1319.497\\\\\n",
       "\t1326 & 1352.994\\\\\n",
       "\t1327 & 3336.363\\\\\n",
       "\t1328 & 1485.641\\\\\n",
       "\t1329 & 3257.892\\\\\n",
       "\t1330 & 1560.181\\\\\n",
       "\t1331 & 2628.282\\\\\n",
       "\t1332 & 1244.079\\\\\n",
       "\t1333 & 1108.911\\\\\n",
       "\t1334 & 3525.355\\\\\n",
       "\t1335 & 1230.005\\\\\n",
       "\t1336 & 4261.391\\\\\n",
       "\t1337 & 1268.332\\\\\n",
       "\t1338 & 1313.560\\\\\n",
       "\t1339 & 1804.282\\\\\n",
       "\\end{tabular}\n"
      ],
      "text/markdown": [
       "\n",
       "A matrix: 1339 × 1 of type dbl\n",
       "\n",
       "| <!--/--> | s1 |\n",
       "|---|---|\n",
       "| 1 | 3692.437 |\n",
       "| 2 | 1354.556 |\n",
       "| 3 | 1691.874 |\n",
       "| 4 | 1760.340 |\n",
       "| 5 | 1171.716 |\n",
       "| 6 | 1804.399 |\n",
       "| 7 | 1305.170 |\n",
       "| 8 | 1277.003 |\n",
       "| 9 | 3420.806 |\n",
       "| 10 | 2089.192 |\n",
       "| 11 | 1694.048 |\n",
       "| 12 | 1354.556 |\n",
       "| 13 | 1247.936 |\n",
       "| 14 | 2165.838 |\n",
       "| 15 | 1532.386 |\n",
       "| 16 | 1586.787 |\n",
       "| 17 | 3258.862 |\n",
       "| 18 | 2025.607 |\n",
       "| 19 | 1351.032 |\n",
       "| 20 | 1262.503 |\n",
       "| 21 | 2166.201 |\n",
       "| 22 | 1288.460 |\n",
       "| 23 | 1451.635 |\n",
       "| 24 | 1354.721 |\n",
       "| 25 | 1244.305 |\n",
       "| 26 | 1460.948 |\n",
       "| 27 | 1116.257 |\n",
       "| 28 | 2031.878 |\n",
       "| 29 | 2667.346 |\n",
       "| 30 | 1306.899 |\n",
       "| ⋮ | ⋮ |\n",
       "| 1310 | 1266.397 |\n",
       "| 1311 | 1280.532 |\n",
       "| 1312 | 1561.825 |\n",
       "| 1313 | 1354.826 |\n",
       "| 1314 | 1708.536 |\n",
       "| 1315 | 2115.743 |\n",
       "| 1316 | 1719.768 |\n",
       "| 1317 | 1273.179 |\n",
       "| 1318 | 1697.761 |\n",
       "| 1319 | 3024.634 |\n",
       "| 1320 | 1385.816 |\n",
       "| 1321 | 1839.470 |\n",
       "| 1322 | 1809.996 |\n",
       "| 1323 | 1310.082 |\n",
       "| 1324 | 1410.424 |\n",
       "| 1325 | 1319.497 |\n",
       "| 1326 | 1352.994 |\n",
       "| 1327 | 3336.363 |\n",
       "| 1328 | 1485.641 |\n",
       "| 1329 | 3257.892 |\n",
       "| 1330 | 1560.181 |\n",
       "| 1331 | 2628.282 |\n",
       "| 1332 | 1244.079 |\n",
       "| 1333 | 1108.911 |\n",
       "| 1334 | 3525.355 |\n",
       "| 1335 | 1230.005 |\n",
       "| 1336 | 4261.391 |\n",
       "| 1337 | 1268.332 |\n",
       "| 1338 | 1313.560 |\n",
       "| 1339 | 1804.282 |\n",
       "\n"
      ],
      "text/plain": [
       "     s1      \n",
       "1    3692.437\n",
       "2    1354.556\n",
       "3    1691.874\n",
       "4    1760.340\n",
       "5    1171.716\n",
       "6    1804.399\n",
       "7    1305.170\n",
       "8    1277.003\n",
       "9    3420.806\n",
       "10   2089.192\n",
       "11   1694.048\n",
       "12   1354.556\n",
       "13   1247.936\n",
       "14   2165.838\n",
       "15   1532.386\n",
       "16   1586.787\n",
       "17   3258.862\n",
       "18   2025.607\n",
       "19   1351.032\n",
       "20   1262.503\n",
       "21   2166.201\n",
       "22   1288.460\n",
       "23   1451.635\n",
       "24   1354.721\n",
       "25   1244.305\n",
       "26   1460.948\n",
       "27   1116.257\n",
       "28   2031.878\n",
       "29   2667.346\n",
       "30   1306.899\n",
       "⋮    ⋮       \n",
       "1310 1266.397\n",
       "1311 1280.532\n",
       "1312 1561.825\n",
       "1313 1354.826\n",
       "1314 1708.536\n",
       "1315 2115.743\n",
       "1316 1719.768\n",
       "1317 1273.179\n",
       "1318 1697.761\n",
       "1319 3024.634\n",
       "1320 1385.816\n",
       "1321 1839.470\n",
       "1322 1809.996\n",
       "1323 1310.082\n",
       "1324 1410.424\n",
       "1325 1319.497\n",
       "1326 1352.994\n",
       "1327 3336.363\n",
       "1328 1485.641\n",
       "1329 3257.892\n",
       "1330 1560.181\n",
       "1331 2628.282\n",
       "1332 1244.079\n",
       "1333 1108.911\n",
       "1334 3525.355\n",
       "1335 1230.005\n",
       "1336 4261.391\n",
       "1337 1268.332\n",
       "1338 1313.560\n",
       "1339 1804.282"
      ]
     },
     "metadata": {},
     "output_type": "display_data"
    }
   ],
   "source": [
    "t_test_clean_30"
   ]
  },
  {
   "cell_type": "code",
   "execution_count": null,
   "id": "a3ad85f9-1df9-4899-8f97-fafefe366e60",
   "metadata": {},
   "outputs": [],
   "source": [
    "latest <- data.frame(read.csv(\"test.csv\", colClasses = c(\"id\" = \"character\"))$id, t_test_clean)\n",
    "colnames(latest) <- c(\"id\", \"predictions\")\n",
    "head(latest)\n",
    "\n",
    "write.csv(latest, \"latest_clean.csv\", row.names = FALSE)"
   ]
  },
  {
   "cell_type": "markdown",
   "id": "64dca241-b4bf-47c9-b358-bd7cb082afa1",
   "metadata": {},
   "source": [
    "**<h3>Second Best</h3>**"
   ]
  },
  {
   "cell_type": "code",
   "execution_count": 10,
   "id": "c87876cc-8940-4dca-8168-f552f6c399e1",
   "metadata": {},
   "outputs": [],
   "source": [
    "train_data <- read.csv(\"train.csv\")\n",
    "test_data <- read.csv(\"test.csv\", colClasses = c(\"id\" = \"character\"))"
   ]
  },
  {
   "cell_type": "code",
   "execution_count": 11,
   "id": "784da09b-15d4-47df-ad19-22d867edfa54",
   "metadata": {},
   "outputs": [
    {
     "name": "stderr",
     "output_type": "stream",
     "text": [
      "Warning message:\n",
      "“\u001b[1m\u001b[22mThere was 1 warning in `mutate()`.\n",
      "\u001b[1m\u001b[22m\u001b[36mℹ\u001b[39m In argument: `price = as.numeric(price)`.\n",
      "Caused by warning:\n",
      "\u001b[33m!\u001b[39m NAs introduced by coercion”\n"
     ]
    }
   ],
   "source": [
    "train_data <- train_data %>%\n",
    "    mutate(price = substr(price, 2, nchar(price)),\n",
    "          host_response_rate = substr(host_response_rate, 1, nchar(host_response_rate) - 1),\n",
    "          host_acceptance_rate = substr(host_acceptance_rate, 1, nchar(host_acceptance_rate) - 1)) %>%\n",
    "    mutate(price = as.numeric(price),\n",
    "           host_response_rate = as.numeric(host_response_rate),\n",
    "           host_acceptance_rate = as.numeric(host_acceptance_rate))"
   ]
  },
  {
   "cell_type": "code",
   "execution_count": 12,
   "id": "ba8a3139-0c8b-4b0f-b1ec-2429ffe893a7",
   "metadata": {},
   "outputs": [],
   "source": [
    "y <- train_data$monthly_revenue\n",
    "x <- makeX(train_data[ , c('accommodates','beds',\n",
    "                           'minimum_nights','maximum_nights',\n",
    "                           'maximum_nights_avg_ntm','availability_30','availability_60','availability_90',\n",
    "                           'availability_365','number_of_reviews','number_of_reviews_ltm',\n",
    "                           'review_scores_rating','review_scores_accuracy','review_scores_cleanliness',\n",
    "                           'review_scores_value','instant_bookable')],\n",
    "          na.impute = TRUE)"
   ]
  },
  {
   "cell_type": "code",
   "execution_count": 13,
   "id": "0cf1a30d-4299-4d61-9caa-5bd7a09de631",
   "metadata": {},
   "outputs": [
    {
     "data": {
      "text/html": [
       "6.34033933006228"
      ],
      "text/latex": [
       "6.34033933006228"
      ],
      "text/markdown": [
       "6.34033933006228"
      ],
      "text/plain": [
       "[1] 6.340339"
      ]
     },
     "metadata": {},
     "output_type": "display_data"
    },
    {
     "data": {
      "image/png": "[encoded data removed]",
      "text/plain": [
       "plot without title"
      ]
     },
     "metadata": {
      "image/png": {
       "height": 420,
       "width": 420
      }
     },
     "output_type": "display_data"
    }
   ],
   "source": [
    "cv_model <- cv.glmnet(x, y, alpha = 1)\n",
    "\n",
    "best_lambda <- cv_model$lambda.min\n",
    "best_lambda\n",
    "\n",
    "plot(cv_model) "
   ]
  },
  {
   "cell_type": "code",
   "execution_count": 14,
   "id": "dd91f003-d970-4464-bc07-4605586ffe47",
   "metadata": {},
   "outputs": [
    {
     "data": {
      "text/plain": [
       "18 x 1 sparse Matrix of class \"dgCMatrix\"\n",
       "                                     s0\n",
       "(Intercept)               -1.253769e+03\n",
       "accommodates               2.480781e+02\n",
       "beds                       7.964737e+01\n",
       "minimum_nights            -1.358631e+00\n",
       "maximum_nights             1.890918e-02\n",
       "maximum_nights_avg_ntm     4.194508e-02\n",
       "availability_30            .           \n",
       "availability_60            .           \n",
       "availability_90           -6.798770e-02\n",
       "availability_365          -5.321237e-01\n",
       "number_of_reviews         -8.130561e-02\n",
       "number_of_reviews_ltm     -4.161527e-01\n",
       "review_scores_rating       2.397033e+02\n",
       "review_scores_accuracy     .           \n",
       "review_scores_cleanliness  3.458855e+01\n",
       "review_scores_value        1.616754e+02\n",
       "instant_bookablef          9.033117e+01\n",
       "instant_bookablet         -3.309656e-11"
      ]
     },
     "metadata": {},
     "output_type": "display_data"
    }
   ],
   "source": [
    "best_model <- glmnet(x, y, alpha = 1, lambda = best_lambda)\n",
    "coef(best_model)"
   ]
  },
  {
   "cell_type": "code",
   "execution_count": 15,
   "id": "9a5fe731-fb1b-4289-8ef9-41e2b6d16b3d",
   "metadata": {},
   "outputs": [
    {
     "data": {
      "text/html": [
       "0.227245834783684"
      ],
      "text/latex": [
       "0.227245834783684"
      ],
      "text/markdown": [
       "0.227245834783684"
      ],
      "text/plain": [
       "[1] 0.2272458"
      ]
     },
     "metadata": {},
     "output_type": "display_data"
    },
    {
     "data": {
      "text/html": [
       "7363865644.05504"
      ],
      "text/latex": [
       "7363865644.05504"
      ],
      "text/markdown": [
       "7363865644.05504"
      ],
      "text/plain": [
       "[1] 7363865644"
      ]
     },
     "metadata": {},
     "output_type": "display_data"
    }
   ],
   "source": [
    "pred_y <- predict(best_model, s = best_lambda, newx = x)\n",
    "\n",
    "sst <- sum((y - mean(y))^2)\n",
    "sse <- sum((pred_y - y)^2)\n",
    "\n",
    "rsq <- 1 - sse/sst\n",
    "rsq\n",
    "sse "
   ]
  },
  {
   "cell_type": "code",
   "execution_count": 16,
   "id": "8b508803-351f-4a40-805f-4efdfacd36f2",
   "metadata": {},
   "outputs": [
    {
     "data": {
      "text/html": [
       "<table class=\"dataframe\">\n",
       "<caption>A matrix: 6 × 1 of type dbl</caption>\n",
       "<thead>\n",
       "\t<tr><th></th><th scope=col>s1</th></tr>\n",
       "</thead>\n",
       "<tbody>\n",
       "\t<tr><th scope=row>1</th><td>1488.204</td></tr>\n",
       "\t<tr><th scope=row>2</th><td>2269.475</td></tr>\n",
       "\t<tr><th scope=row>3</th><td>2618.305</td></tr>\n",
       "\t<tr><th scope=row>4</th><td>1485.060</td></tr>\n",
       "\t<tr><th scope=row>5</th><td>2093.809</td></tr>\n",
       "\t<tr><th scope=row>6</th><td>1299.889</td></tr>\n",
       "</tbody>\n",
       "</table>\n"
      ],
      "text/latex": [
       "A matrix: 6 × 1 of type dbl\n",
       "\\begin{tabular}{r|l}\n",
       "  & s1\\\\\n",
       "\\hline\n",
       "\t1 & 1488.204\\\\\n",
       "\t2 & 2269.475\\\\\n",
       "\t3 & 2618.305\\\\\n",
       "\t4 & 1485.060\\\\\n",
       "\t5 & 2093.809\\\\\n",
       "\t6 & 1299.889\\\\\n",
       "\\end{tabular}\n"
      ],
      "text/markdown": [
       "\n",
       "A matrix: 6 × 1 of type dbl\n",
       "\n",
       "| <!--/--> | s1 |\n",
       "|---|---|\n",
       "| 1 | 1488.204 |\n",
       "| 2 | 2269.475 |\n",
       "| 3 | 2618.305 |\n",
       "| 4 | 1485.060 |\n",
       "| 5 | 2093.809 |\n",
       "| 6 | 1299.889 |\n",
       "\n"
      ],
      "text/plain": [
       "  s1      \n",
       "1 1488.204\n",
       "2 2269.475\n",
       "3 2618.305\n",
       "4 1485.060\n",
       "5 2093.809\n",
       "6 1299.889"
      ]
     },
     "metadata": {},
     "output_type": "display_data"
    },
    {
     "data": {
      "text/html": [
       "<style>\n",
       ".list-inline {list-style: none; margin:0; padding: 0}\n",
       ".list-inline>li {display: inline-block}\n",
       ".list-inline>li:not(:last-child)::after {content: \"\\00b7\"; padding: 0 .5ex}\n",
       "</style>\n",
       "<ol class=list-inline><li>2108</li><li>2730</li><li>2254</li><li>3187</li><li>3479</li><li>0</li></ol>\n"
      ],
      "text/latex": [
       "\\begin{enumerate*}\n",
       "\\item 2108\n",
       "\\item 2730\n",
       "\\item 2254\n",
       "\\item 3187\n",
       "\\item 3479\n",
       "\\item 0\n",
       "\\end{enumerate*}\n"
      ],
      "text/markdown": [
       "1. 2108\n",
       "2. 2730\n",
       "3. 2254\n",
       "4. 3187\n",
       "5. 3479\n",
       "6. 0\n",
       "\n",
       "\n"
      ],
      "text/plain": [
       "[1] 2108 2730 2254 3187 3479    0"
      ]
     },
     "metadata": {},
     "output_type": "display_data"
    }
   ],
   "source": [
    "head(pred_y)\n",
    "head(y)"
   ]
  },
  {
   "cell_type": "code",
   "execution_count": 17,
   "id": "9c508963-4b84-4106-8160-912258d7adfc",
   "metadata": {},
   "outputs": [],
   "source": [
    "test_x <- makeX(test_data[ , c(\n",
    "                           'accommodates','beds',\n",
    "                           'minimum_nights','maximum_nights',\n",
    "                           'maximum_nights_avg_ntm','availability_30','availability_60','availability_90',\n",
    "                           'availability_365','number_of_reviews','number_of_reviews_ltm',\n",
    "                           'review_scores_rating','review_scores_accuracy','review_scores_cleanliness',\n",
    "                           'review_scores_value','instant_bookable')],\n",
    "          na.impute = TRUE)\n",
    "test_pred_y <- predict(best_model, s = best_lambda, newx = test_x)"
   ]
  },
  {
   "cell_type": "code",
   "execution_count": 18,
   "id": "78fc82fc-d7f2-47f6-9bfa-4ac176ad8b2b",
   "metadata": {},
   "outputs": [
    {
     "data": {
      "text/html": [
       "<table class=\"dataframe\">\n",
       "<caption>A data.frame: 6 × 2</caption>\n",
       "<thead>\n",
       "\t<tr><th></th><th scope=col>id</th><th scope=col>predictions</th></tr>\n",
       "\t<tr><th></th><th scope=col>&lt;chr&gt;</th><th scope=col>&lt;dbl&gt;</th></tr>\n",
       "</thead>\n",
       "<tbody>\n",
       "\t<tr><th scope=row>1</th><td>4465400           </td><td>3348.867</td></tr>\n",
       "\t<tr><th scope=row>2</th><td>608629349064811166</td><td>1483.334</td></tr>\n",
       "\t<tr><th scope=row>3</th><td>981894508939312892</td><td>2020.392</td></tr>\n",
       "\t<tr><th scope=row>4</th><td>52014961          </td><td>1959.779</td></tr>\n",
       "\t<tr><th scope=row>5</th><td>836285112356489303</td><td>1339.873</td></tr>\n",
       "\t<tr><th scope=row>6</th><td>729730483477613494</td><td>2100.476</td></tr>\n",
       "</tbody>\n",
       "</table>\n"
      ],
      "text/latex": [
       "A data.frame: 6 × 2\n",
       "\\begin{tabular}{r|ll}\n",
       "  & id & predictions\\\\\n",
       "  & <chr> & <dbl>\\\\\n",
       "\\hline\n",
       "\t1 & 4465400            & 3348.867\\\\\n",
       "\t2 & 608629349064811166 & 1483.334\\\\\n",
       "\t3 & 981894508939312892 & 2020.392\\\\\n",
       "\t4 & 52014961           & 1959.779\\\\\n",
       "\t5 & 836285112356489303 & 1339.873\\\\\n",
       "\t6 & 729730483477613494 & 2100.476\\\\\n",
       "\\end{tabular}\n"
      ],
      "text/markdown": [
       "\n",
       "A data.frame: 6 × 2\n",
       "\n",
       "| <!--/--> | id &lt;chr&gt; | predictions &lt;dbl&gt; |\n",
       "|---|---|---|\n",
       "| 1 | 4465400            | 3348.867 |\n",
       "| 2 | 608629349064811166 | 1483.334 |\n",
       "| 3 | 981894508939312892 | 2020.392 |\n",
       "| 4 | 52014961           | 1959.779 |\n",
       "| 5 | 836285112356489303 | 1339.873 |\n",
       "| 6 | 729730483477613494 | 2100.476 |\n",
       "\n"
      ],
      "text/plain": [
       "  id                 predictions\n",
       "1 4465400            3348.867   \n",
       "2 608629349064811166 1483.334   \n",
       "3 981894508939312892 2020.392   \n",
       "4 52014961           1959.779   \n",
       "5 836285112356489303 1339.873   \n",
       "6 729730483477613494 2100.476   "
      ]
     },
     "metadata": {},
     "output_type": "display_data"
    }
   ],
   "source": [
    "hello <- data.frame(test_data$id, test_pred_y)\n",
    "colnames(hello) <- c(\"id\", \"predictions\")\n",
    "head(hello)"
   ]
  },
  {
   "cell_type": "code",
   "execution_count": 19,
   "id": "a2a975b3-4918-4259-9ca1-5490a4d08893",
   "metadata": {},
   "outputs": [],
   "source": [
    "write.csv(hello, \"hello.csv\", row.names = FALSE)"
   ]
  },
  {
   "cell_type": "markdown",
   "id": "f202e700-4c0c-4b6a-adce-d7c6a37fa50b",
   "metadata": {},
   "source": [
    "**<h3>Separate regressions (not that good)</h3>**"
   ]
  },
  {
   "cell_type": "code",
   "execution_count": 44,
   "id": "a883f2fa-a260-4331-b520-3e72e5fe3a56",
   "metadata": {},
   "outputs": [
    {
     "name": "stderr",
     "output_type": "stream",
     "text": [
      "Warning message:\n",
      "“\u001b[1m\u001b[22mThere was 1 warning in `mutate()`.\n",
      "\u001b[1m\u001b[22m\u001b[36mℹ\u001b[39m In argument: `price = as.numeric(price)`.\n",
      "Caused by warning:\n",
      "\u001b[33m!\u001b[39m NAs introduced by coercion”\n"
     ]
    }
   ],
   "source": [
    "train <- read.csv(\"train.csv\") %>%\n",
    "    mutate(price = substr(price, 2, nchar(price)),\n",
    "          host_response_rate = substr(host_response_rate, 1, nchar(host_response_rate) - 1),\n",
    "          host_acceptance_rate = substr(host_acceptance_rate, 1, nchar(host_acceptance_rate) - 1)) %>%\n",
    "    mutate(price = as.numeric(price),\n",
    "           host_response_rate = as.numeric(host_response_rate),\n",
    "           host_acceptance_rate = as.numeric(host_acceptance_rate))\n",
    "\n",
    "test <- read.csv(\"test.csv\", colClasses = c(\"id\" = \"character\"))"
   ]
  },
  {
   "cell_type": "code",
   "execution_count": 45,
   "id": "26ee919b-6a57-4f05-a679-1d808fa304f7",
   "metadata": {},
   "outputs": [
    {
     "data": {
      "text/html": [
       "<style>\n",
       ".list-inline {list-style: none; margin:0; padding: 0}\n",
       ".list-inline>li {display: inline-block}\n",
       ".list-inline>li:not(:last-child)::after {content: \"\\00b7\"; padding: 0 .5ex}\n",
       "</style>\n",
       "<ol class=list-inline><li>'Entire home'</li><li>'Entire guest suite'</li><li>'Entire condo'</li><li>'Entire rental unit'</li><li>'Entire townhouse'</li><li>'Private room in guest suite'</li><li>'Private room in home'</li><li>'Private room in townhouse'</li><li>'Private room in condo'</li><li>'Private room in rental unit'</li><li>'Entire loft'</li><li>'Entire serviced apartment'</li><li>'Shared room in rental unit'</li><li>'Private room in guesthouse'</li><li>'Private room in villa'</li><li>'Room in boutique hotel'</li><li>'Entire guesthouse'</li><li>'Casa particular'</li><li>'Shared room in home'</li><li>'Private room in tiny home'</li><li>'Private room in loft'</li><li>'Tiny home'</li><li>'Entire timeshare'</li><li>'Entire vacation home'</li><li>'Camper/RV'</li><li>'Tower'</li><li>'Entire cabin'</li><li>'Room in aparthotel'</li><li>'Room in bed and breakfast'</li><li>'Private room in casa particular'</li><li>'Private room in bed and breakfast'</li><li>'Entire villa'</li><li>'Entire bungalow'</li><li>'Room in hotel'</li><li>'Entire place'</li><li>'Shared room in condo'</li><li>'Entire cottage'</li><li>'Private room in bungalow'</li><li>'Private room in boat'</li><li>'Private room in camper/rv'</li><li>'Boat'</li><li>'Shared room in villa'</li><li>'Private room in serviced apartment'</li><li>'Private room in castle'</li><li>'Cave'</li><li>'Shared room in loft'</li></ol>\n"
      ],
      "text/latex": [
       "\\begin{enumerate*}\n",
       "\\item 'Entire home'\n",
       "\\item 'Entire guest suite'\n",
       "\\item 'Entire condo'\n",
       "\\item 'Entire rental unit'\n",
       "\\item 'Entire townhouse'\n",
       "\\item 'Private room in guest suite'\n",
       "\\item 'Private room in home'\n",
       "\\item 'Private room in townhouse'\n",
       "\\item 'Private room in condo'\n",
       "\\item 'Private room in rental unit'\n",
       "\\item 'Entire loft'\n",
       "\\item 'Entire serviced apartment'\n",
       "\\item 'Shared room in rental unit'\n",
       "\\item 'Private room in guesthouse'\n",
       "\\item 'Private room in villa'\n",
       "\\item 'Room in boutique hotel'\n",
       "\\item 'Entire guesthouse'\n",
       "\\item 'Casa particular'\n",
       "\\item 'Shared room in home'\n",
       "\\item 'Private room in tiny home'\n",
       "\\item 'Private room in loft'\n",
       "\\item 'Tiny home'\n",
       "\\item 'Entire timeshare'\n",
       "\\item 'Entire vacation home'\n",
       "\\item 'Camper/RV'\n",
       "\\item 'Tower'\n",
       "\\item 'Entire cabin'\n",
       "\\item 'Room in aparthotel'\n",
       "\\item 'Room in bed and breakfast'\n",
       "\\item 'Private room in casa particular'\n",
       "\\item 'Private room in bed and breakfast'\n",
       "\\item 'Entire villa'\n",
       "\\item 'Entire bungalow'\n",
       "\\item 'Room in hotel'\n",
       "\\item 'Entire place'\n",
       "\\item 'Shared room in condo'\n",
       "\\item 'Entire cottage'\n",
       "\\item 'Private room in bungalow'\n",
       "\\item 'Private room in boat'\n",
       "\\item 'Private room in camper/rv'\n",
       "\\item 'Boat'\n",
       "\\item 'Shared room in villa'\n",
       "\\item 'Private room in serviced apartment'\n",
       "\\item 'Private room in castle'\n",
       "\\item 'Cave'\n",
       "\\item 'Shared room in loft'\n",
       "\\end{enumerate*}\n"
      ],
      "text/markdown": [
       "1. 'Entire home'\n",
       "2. 'Entire guest suite'\n",
       "3. 'Entire condo'\n",
       "4. 'Entire rental unit'\n",
       "5. 'Entire townhouse'\n",
       "6. 'Private room in guest suite'\n",
       "7. 'Private room in home'\n",
       "8. 'Private room in townhouse'\n",
       "9. 'Private room in condo'\n",
       "10. 'Private room in rental unit'\n",
       "11. 'Entire loft'\n",
       "12. 'Entire serviced apartment'\n",
       "13. 'Shared room in rental unit'\n",
       "14. 'Private room in guesthouse'\n",
       "15. 'Private room in villa'\n",
       "16. 'Room in boutique hotel'\n",
       "17. 'Entire guesthouse'\n",
       "18. 'Casa particular'\n",
       "19. 'Shared room in home'\n",
       "20. 'Private room in tiny home'\n",
       "21. 'Private room in loft'\n",
       "22. 'Tiny home'\n",
       "23. 'Entire timeshare'\n",
       "24. 'Entire vacation home'\n",
       "25. 'Camper/RV'\n",
       "26. 'Tower'\n",
       "27. 'Entire cabin'\n",
       "28. 'Room in aparthotel'\n",
       "29. 'Room in bed and breakfast'\n",
       "30. 'Private room in casa particular'\n",
       "31. 'Private room in bed and breakfast'\n",
       "32. 'Entire villa'\n",
       "33. 'Entire bungalow'\n",
       "34. 'Room in hotel'\n",
       "35. 'Entire place'\n",
       "36. 'Shared room in condo'\n",
       "37. 'Entire cottage'\n",
       "38. 'Private room in bungalow'\n",
       "39. 'Private room in boat'\n",
       "40. 'Private room in camper/rv'\n",
       "41. 'Boat'\n",
       "42. 'Shared room in villa'\n",
       "43. 'Private room in serviced apartment'\n",
       "44. 'Private room in castle'\n",
       "45. 'Cave'\n",
       "46. 'Shared room in loft'\n",
       "\n",
       "\n"
      ],
      "text/plain": [
       " [1] \"Entire home\"                        \"Entire guest suite\"                \n",
       " [3] \"Entire condo\"                       \"Entire rental unit\"                \n",
       " [5] \"Entire townhouse\"                   \"Private room in guest suite\"       \n",
       " [7] \"Private room in home\"               \"Private room in townhouse\"         \n",
       " [9] \"Private room in condo\"              \"Private room in rental unit\"       \n",
       "[11] \"Entire loft\"                        \"Entire serviced apartment\"         \n",
       "[13] \"Shared room in rental unit\"         \"Private room in guesthouse\"        \n",
       "[15] \"Private room in villa\"              \"Room in boutique hotel\"            \n",
       "[17] \"Entire guesthouse\"                  \"Casa particular\"                   \n",
       "[19] \"Shared room in home\"                \"Private room in tiny home\"         \n",
       "[21] \"Private room in loft\"               \"Tiny home\"                         \n",
       "[23] \"Entire timeshare\"                   \"Entire vacation home\"              \n",
       "[25] \"Camper/RV\"                          \"Tower\"                             \n",
       "[27] \"Entire cabin\"                       \"Room in aparthotel\"                \n",
       "[29] \"Room in bed and breakfast\"          \"Private room in casa particular\"   \n",
       "[31] \"Private room in bed and breakfast\"  \"Entire villa\"                      \n",
       "[33] \"Entire bungalow\"                    \"Room in hotel\"                     \n",
       "[35] \"Entire place\"                       \"Shared room in condo\"              \n",
       "[37] \"Entire cottage\"                     \"Private room in bungalow\"          \n",
       "[39] \"Private room in boat\"               \"Private room in camper/rv\"         \n",
       "[41] \"Boat\"                               \"Shared room in villa\"              \n",
       "[43] \"Private room in serviced apartment\" \"Private room in castle\"            \n",
       "[45] \"Cave\"                               \"Shared room in loft\"               "
      ]
     },
     "metadata": {},
     "output_type": "display_data"
    }
   ],
   "source": [
    "unique(train$property_type)"
   ]
  },
  {
   "cell_type": "markdown",
   "id": "f21ff425-2f41-420f-8849-42f7b36a6524",
   "metadata": {},
   "source": [
    "**ENTIRE**"
   ]
  },
  {
   "cell_type": "code",
   "execution_count": 36,
   "id": "06209cbe-18b3-4b9e-a170-68f80345e6fa",
   "metadata": {},
   "outputs": [],
   "source": [
    "train_e <- train %>%\n",
    "    filter(grepl(\"entire\", tolower(property_type), fixed = TRUE))"
   ]
  },
  {
   "cell_type": "code",
   "execution_count": 37,
   "id": "f8c859ca-e7a6-407d-8c6d-093b7c2825d6",
   "metadata": {},
   "outputs": [
    {
     "data": {
      "text/html": [
       "<style>\n",
       ".list-inline {list-style: none; margin:0; padding: 0}\n",
       ".list-inline>li {display: inline-block}\n",
       ".list-inline>li:not(:last-child)::after {content: \"\\00b7\"; padding: 0 .5ex}\n",
       "</style>\n",
       "<ol class=list-inline><li>'Entire home'</li><li>'Entire guest suite'</li><li>'Entire condo'</li><li>'Entire rental unit'</li><li>'Entire townhouse'</li><li>'Entire loft'</li><li>'Entire serviced apartment'</li><li>'Entire guesthouse'</li><li>'Entire timeshare'</li><li>'Entire vacation home'</li><li>'Entire cabin'</li><li>'Entire villa'</li><li>'Entire bungalow'</li><li>'Entire place'</li><li>'Entire cottage'</li></ol>\n"
      ],
      "text/latex": [
       "\\begin{enumerate*}\n",
       "\\item 'Entire home'\n",
       "\\item 'Entire guest suite'\n",
       "\\item 'Entire condo'\n",
       "\\item 'Entire rental unit'\n",
       "\\item 'Entire townhouse'\n",
       "\\item 'Entire loft'\n",
       "\\item 'Entire serviced apartment'\n",
       "\\item 'Entire guesthouse'\n",
       "\\item 'Entire timeshare'\n",
       "\\item 'Entire vacation home'\n",
       "\\item 'Entire cabin'\n",
       "\\item 'Entire villa'\n",
       "\\item 'Entire bungalow'\n",
       "\\item 'Entire place'\n",
       "\\item 'Entire cottage'\n",
       "\\end{enumerate*}\n"
      ],
      "text/markdown": [
       "1. 'Entire home'\n",
       "2. 'Entire guest suite'\n",
       "3. 'Entire condo'\n",
       "4. 'Entire rental unit'\n",
       "5. 'Entire townhouse'\n",
       "6. 'Entire loft'\n",
       "7. 'Entire serviced apartment'\n",
       "8. 'Entire guesthouse'\n",
       "9. 'Entire timeshare'\n",
       "10. 'Entire vacation home'\n",
       "11. 'Entire cabin'\n",
       "12. 'Entire villa'\n",
       "13. 'Entire bungalow'\n",
       "14. 'Entire place'\n",
       "15. 'Entire cottage'\n",
       "\n",
       "\n"
      ],
      "text/plain": [
       " [1] \"Entire home\"               \"Entire guest suite\"       \n",
       " [3] \"Entire condo\"              \"Entire rental unit\"       \n",
       " [5] \"Entire townhouse\"          \"Entire loft\"              \n",
       " [7] \"Entire serviced apartment\" \"Entire guesthouse\"        \n",
       " [9] \"Entire timeshare\"          \"Entire vacation home\"     \n",
       "[11] \"Entire cabin\"              \"Entire villa\"             \n",
       "[13] \"Entire bungalow\"           \"Entire place\"             \n",
       "[15] \"Entire cottage\"           "
      ]
     },
     "metadata": {},
     "output_type": "display_data"
    }
   ],
   "source": [
    "unique(train_e$property_type)"
   ]
  },
  {
   "cell_type": "markdown",
   "id": "902ae0bc-fc16-4a41-8b18-5e0c9e5402f9",
   "metadata": {},
   "source": [
    "**PRIVATE**"
   ]
  },
  {
   "cell_type": "code",
   "execution_count": 38,
   "id": "f3355b17-f68d-4875-8471-6b069ddff7bc",
   "metadata": {},
   "outputs": [],
   "source": [
    "train_p <- train %>%\n",
    "    filter(grepl(\"private\", tolower(property_type), fixed = TRUE))"
   ]
  },
  {
   "cell_type": "code",
   "execution_count": 39,
   "id": "a7724fd4-087f-430e-9ee9-c0754f1db3f3",
   "metadata": {},
   "outputs": [
    {
     "data": {
      "text/html": [
       "<style>\n",
       ".list-inline {list-style: none; margin:0; padding: 0}\n",
       ".list-inline>li {display: inline-block}\n",
       ".list-inline>li:not(:last-child)::after {content: \"\\00b7\"; padding: 0 .5ex}\n",
       "</style>\n",
       "<ol class=list-inline><li>'Private room in guest suite'</li><li>'Private room in home'</li><li>'Private room in townhouse'</li><li>'Private room in condo'</li><li>'Private room in rental unit'</li><li>'Private room in guesthouse'</li><li>'Private room in villa'</li><li>'Private room in tiny home'</li><li>'Private room in loft'</li><li>'Private room in casa particular'</li><li>'Private room in bed and breakfast'</li><li>'Private room in bungalow'</li><li>'Private room in boat'</li><li>'Private room in camper/rv'</li><li>'Private room in serviced apartment'</li><li>'Private room in castle'</li></ol>\n"
      ],
      "text/latex": [
       "\\begin{enumerate*}\n",
       "\\item 'Private room in guest suite'\n",
       "\\item 'Private room in home'\n",
       "\\item 'Private room in townhouse'\n",
       "\\item 'Private room in condo'\n",
       "\\item 'Private room in rental unit'\n",
       "\\item 'Private room in guesthouse'\n",
       "\\item 'Private room in villa'\n",
       "\\item 'Private room in tiny home'\n",
       "\\item 'Private room in loft'\n",
       "\\item 'Private room in casa particular'\n",
       "\\item 'Private room in bed and breakfast'\n",
       "\\item 'Private room in bungalow'\n",
       "\\item 'Private room in boat'\n",
       "\\item 'Private room in camper/rv'\n",
       "\\item 'Private room in serviced apartment'\n",
       "\\item 'Private room in castle'\n",
       "\\end{enumerate*}\n"
      ],
      "text/markdown": [
       "1. 'Private room in guest suite'\n",
       "2. 'Private room in home'\n",
       "3. 'Private room in townhouse'\n",
       "4. 'Private room in condo'\n",
       "5. 'Private room in rental unit'\n",
       "6. 'Private room in guesthouse'\n",
       "7. 'Private room in villa'\n",
       "8. 'Private room in tiny home'\n",
       "9. 'Private room in loft'\n",
       "10. 'Private room in casa particular'\n",
       "11. 'Private room in bed and breakfast'\n",
       "12. 'Private room in bungalow'\n",
       "13. 'Private room in boat'\n",
       "14. 'Private room in camper/rv'\n",
       "15. 'Private room in serviced apartment'\n",
       "16. 'Private room in castle'\n",
       "\n",
       "\n"
      ],
      "text/plain": [
       " [1] \"Private room in guest suite\"        \"Private room in home\"              \n",
       " [3] \"Private room in townhouse\"          \"Private room in condo\"             \n",
       " [5] \"Private room in rental unit\"        \"Private room in guesthouse\"        \n",
       " [7] \"Private room in villa\"              \"Private room in tiny home\"         \n",
       " [9] \"Private room in loft\"               \"Private room in casa particular\"   \n",
       "[11] \"Private room in bed and breakfast\"  \"Private room in bungalow\"          \n",
       "[13] \"Private room in boat\"               \"Private room in camper/rv\"         \n",
       "[15] \"Private room in serviced apartment\" \"Private room in castle\"            "
      ]
     },
     "metadata": {},
     "output_type": "display_data"
    }
   ],
   "source": [
    "unique(train_p$property_type)"
   ]
  },
  {
   "cell_type": "markdown",
   "id": "613171b5-0c2d-4de6-9ef0-73c7d8ce3792",
   "metadata": {},
   "source": [
    "**SHARED**"
   ]
  },
  {
   "cell_type": "code",
   "execution_count": 40,
   "id": "78a902e1-0f13-4182-8ccd-66eec8d3b149",
   "metadata": {},
   "outputs": [],
   "source": [
    "train_s <- train %>%\n",
    "    filter(grepl(\"shared\", tolower(property_type), fixed = TRUE))"
   ]
  },
  {
   "cell_type": "code",
   "execution_count": 41,
   "id": "8949b70a-e8ab-40d5-94aa-7a66023f49bc",
   "metadata": {},
   "outputs": [
    {
     "data": {
      "text/html": [
       "<style>\n",
       ".list-inline {list-style: none; margin:0; padding: 0}\n",
       ".list-inline>li {display: inline-block}\n",
       ".list-inline>li:not(:last-child)::after {content: \"\\00b7\"; padding: 0 .5ex}\n",
       "</style>\n",
       "<ol class=list-inline><li>'Shared room in rental unit'</li><li>'Shared room in home'</li><li>'Shared room in condo'</li><li>'Shared room in villa'</li><li>'Shared room in loft'</li></ol>\n"
      ],
      "text/latex": [
       "\\begin{enumerate*}\n",
       "\\item 'Shared room in rental unit'\n",
       "\\item 'Shared room in home'\n",
       "\\item 'Shared room in condo'\n",
       "\\item 'Shared room in villa'\n",
       "\\item 'Shared room in loft'\n",
       "\\end{enumerate*}\n"
      ],
      "text/markdown": [
       "1. 'Shared room in rental unit'\n",
       "2. 'Shared room in home'\n",
       "3. 'Shared room in condo'\n",
       "4. 'Shared room in villa'\n",
       "5. 'Shared room in loft'\n",
       "\n",
       "\n"
      ],
      "text/plain": [
       "[1] \"Shared room in rental unit\" \"Shared room in home\"       \n",
       "[3] \"Shared room in condo\"       \"Shared room in villa\"      \n",
       "[5] \"Shared room in loft\"       "
      ]
     },
     "metadata": {},
     "output_type": "display_data"
    }
   ],
   "source": [
    "unique(train_s$property_type)"
   ]
  },
  {
   "cell_type": "markdown",
   "id": "c720bbcc-3bc2-4730-ab9b-ed154b780440",
   "metadata": {},
   "source": [
    "**OTHER**"
   ]
  },
  {
   "cell_type": "code",
   "execution_count": 1,
   "id": "7faa3e30-2076-4eac-aaa1-0ce451a096db",
   "metadata": {},
   "outputs": [
    {
     "ename": "ERROR",
     "evalue": "Error in train %>% filter(!grepl(\"shared\", tolower(property_type), fixed = TRUE) & : could not find function \"%>%\"\n",
     "output_type": "error",
     "traceback": [
      "Error in train %>% filter(!grepl(\"shared\", tolower(property_type), fixed = TRUE) & : could not find function \"%>%\"\nTraceback:\n"
     ]
    }
   ],
   "source": [
    "train_o <- train %>%\n",
    "    filter(!grepl(\"shared\", tolower(property_type), fixed = TRUE) &\n",
    "           !grepl(\"private\", tolower(property_type), fixed = TRUE) &\n",
    "           !grepl(\"entire\", tolower(property_type), fixed = TRUE))\n",
    "unique(train_o$property_type)"
   ]
  }
 ],
 "metadata": {
  "kernelspec": {
   "display_name": "R",
   "language": "R",
   "name": "ir"
  },
  "language_info": {
   "codemirror_mode": "r",
   "file_extension": ".r",
   "mimetype": "text/x-r-source",
   "name": "R",
   "pygments_lexer": "r",
   "version": "4.3.3"
  }
 },
 "nbformat": 4,
 "nbformat_minor": 5
}
