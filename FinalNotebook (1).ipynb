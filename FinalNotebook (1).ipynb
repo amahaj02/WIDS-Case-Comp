{
 "cells": [
  {
   "cell_type": "code",
   "execution_count": 15,
   "id": "ce1a2e11-fc51-4fbb-9c40-1bafb09af502",
   "metadata": {},
   "outputs": [
    {
     "name": "stderr",
     "output_type": "stream",
     "text": [
      "Loading required package: lattice\n",
      "\n",
      "\n",
      "Attaching package: ‘caret’\n",
      "\n",
      "\n",
      "The following object is masked from ‘package:purrr’:\n",
      "\n",
      "    lift\n",
      "\n",
      "\n"
     ]
    }
   ],
   "source": [
    "library(glmnet)\n",
    "library(dplyr)\n",
    "library(tidyverse)\n",
    "library(caret)"
   ]
  },
  {
   "cell_type": "markdown",
   "id": "033132c0-b234-4bbd-a87f-06d17fefbdb6",
   "metadata": {},
   "source": [
    "**Cleaning data and dropping unnecessary columns**"
   ]
  },
  {
   "cell_type": "code",
   "execution_count": 36,
   "id": "e8be7fe2-52cb-4376-aaf4-34f6cb0aab34",
   "metadata": {},
   "outputs": [
    {
     "name": "stderr",
     "output_type": "stream",
     "text": [
      "Warning message:\n",
      "“\u001b[1m\u001b[22mThere was 1 warning in `mutate()`.\n",
      "\u001b[1m\u001b[22m\u001b[36mℹ\u001b[39m In argument: `price = as.numeric(price)`.\n",
      "Caused by warning:\n",
      "\u001b[33m!\u001b[39m NAs introduced by coercion”\n",
      "Warning message:\n",
      "“\u001b[1m\u001b[22mThere was 1 warning in `mutate()`.\n",
      "\u001b[1m\u001b[22m\u001b[36mℹ\u001b[39m In argument: `price = as.numeric(price)`.\n",
      "Caused by warning:\n",
      "\u001b[33m!\u001b[39m NAs introduced by coercion”\n"
     ]
    }
   ],
   "source": [
    "train <- read.csv(\"train.csv\") %>%\n",
    "    mutate(price = substr(price, 2, nchar(price)),\n",
    "          host_response_rate = substr(host_response_rate, 1, nchar(host_response_rate) - 1),\n",
    "          host_acceptance_rate = substr(host_acceptance_rate, 1, nchar(host_acceptance_rate) - 1),\n",
    "          price = as.numeric(price),\n",
    "          host_response_rate = as.numeric(host_response_rate),\n",
    "          host_acceptance_rate = as.numeric(host_acceptance_rate)) %>%\n",
    "    select(-X, -id, -name, -neighborhood_overview, -host_id, -host_name, \n",
    "           -neighbourhood, -latitude, -longitude, -bathrooms, -bedrooms, -amenities) %>%\n",
    "    mutate(property_type = if_else(property_type %in% c(\"Camper/RV\", \"Entire home\", \n",
    "                                                        \"Entire villa\", \"Private room in bungalow\", \"Private room in condo\",\n",
    "                                                        \"Room in hotel\"),\n",
    "                                  property_type,\n",
    "                                  \"Other\"),\n",
    "          neighbourhood_cleansed = if_else(neighbourhood_cleansed %in% c(\"Downtown Eastside\", \"Dunbar Southlands\",\n",
    "                                                                         \"Grandview-Woodland\", \"Killarney\", \"Kitsilano\", \n",
    "                                                                         \"Marpole\", \"Mount Pleasant\", \"Oakridge\", \n",
    "                                                                         \"West End\", \"West Point Grey\"),\n",
    "                                          neighbourhood_cleansed,\n",
    "                                          \"Other\"),\n",
    "          room_type = if_else(room_type %in% c(\"Private room\", \"Shared room\"),\n",
    "                             room_type,\n",
    "                             \"Other\")\n",
    "          #  ,\n",
    "          # neighbourhood = if_else(grepl(\"vancouver\", tolower(neighbourhood), fixed = TRUE),\n",
    "          #                        \"Vancouver\",\n",
    "          #                        \"Other\")\n",
    "          )\n",
    "dmy <- dummyVars(\" ~ .\", data = train)\n",
    "train <- data.frame(predict(dmy, newdata = train))\n",
    "\n",
    "test <- read.csv(\"test.csv\") %>%\n",
    "    mutate(price = substr(price, 2, nchar(price)),\n",
    "          host_response_rate = substr(host_response_rate, 1, nchar(host_response_rate) - 1),\n",
    "          host_acceptance_rate = substr(host_acceptance_rate, 1, nchar(host_acceptance_rate) - 1),\n",
    "          price = as.numeric(price),\n",
    "          host_response_rate = as.numeric(host_response_rate),\n",
    "          host_acceptance_rate = as.numeric(host_acceptance_rate)) %>%\n",
    "    select(-id, -name, -neighborhood_overview, -host_id, -host_name, \n",
    "           -neighbourhood, -latitude, -longitude, -bathrooms, -bedrooms, -amenities) %>%\n",
    "    mutate(property_type = if_else(property_type %in% c(\"Camper/RV\", \"Entire home\", \n",
    "                                                        \"Entire villa\", \"Private room in bungalow\", \"Private room in condo\",\n",
    "                                                        \"Room in hotel\"),\n",
    "                                  property_type,\n",
    "                                  \"Other\"),\n",
    "          neighbourhood_cleansed = if_else(neighbourhood_cleansed %in% c(\"Downtown Eastside\", \"Dunbar Southlands\",\n",
    "                                                                         \"Grandview-Woodland\", \"Killarney\", \"Kitsilano\", \n",
    "                                                                         \"Marpole\", \"Mount Pleasant\", \"Oakridge\", \n",
    "                                                                         \"West End\", \"West Point Grey\"),\n",
    "                                          neighbourhood_cleansed,\n",
    "                                          \"Other\"),\n",
    "          room_type = if_else(room_type %in% c(\"Private room\", \"Shared room\"),\n",
    "                             room_type,\n",
    "                             \"Other\")\n",
    "          #  ,\n",
    "          # neighbourhood = if_else(grepl(\"vancouver\", tolower(neighbourhood), fixed = TRUE),\n",
    "          #                        \"Vancouver\",\n",
    "          #                        \"Other\")\n",
    "          )\n",
    "dmy <- dummyVars(\" ~ .\", data = test)\n",
    "test <- data.frame(predict(dmy, newdata = test))"
   ]
  },
  {
   "cell_type": "markdown",
   "id": "3c5ccffc-7e3b-46bf-a054-427ef6e71e8f",
   "metadata": {},
   "source": [
    "**Fitting a lasso regression model using cross validation to select the best regularization parameter**|"
   ]
  },
  {
   "cell_type": "code",
   "execution_count": 37,
   "id": "842ec57c-f989-410b-9986-637ba6f14395",
   "metadata": {},
   "outputs": [
    {
     "data": {
      "text/html": [
       "5.77708105868698"
      ],
      "text/latex": [
       "5.77708105868698"
      ],
      "text/markdown": [
       "5.77708105868698"
      ],
      "text/plain": [
       "[1] 5.777081"
      ]
     },
     "metadata": {},
     "output_type": "display_data"
    },
    {
     "data": {
      "text/plain": [
       "58 x 1 sparse Matrix of class \"dgCMatrix\"\n",
       "                                                    s0\n",
       "(Intercept)                              -1.242773e+03\n",
       "host_response_time                        2.107106e+01\n",
       "host_response_timea.few.days.or.more     -8.443499e+01\n",
       "host_response_timewithin.a.day            .           \n",
       "host_response_timewithin.a.few.hours      2.093378e+01\n",
       "host_response_timewithin.an.hour         -1.136247e+00\n",
       "host_response_rate                        3.718878e-01\n",
       "host_acceptance_rate                      2.538902e-01\n",
       "host_is_superhost                         .           \n",
       "host_is_superhostf                        .           \n",
       "host_is_superhostt                        .           \n",
       "host_listings_count                       .           \n",
       "host_total_listings_count                 3.151315e-02\n",
       "neighbourhood_cleansedDowntown.Eastside   6.577431e+01\n",
       "neighbourhood_cleansedDunbar.Southlands  -1.280339e+02\n",
       "neighbourhood_cleansedGrandview.Woodland  1.424805e+02\n",
       "neighbourhood_cleansedKillarney           1.291391e+02\n",
       "neighbourhood_cleansedKitsilano           1.449185e+01\n",
       "neighbourhood_cleansedMarpole            -6.835530e+01\n",
       "neighbourhood_cleansedMount.Pleasant     -5.875695e+01\n",
       "neighbourhood_cleansedOakridge            1.360271e+02\n",
       "neighbourhood_cleansedOther               .           \n",
       "neighbourhood_cleansedWest.End           -2.268627e+01\n",
       "neighbourhood_cleansedWest.Point.Grey    -5.291448e+01\n",
       "property_typeCamper.RV                   -4.768640e+02\n",
       "property_typeEntire.home                  9.185060e+02\n",
       "property_typeEntire.villa                -6.060491e+02\n",
       "property_typeOther                       -4.860496e+01\n",
       "property_typePrivate.room.in.bungalow     3.427640e+02\n",
       "property_typePrivate.room.in.condo        2.576218e+02\n",
       "property_typeRoom.in.hotel               -5.597845e+02\n",
       "room_typeOther                            .           \n",
       "room_typePrivate.room                     9.392713e+01\n",
       "room_typeShared.room                      .           \n",
       "accommodates                              2.062224e+02\n",
       "beds                                      3.064763e+01\n",
       "price                                    -1.639978e-03\n",
       "minimum_nights                           -6.157062e-01\n",
       "maximum_nights                            4.442924e-02\n",
       "minimum_nights_avg_ntm                    .           \n",
       "maximum_nights_avg_ntm                    4.954065e-02\n",
       "availability_30                           .           \n",
       "availability_60                           .           \n",
       "availability_90                           .           \n",
       "availability_365                         -4.331555e-01\n",
       "number_of_reviews                        -7.833714e-02\n",
       "number_of_reviews_ltm                     1.460925e+00\n",
       "review_scores_rating                      3.118250e+02\n",
       "review_scores_accuracy                   -5.774723e+01\n",
       "review_scores_cleanliness                 5.512351e+01\n",
       "review_scores_checkin                     .           \n",
       "review_scores_communication               .           \n",
       "review_scores_location                    .           \n",
       "review_scores_value                       1.245355e+02\n",
       "instant_bookablef                         6.883538e+01\n",
       "instant_bookablet                        -8.243738e-11\n",
       "calculated_host_listings_count            8.595375e-02\n",
       "reviews_per_month                        -2.102972e+01"
      ]
     },
     "metadata": {},
     "output_type": "display_data"
    },
    {
     "data": {
      "image/png": "[encoded data removed]",
      "text/plain": [
       "plot without title"
      ]
     },
     "metadata": {
      "image/png": {
       "height": 420,
       "width": 420
      }
     },
     "output_type": "display_data"
    }
   ],
   "source": [
    "y <- train$monthly_revenue\n",
    "X <- makeX(train %>% select(-monthly_revenue),\n",
    "          na.impute = TRUE)\n",
    "\n",
    "cv_model <- cv.glmnet(X, y, alpha = 1)\n",
    "\n",
    "best_lambda <- cv_model$lambda.min\n",
    "best_lambda\n",
    "\n",
    "plot(cv_model) \n",
    "\n",
    "best_model <- glmnet(X, y, alpha = 1, lambda = best_lambda)\n",
    "coef(best_model)"
   ]
  },
  {
   "cell_type": "markdown",
   "id": "93937f8e-5972-4edd-857a-987bdd11298b",
   "metadata": {},
   "source": [
    "**Performace metrics**"
   ]
  },
  {
   "cell_type": "code",
   "execution_count": 57,
   "id": "9f3608b3-3605-4529-b888-e323d9f0f926",
   "metadata": {},
   "outputs": [
    {
     "name": "stdout",
     "output_type": "stream",
     "text": [
      "Sum of squares error: 6658037739 \n",
      "R-Squared: 0.3013145"
     ]
    }
   ],
   "source": [
    "pred_y <- predict(best_model, s = best_lambda, newx = X)\n",
    "\n",
    "sst <- sum((y - mean(y))^2)\n",
    "sse <- sum((pred_y - y)^2)\n",
    "rsq <- 1 - sse/sst\n",
    "\n",
    "cat(\"Sum of squares error:\", sse, \"\\n\")\n",
    "cat(\"R-Squared:\", rsq)"
   ]
  },
  {
   "cell_type": "markdown",
   "id": "fe700cf3-0298-412b-9c1e-5eed3b68c135",
   "metadata": {},
   "source": [
    "**Making predictions and saving to csv**"
   ]
  },
  {
   "cell_type": "code",
   "execution_count": 35,
   "id": "e368cc26-07da-41c9-a575-b1efe2ec6aa3",
   "metadata": {
    "scrolled": true
   },
   "outputs": [
    {
     "data": {
      "text/html": [
       "<table class=\"dataframe\">\n",
       "<caption>A data.frame: 6 × 2</caption>\n",
       "<thead>\n",
       "\t<tr><th></th><th scope=col>id</th><th scope=col>predictions</th></tr>\n",
       "\t<tr><th></th><th scope=col>&lt;chr&gt;</th><th scope=col>&lt;dbl&gt;</th></tr>\n",
       "</thead>\n",
       "<tbody>\n",
       "\t<tr><th scope=row>1</th><td>4465400           </td><td>3787.466</td></tr>\n",
       "\t<tr><th scope=row>2</th><td>608629349064811166</td><td>1370.057</td></tr>\n",
       "\t<tr><th scope=row>3</th><td>981894508939312892</td><td>1799.171</td></tr>\n",
       "\t<tr><th scope=row>4</th><td>52014961          </td><td>1719.834</td></tr>\n",
       "\t<tr><th scope=row>5</th><td>836285112356489303</td><td>1262.120</td></tr>\n",
       "\t<tr><th scope=row>6</th><td>729730483477613494</td><td>1846.086</td></tr>\n",
       "</tbody>\n",
       "</table>\n"
      ],
      "text/latex": [
       "A data.frame: 6 × 2\n",
       "\\begin{tabular}{r|ll}\n",
       "  & id & predictions\\\\\n",
       "  & <chr> & <dbl>\\\\\n",
       "\\hline\n",
       "\t1 & 4465400            & 3787.466\\\\\n",
       "\t2 & 608629349064811166 & 1370.057\\\\\n",
       "\t3 & 981894508939312892 & 1799.171\\\\\n",
       "\t4 & 52014961           & 1719.834\\\\\n",
       "\t5 & 836285112356489303 & 1262.120\\\\\n",
       "\t6 & 729730483477613494 & 1846.086\\\\\n",
       "\\end{tabular}\n"
      ],
      "text/markdown": [
       "\n",
       "A data.frame: 6 × 2\n",
       "\n",
       "| <!--/--> | id &lt;chr&gt; | predictions &lt;dbl&gt; |\n",
       "|---|---|---|\n",
       "| 1 | 4465400            | 3787.466 |\n",
       "| 2 | 608629349064811166 | 1370.057 |\n",
       "| 3 | 981894508939312892 | 1799.171 |\n",
       "| 4 | 52014961           | 1719.834 |\n",
       "| 5 | 836285112356489303 | 1262.120 |\n",
       "| 6 | 729730483477613494 | 1846.086 |\n",
       "\n"
      ],
      "text/plain": [
       "  id                 predictions\n",
       "1 4465400            3787.466   \n",
       "2 608629349064811166 1370.057   \n",
       "3 981894508939312892 1799.171   \n",
       "4 52014961           1719.834   \n",
       "5 836285112356489303 1262.120   \n",
       "6 729730483477613494 1846.086   "
      ]
     },
     "metadata": {},
     "output_type": "display_data"
    }
   ],
   "source": [
    "x_test <- makeX(test,\n",
    "          na.impute = TRUE)\n",
    "\n",
    "pred_y_test <- predict(best_model, s = best_lambda, newx = x_test)\n",
    "\n",
    "latest <- data.frame(read.csv(\"test.csv\", colClasses = c(\"id\" = \"character\"))$id, pred_y_test)\n",
    "colnames(latest) <- c(\"id\", \"predictions\")\n",
    "head(latest)\n",
    "\n",
    "write.csv(latest, \"predictions.csv\", row.names = FALSE)"
   ]
  },
  {
   "cell_type": "markdown",
   "id": "99661fca-acfa-4258-8035-facc0c4e34a2",
   "metadata": {},
   "source": [
    "**Principle Component Analysis**"
   ]
  },
  {
   "cell_type": "code",
   "execution_count": 49,
   "id": "890ae839-aa88-471d-9167-df70681f2643",
   "metadata": {},
   "outputs": [],
   "source": [
    "pca_data <- read.csv(\"train.csv\")\n",
    "\n",
    "colnames(pca_data) <- make.names(colnames(pca_data))\n",
    "pca_data <- subset(pca_data, select = -c(X, id, host_id, host_name, neighbourhood, \n",
    "                                             latitude, longitude, bathrooms, bedrooms, amenities))\n",
    "\n",
    "pca_data$price <- as.numeric(gsub(\"[$,]\", \"\", pca_data$price))"
   ]
  },
  {
   "cell_type": "code",
   "execution_count": 44,
   "id": "2b14202c-08a1-446e-970d-7d918c3c0af0",
   "metadata": {},
   "outputs": [
    {
     "data": {
      "text/plain": [
       "Importance of components:\n",
       "                          PC1    PC2    PC3     PC4     PC5     PC6     PC7\n",
       "Standard deviation     2.2479 1.8860 1.6793 1.51215 1.47930 1.32334 1.15567\n",
       "Proportion of Variance 0.2021 0.1423 0.1128 0.09146 0.08753 0.07005 0.05342\n",
       "Cumulative Proportion  0.2021 0.3444 0.4572 0.54866 0.63619 0.70624 0.75967\n",
       "                           PC8     PC9    PC10    PC11    PC12    PC13    PC14\n",
       "Standard deviation     0.97563 0.81865 0.81438 0.76040 0.72375 0.68455 0.65688\n",
       "Proportion of Variance 0.03807 0.02681 0.02653 0.02313 0.02095 0.01874 0.01726\n",
       "Cumulative Proportion  0.79774 0.82455 0.85108 0.87420 0.89516 0.91390 0.93116\n",
       "                          PC15    PC16    PC17    PC18    PC19    PC20    PC21\n",
       "Standard deviation     0.58377 0.55324 0.50139 0.46217 0.37291 0.37156 0.34229\n",
       "Proportion of Variance 0.01363 0.01224 0.01006 0.00854 0.00556 0.00552 0.00469\n",
       "Cumulative Proportion  0.94479 0.95703 0.96709 0.97563 0.98120 0.98672 0.99141\n",
       "                          PC22    PC23    PC24    PC25\n",
       "Standard deviation     0.33504 0.21660 0.20514 0.11664\n",
       "Proportion of Variance 0.00449 0.00188 0.00168 0.00054\n",
       "Cumulative Proportion  0.99590 0.99777 0.99946 1.00000"
      ]
     },
     "metadata": {},
     "output_type": "display_data"
    }
   ],
   "source": [
    "pca_data_numeric <- pca_data %>%\n",
    "  select_if(is.numeric) %>%\n",
    "  mutate_all(~ ifelse(is.na(.), median(., na.rm = TRUE), .))\n",
    "\n",
    "pca_data_scaled <- scale(pca_data_numeric)\n",
    "\n",
    "pca_result <- prcomp(pca_data_scaled, center = TRUE, scale. = TRUE)\n",
    "\n",
    "summary(pca_result)"
   ]
  },
  {
   "cell_type": "code",
   "execution_count": 48,
   "id": "101fe293-bb54-43f3-9d6a-6adabe5b9ca6",
   "metadata": {},
   "outputs": [
    {
     "name": "stdout",
     "output_type": "stream",
     "text": [
      "[1] \"Top variables contributing to PC1:\"\n",
      "          review_scores_rating         review_scores_accuracy \n",
      "                  -0.405411292                   -0.389654941 \n",
      "           review_scores_value    review_scores_communication \n",
      "                  -0.387658085                   -0.369575689 \n",
      "     review_scores_cleanliness          review_scores_checkin \n",
      "                  -0.362047826                   -0.332674046 \n",
      "        review_scores_location                availability_30 \n",
      "                  -0.259761815                    0.106115378 \n",
      "               availability_60                availability_90 \n",
      "                   0.103611020                    0.101367805 \n",
      "              availability_365              reviews_per_month \n",
      "                   0.088803316                   -0.085557021 \n",
      "         number_of_reviews_ltm                monthly_revenue \n",
      "                  -0.082296717                   -0.081814473 \n",
      "     host_total_listings_count              number_of_reviews \n",
      "                   0.077292663                   -0.076320333 \n",
      "           host_listings_count calculated_host_listings_count \n",
      "                   0.069051640                    0.066388411 \n",
      "                  accommodates                           beds \n",
      "                  -0.047443976                   -0.046646474 \n",
      "                minimum_nights         minimum_nights_avg_ntm \n",
      "                   0.024336805                    0.024300783 \n",
      "        maximum_nights_avg_ntm                 maximum_nights \n",
      "                  -0.012220461                    0.004722411 \n",
      "                         price \n",
      "                   0.004423660 \n",
      "[1] \"Top variables contributing to PC2:\"\n",
      "               availability_90                availability_60 \n",
      "                   0.395510888                    0.393498373 \n",
      "               availability_30               availability_365 \n",
      "                   0.374262688                    0.352816692 \n",
      "         number_of_reviews_ltm         minimum_nights_avg_ntm \n",
      "                  -0.250624426                    0.233355224 \n",
      "                minimum_nights              reviews_per_month \n",
      "                   0.231019932                   -0.221911296 \n",
      "             number_of_reviews      host_total_listings_count \n",
      "                  -0.204007750                    0.139386185 \n",
      "           host_listings_count         review_scores_location \n",
      "                   0.133581231                    0.121421336 \n",
      "calculated_host_listings_count           review_scores_rating \n",
      "                   0.119969798                    0.119854140 \n",
      "         review_scores_checkin    review_scores_communication \n",
      "                   0.117197070                    0.107552238 \n",
      "        review_scores_accuracy                           beds \n",
      "                   0.099345749                   -0.099280131 \n",
      "                  accommodates      review_scores_cleanliness \n",
      "                  -0.097428870                    0.095777800 \n",
      "           review_scores_value                monthly_revenue \n",
      "                   0.079511036                   -0.079505743 \n",
      "        maximum_nights_avg_ntm                          price \n",
      "                  -0.067138849                    0.032463825 \n",
      "                maximum_nights \n",
      "                   0.002036205 \n"
     ]
    }
   ],
   "source": [
    "loadings <- pca_result$rotation\n",
    "\n",
    "loadings_pc1_pc2 <- loadings[, 1:7]\n",
    "top_pc1 <- loadings_pc1_pc2[order(abs(loadings_pc1_pc2[, 1]), decreasing = TRUE), 1]\n",
    "top_pc2 <- loadings_pc1_pc2[order(abs(loadings_pc1_pc2[, 2]), decreasing = TRUE), 2]\n",
    "\n",
    "print(\"Top variables contributing to PC1:\")\n",
    "print(top_pc1)\n",
    "\n",
    "print(\"Top variables contributing to PC2:\")\n",
    "print(top_pc2)"
   ]
  },
  {
   "cell_type": "code",
   "execution_count": null,
   "id": "dfbfdd4f-0a4e-4d40-8e26-ebfa60f107d6",
   "metadata": {},
   "outputs": [],
   "source": []
  }
 ],
 "metadata": {
  "kernelspec": {
   "display_name": "R",
   "language": "R",
   "name": "ir"
  },
  "language_info": {
   "codemirror_mode": "r",
   "file_extension": ".r",
   "mimetype": "text/x-r-source",
   "name": "R",
   "pygments_lexer": "r",
   "version": "4.4.1"
  }
 },
 "nbformat": 4,
 "nbformat_minor": 5
}
