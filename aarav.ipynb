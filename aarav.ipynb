{
 "cells": [
  {
   "cell_type": "code",
   "execution_count": 32,
   "id": "b7e46c96-406c-45f2-918e-459dace03548",
   "metadata": {
    "scrolled": true
   },
   "outputs": [
    {
     "name": "stderr",
     "output_type": "stream",
     "text": [
      "Using GitHub PAT from the git credential store.\n",
      "\n",
      "Downloading GitHub repo gbm-developers/gbm3@HEAD\n",
      "\n"
     ]
    },
    {
     "name": "stdout",
     "output_type": "stream",
     "text": [
      "\n"
     ]
    },
    {
     "name": "stderr",
     "output_type": "stream",
     "text": [
      "Skipping 1 packages not available: Rcpp\n",
      "\n"
     ]
    },
    {
     "name": "stdout",
     "output_type": "stream",
     "text": [
      "\u001b[36m──\u001b[39m \u001b[36mR CMD build\u001b[39m \u001b[36m─────────────────────────────────────────────────────────────────\u001b[39m\n",
      "* checking for file ‘/tmp/Rtmpsmo6Hi/remotes6d962734698/gbm-developers-gbm3-e12ab2c/DESCRIPTION’ ... OK\n",
      "* preparing ‘gbm3’:\n",
      "* checking DESCRIPTION meta-information ... OK\n",
      "* cleaning src\n",
      "* checking for LF line-endings in source and make files and shell scripts\n",
      "* checking for empty or unneeded directories\n",
      "* building ‘gbm3_3.0.tar.gz’\n",
      "\n"
     ]
    },
    {
     "name": "stderr",
     "output_type": "stream",
     "text": [
      "Installing package into ‘/home/jupyter/R/x86_64-pc-linux-gnu-library/4.3’\n",
      "(as ‘lib’ is unspecified)\n",
      "\n"
     ]
    },
    {
     "name": "stdout",
     "output_type": "stream",
     "text": [
      "[1] \"Summary of data before preprocessing:\"\n",
      " monthly_revenue    feature1        feature2     \n",
      " Min.   : 312    Min.   :2.100   Min.   :0.0000  \n",
      " 1st Qu.:2144    1st Qu.:3.625   1st Qu.:0.2500  \n",
      " Median :2363    Median :4.600   Median :1.0000  \n",
      " Mean   :2121    Mean   :4.700   Mean   :0.6667  \n",
      " 3rd Qu.:2666    3rd Qu.:6.025   3rd Qu.:1.0000  \n",
      " Max.   :2848    Max.   :7.100   Max.   :1.0000  \n",
      " NA's   :1       NA's   :1       NA's   :1       \n",
      "[1] \"Summary of data after preprocessing:\"\n",
      " monthly_revenue    feature1        feature2     \n",
      " Min.   : 312    Min.   :2.100   Min.   :0.0000  \n",
      " 1st Qu.:2181    1st Qu.:3.750   1st Qu.:0.5000  \n",
      " Median :2363    Median :4.600   Median :1.0000  \n",
      " Mean   :2155    Mean   :4.686   Mean   :0.7143  \n",
      " 3rd Qu.:2601    3rd Qu.:5.750   3rd Qu.:1.0000  \n",
      " Max.   :2848    Max.   :7.100   Max.   :1.0000  \n"
     ]
    },
    {
     "ename": "ERROR",
     "evalue": "Error: Required packages are missing: gbm\n",
     "output_type": "error",
     "traceback": [
      "Error: Required packages are missing: gbm\nTraceback:\n",
      "1. train(monthly_revenue ~ ., data = trainData, method = \"gbm\", \n .     trControl = control, verbose = FALSE)",
      "2. train.formula(monthly_revenue ~ ., data = trainData, method = \"gbm\", \n .     trControl = control, verbose = FALSE)",
      "3. train(x, y, weights = w, ...)",
      "4. train.default(x, y, weights = w, ...)",
      "5. checkInstall(models$library)",
      "6. stop(\"Required packages are missing: \", pkList, call. = FALSE)"
     ]
    }
   ],
   "source": [
    "# Load required libraries\n",
    "devtools::install_github(\"gbm-developers/gbm3\")\n",
    "library(gbm3)\n",
    "library(caret)\n",
    "\n",
    "\n",
    "# Simulated data generation (replace this with your actual data)\n",
    "# Assume trainData is your training dataset\n",
    "# trainData <- read.csv(\"your_data.csv\") # Uncomment if using external data\n",
    "trainData <- data.frame(\n",
    "  monthly_revenue = c(2108, 2730, 2254, NA, 2472, 2848, 312),\n",
    "  feature1 = c(3.5, 2.1, NA, 4.0, 5.2, 6.3, 7.1),\n",
    "  feature2 = c(1, NA, 0, 1, 0, 1, 1)\n",
    ")\n",
    "\n",
    "# Inspect the dataset for missing values\n",
    "print(\"Summary of data before preprocessing:\")\n",
    "print(summary(trainData))\n",
    "\n",
    "# Handle missing values\n",
    "# Option 1: Remove rows with missing values\n",
    "# trainData <- na.omit(trainData)\n",
    "\n",
    "# Option 2: Impute missing values\n",
    "# Here we use median for simplicity, but you can use more advanced imputation methods\n",
    "preProcess_missing <- preProcess(trainData, method = 'medianImpute')\n",
    "trainData <- predict(preProcess_missing, trainData)\n",
    "\n",
    "# Convert target variable to numeric if necessary\n",
    "trainData$monthly_revenue <- as.numeric(trainData$monthly_revenue)\n",
    "\n",
    "# Ensure no missing values remain\n",
    "if (any(is.na(trainData))) {\n",
    "  stop(\"There are still missing values in the data. Please handle them before proceeding.\")\n",
    "}\n",
    "\n",
    "# Summary after preprocessing\n",
    "print(\"Summary of data after preprocessing:\")\n",
    "print(summary(trainData))\n",
    "\n",
    "# Train-control setup for cross-validation\n",
    "control <- trainControl(method = \"cv\", number = 5, verboseIter = TRUE)\n",
    "\n",
    "# Train a gradient boosting model\n",
    "gbm_model <- train(\n",
    "  monthly_revenue ~ ., \n",
    "  data = trainData, \n",
    "  method = \"gbm\", \n",
    "  trControl = control, \n",
    "  verbose = FALSE\n",
    ")\n",
    "\n",
    "# Output model summary\n",
    "print(gbm_model)\n"
   ]
  },
  {
   "cell_type": "code",
   "execution_count": null,
   "id": "f74a0d29-a27d-4042-82b6-da603f113c43",
   "metadata": {},
   "outputs": [],
   "source": []
  },
  {
   "cell_type": "code",
   "execution_count": null,
   "id": "5aeef8d5-ae5e-4113-849a-1d378d60adeb",
   "metadata": {},
   "outputs": [],
   "source": []
  }
 ],
 "metadata": {
  "kernelspec": {
   "display_name": "R",
   "language": "R",
   "name": "ir"
  },
  "language_info": {
   "codemirror_mode": "r",
   "file_extension": ".r",
   "mimetype": "text/x-r-source",
   "name": "R",
   "pygments_lexer": "r",
   "version": "4.3.3"
  }
 },
 "nbformat": 4,
 "nbformat_minor": 5
}
